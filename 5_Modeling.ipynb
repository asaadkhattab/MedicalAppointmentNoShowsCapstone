{
 "cells": [
  {
   "cell_type": "markdown",
   "metadata": {},
   "source": [
    "# Medical Appointment No Shows Capstone"
   ]
  },
  {
   "cell_type": "markdown",
   "metadata": {},
   "source": [
    "## 5. MODELING\n",
    "> \"All models are wrong, but some are useful.\" – George Box"
   ]
  },
  {
   "cell_type": "code",
   "execution_count": 169,
   "metadata": {},
   "outputs": [],
   "source": [
    "#Import necessary libraries\n",
    "import pandas as pd\n",
    "import numpy as np\n",
    "\n",
    "# Plotting modules\n",
    "import matplotlib.pyplot as plt\n",
    "import seaborn as sns\n",
    "plt.style.use('ggplot')\n",
    "\n",
    "\n",
    "# Analysing datetime\n",
    "from datetime import datetime as dt\n",
    "\n",
    "# File system manangement\n",
    "import os,sys\n",
    "\n",
    "# Suppress warnings \n",
    "import warnings\n",
    "warnings.filterwarnings('ignore')\n",
    "\n",
    "from IPython.core.interactiveshell import InteractiveShell  \n",
    "InteractiveShell.ast_node_interactivity = \"all\"\n",
    "%matplotlib inline"
   ]
  },
  {
   "cell_type": "code",
   "execution_count": 19,
   "metadata": {},
   "outputs": [],
   "source": [
    "#SKLEARN \n",
    "\n",
    "#MODEL_SELECTION\n",
    "from sklearn.model_selection import train_test_split\n",
    "from sklearn.model_selection import cross_val_score\n",
    "from sklearn.model_selection import GridSearchCV\n",
    "from sklearn.model_selection import RandomizedSearchCV\n",
    "\n",
    "from sklearn.tree import DecisionTreeClassifier\n",
    "\n",
    "#LINEAR_MODEL\n",
    "from sklearn.linear_model import LogisticRegression\n",
    "from sklearn.linear_model import LinearRegression\n",
    "from sklearn.linear_model import Lasso, Ridge\n",
    "\n",
    "\n",
    "#ENSEMBLE \n",
    "from sklearn.ensemble import VotingClassifier\n",
    "from sklearn.ensemble import RandomForestClassifier\n",
    "from sklearn.ensemble import AdaBoostClassifier\n",
    "from sklearn.ensemble import GradientBoostingClassifier\n",
    "from sklearn.ensemble import BaggingClassifier\n",
    "\n",
    "#SVM\n",
    "from sklearn.svm import SVC\n",
    "\n",
    "from sklearn.neighbors import KNeighborsClassifier\n",
    "\n",
    "from sklearn.naive_bayes import GaussianNB\n",
    "from sklearn.naive_bayes import MultinomialNB\n",
    "\n",
    "#METRICS\n",
    "from sklearn.metrics import r2_score \n",
    "from sklearn.metrics import accuracy_score\n",
    "from sklearn.metrics import make_scorer\n",
    "from sklearn.metrics import balanced_accuracy_score, precision_score\n",
    "from sklearn.metrics import roc_curve, roc_auc_score, auc\n",
    "from sklearn.metrics import explained_variance_score\n",
    "from sklearn.metrics import mean_squared_error, mean_absolute_error\n",
    "from sklearn.metrics import classification_report, confusion_matrix\n",
    "\n",
    "\n",
    "\n",
    "#PIPELINE \n",
    "from sklearn.pipeline import Pipeline\n",
    "from sklearn.pipeline import make_pipeline as mpl\n",
    "\n",
    "import pandas.util.testing as tm\n",
    "from xgboost import XGBClassifier\n",
    "from sklearn.preprocessing import StandardScaler"
   ]
  },
  {
   "cell_type": "code",
   "execution_count": 20,
   "metadata": {},
   "outputs": [],
   "source": [
    "#SCIPY\n",
    "from scipy.stats import randint"
   ]
  },
  {
   "cell_type": "code",
   "execution_count": null,
   "metadata": {},
   "outputs": [],
   "source": []
  },
  {
   "cell_type": "markdown",
   "metadata": {},
   "source": [
    "## Load Data"
   ]
  },
  {
   "cell_type": "code",
   "execution_count": 4,
   "metadata": {},
   "outputs": [
    {
     "data": {
      "text/html": [
       "<div>\n",
       "<style scoped>\n",
       "    .dataframe tbody tr th:only-of-type {\n",
       "        vertical-align: middle;\n",
       "    }\n",
       "\n",
       "    .dataframe tbody tr th {\n",
       "        vertical-align: top;\n",
       "    }\n",
       "\n",
       "    .dataframe thead th {\n",
       "        text-align: right;\n",
       "    }\n",
       "</style>\n",
       "<table border=\"1\" class=\"dataframe\">\n",
       "  <thead>\n",
       "    <tr style=\"text-align: right;\">\n",
       "      <th></th>\n",
       "      <th>Age</th>\n",
       "      <th>Scholarship</th>\n",
       "      <th>Hypertension</th>\n",
       "      <th>Diabetes</th>\n",
       "      <th>Alcoholism</th>\n",
       "      <th>Handicap</th>\n",
       "      <th>SMSSent</th>\n",
       "      <th>WaitingDays</th>\n",
       "      <th>ScheduledHour</th>\n",
       "      <th>ScheduledDay_Y</th>\n",
       "      <th>...</th>\n",
       "      <th>AppointmentDayWeekName_5</th>\n",
       "      <th>ScheduledDayMonthName_1</th>\n",
       "      <th>ScheduledDayMonthName_2</th>\n",
       "      <th>ScheduledDayMonthName_3</th>\n",
       "      <th>ScheduledDayMonthName_4</th>\n",
       "      <th>ScheduledDayMonthName_5</th>\n",
       "      <th>ScheduledDayMonthName_6</th>\n",
       "      <th>ScheduledDayMonthName_7</th>\n",
       "      <th>AppointmentDayMonthName_1</th>\n",
       "      <th>AppointmentDayMonthName_2</th>\n",
       "    </tr>\n",
       "  </thead>\n",
       "  <tbody>\n",
       "    <tr>\n",
       "      <th>109902</th>\n",
       "      <td>56</td>\n",
       "      <td>0</td>\n",
       "      <td>1</td>\n",
       "      <td>1</td>\n",
       "      <td>1</td>\n",
       "      <td>0</td>\n",
       "      <td>0</td>\n",
       "      <td>1</td>\n",
       "      <td>7</td>\n",
       "      <td>2016</td>\n",
       "      <td>...</td>\n",
       "      <td>0.0</td>\n",
       "      <td>0.0</td>\n",
       "      <td>0.0</td>\n",
       "      <td>0.0</td>\n",
       "      <td>1.0</td>\n",
       "      <td>0.0</td>\n",
       "      <td>0.0</td>\n",
       "      <td>0.0</td>\n",
       "      <td>1.0</td>\n",
       "      <td>0.0</td>\n",
       "    </tr>\n",
       "    <tr>\n",
       "      <th>76484</th>\n",
       "      <td>6</td>\n",
       "      <td>0</td>\n",
       "      <td>0</td>\n",
       "      <td>0</td>\n",
       "      <td>0</td>\n",
       "      <td>0</td>\n",
       "      <td>0</td>\n",
       "      <td>0</td>\n",
       "      <td>7</td>\n",
       "      <td>2016</td>\n",
       "      <td>...</td>\n",
       "      <td>0.0</td>\n",
       "      <td>0.0</td>\n",
       "      <td>0.0</td>\n",
       "      <td>0.0</td>\n",
       "      <td>0.0</td>\n",
       "      <td>0.0</td>\n",
       "      <td>1.0</td>\n",
       "      <td>0.0</td>\n",
       "      <td>0.0</td>\n",
       "      <td>1.0</td>\n",
       "    </tr>\n",
       "    <tr>\n",
       "      <th>46268</th>\n",
       "      <td>68</td>\n",
       "      <td>0</td>\n",
       "      <td>1</td>\n",
       "      <td>0</td>\n",
       "      <td>0</td>\n",
       "      <td>0</td>\n",
       "      <td>1</td>\n",
       "      <td>5</td>\n",
       "      <td>14</td>\n",
       "      <td>2016</td>\n",
       "      <td>...</td>\n",
       "      <td>0.0</td>\n",
       "      <td>0.0</td>\n",
       "      <td>0.0</td>\n",
       "      <td>0.0</td>\n",
       "      <td>0.0</td>\n",
       "      <td>0.0</td>\n",
       "      <td>1.0</td>\n",
       "      <td>0.0</td>\n",
       "      <td>0.0</td>\n",
       "      <td>1.0</td>\n",
       "    </tr>\n",
       "    <tr>\n",
       "      <th>101532</th>\n",
       "      <td>14</td>\n",
       "      <td>0</td>\n",
       "      <td>0</td>\n",
       "      <td>0</td>\n",
       "      <td>0</td>\n",
       "      <td>0</td>\n",
       "      <td>1</td>\n",
       "      <td>28</td>\n",
       "      <td>6</td>\n",
       "      <td>2016</td>\n",
       "      <td>...</td>\n",
       "      <td>1.0</td>\n",
       "      <td>0.0</td>\n",
       "      <td>0.0</td>\n",
       "      <td>0.0</td>\n",
       "      <td>0.0</td>\n",
       "      <td>0.0</td>\n",
       "      <td>1.0</td>\n",
       "      <td>0.0</td>\n",
       "      <td>1.0</td>\n",
       "      <td>0.0</td>\n",
       "    </tr>\n",
       "    <tr>\n",
       "      <th>6626</th>\n",
       "      <td>30</td>\n",
       "      <td>0</td>\n",
       "      <td>0</td>\n",
       "      <td>0</td>\n",
       "      <td>0</td>\n",
       "      <td>0</td>\n",
       "      <td>0</td>\n",
       "      <td>1</td>\n",
       "      <td>13</td>\n",
       "      <td>2016</td>\n",
       "      <td>...</td>\n",
       "      <td>0.0</td>\n",
       "      <td>0.0</td>\n",
       "      <td>0.0</td>\n",
       "      <td>0.0</td>\n",
       "      <td>0.0</td>\n",
       "      <td>0.0</td>\n",
       "      <td>1.0</td>\n",
       "      <td>0.0</td>\n",
       "      <td>0.0</td>\n",
       "      <td>1.0</td>\n",
       "    </tr>\n",
       "  </tbody>\n",
       "</table>\n",
       "<p>5 rows × 113 columns</p>\n",
       "</div>"
      ],
      "text/plain": [
       "        Age  Scholarship  Hypertension  Diabetes  Alcoholism  Handicap  \\\n",
       "109902   56            0             1         1           1         0   \n",
       "76484     6            0             0         0           0         0   \n",
       "46268    68            0             1         0           0         0   \n",
       "101532   14            0             0         0           0         0   \n",
       "6626     30            0             0         0           0         0   \n",
       "\n",
       "        SMSSent  WaitingDays  ScheduledHour  ScheduledDay_Y  ...  \\\n",
       "109902        0            1              7            2016  ...   \n",
       "76484         0            0              7            2016  ...   \n",
       "46268         1            5             14            2016  ...   \n",
       "101532        1           28              6            2016  ...   \n",
       "6626          0            1             13            2016  ...   \n",
       "\n",
       "        AppointmentDayWeekName_5  ScheduledDayMonthName_1  \\\n",
       "109902                       0.0                      0.0   \n",
       "76484                        0.0                      0.0   \n",
       "46268                        0.0                      0.0   \n",
       "101532                       1.0                      0.0   \n",
       "6626                         0.0                      0.0   \n",
       "\n",
       "        ScheduledDayMonthName_2  ScheduledDayMonthName_3  \\\n",
       "109902                      0.0                      0.0   \n",
       "76484                       0.0                      0.0   \n",
       "46268                       0.0                      0.0   \n",
       "101532                      0.0                      0.0   \n",
       "6626                        0.0                      0.0   \n",
       "\n",
       "        ScheduledDayMonthName_4  ScheduledDayMonthName_5  \\\n",
       "109902                      1.0                      0.0   \n",
       "76484                       0.0                      0.0   \n",
       "46268                       0.0                      0.0   \n",
       "101532                      0.0                      0.0   \n",
       "6626                        0.0                      0.0   \n",
       "\n",
       "        ScheduledDayMonthName_6  ScheduledDayMonthName_7  \\\n",
       "109902                      0.0                      0.0   \n",
       "76484                       1.0                      0.0   \n",
       "46268                       1.0                      0.0   \n",
       "101532                      1.0                      0.0   \n",
       "6626                        1.0                      0.0   \n",
       "\n",
       "        AppointmentDayMonthName_1  AppointmentDayMonthName_2  \n",
       "109902                        1.0                        0.0  \n",
       "76484                         0.0                        1.0  \n",
       "46268                         0.0                        1.0  \n",
       "101532                        1.0                        0.0  \n",
       "6626                          0.0                        1.0  \n",
       "\n",
       "[5 rows x 113 columns]"
      ]
     },
     "execution_count": 4,
     "metadata": {},
     "output_type": "execute_result"
    }
   ],
   "source": [
    "path = 'data/df_ohe.csv'\n",
    "df_ohe = pd.read_csv(path, index_col=None) \n",
    "df_ohe.sample(5)"
   ]
  },
  {
   "cell_type": "markdown",
   "metadata": {},
   "source": [
    "### Train/Test Data"
   ]
  },
  {
   "cell_type": "code",
   "execution_count": 5,
   "metadata": {},
   "outputs": [
    {
     "name": "stdout",
     "output_type": "stream",
     "text": [
      "(82887, 112)\n",
      "(82887,)\n",
      "(27630, 112)\n",
      "(27630,)\n"
     ]
    }
   ],
   "source": [
    "X = df_ohe.drop(['NoShow_1'], axis = 1)\n",
    "y = df_ohe['NoShow_1']\n",
    "\n",
    "SEED = 42\n",
    "TS = 0.25\n",
    "\n",
    "# Create training and test sets\n",
    "X_train, X_test, y_train, y_test = \\\n",
    "    train_test_split(X, y, test_size = TS, random_state=SEED, stratify=y)\n",
    "\n",
    "#Feature Scaling to prevent information leakage\n",
    "sc = StandardScaler()\n",
    "X_train = sc.fit_transform(X_train)\n",
    "X_test = sc.transform(X_test)\n",
    "\n",
    "print (X_train.shape)\n",
    "print (y_train.shape)\n",
    "print (X_test.shape)\n",
    "print (y_test.shape)"
   ]
  },
  {
   "cell_type": "code",
   "execution_count": null,
   "metadata": {},
   "outputs": [],
   "source": []
  },
  {
   "cell_type": "code",
   "execution_count": null,
   "metadata": {},
   "outputs": [],
   "source": []
  },
  {
   "cell_type": "markdown",
   "metadata": {},
   "source": [
    "___"
   ]
  },
  {
   "cell_type": "markdown",
   "metadata": {},
   "source": [
    "# 1. K-NEAREST NEIGHBORS\n",
    "- Model That classifies data based on its distance to training set data. A new data point is assigned a label based on the class that the majority of surrounding data points belong to. \n",
    "- “The k-nearest neighbors algorithm (KNN) is a non-parametric method used for classification and regression. In both cases, the input consists of the k closest training examples in the feature space. The output depends on whether k-NN is used for classification or regression”-Wikipedia"
   ]
  },
  {
   "cell_type": "code",
   "execution_count": 160,
   "metadata": {},
   "outputs": [
    {
     "data": {
      "text/plain": [
       "Pipeline(steps=[('knn', KNeighborsClassifier())])"
      ]
     },
     "execution_count": 160,
     "metadata": {},
     "output_type": "execute_result"
    },
    {
     "name": "stdout",
     "output_type": "stream",
     "text": [
      "Confusion Matrix \n",
      " [[20383  1668]\n",
      " [ 4451  1128]]\n",
      "Classification Report \n",
      "               precision    recall  f1-score   support\n",
      "\n",
      "         0.0       0.82      0.92      0.87     22051\n",
      "         1.0       0.40      0.20      0.27      5579\n",
      "\n",
      "    accuracy                           0.78     27630\n",
      "   macro avg       0.61      0.56      0.57     27630\n",
      "weighted avg       0.74      0.78      0.75     27630\n",
      "\n",
      "KNN Score: 83.75\n",
      "KNN Test Score: 83.75\n",
      "ROC Score: 65.983\n"
     ]
    }
   ],
   "source": [
    "MODEL_PARAMS = {\n",
    "    \"n_neighbors\": 5,\n",
    "    \"weights\":'uniform',\n",
    "    \"algorithm\": 'auto',\n",
    "    \"leaf_size\":30,\n",
    "    \"p\":2,\n",
    "    \"metric\":'minkowski'\n",
    "}\n",
    "\n",
    "steps = [('knn', KNeighborsClassifier(**MODEL_PARAMS) )]\n",
    "\n",
    "pipeline = Pipeline(steps)\n",
    "\n",
    "# Fit/Train the classifier to the Training data.\n",
    "pipeline.fit(X_train,y_train)  \n",
    "\n",
    "# Predict the labels for the training data X\n",
    "y_pred = pipeline.predict(X_test)  \n",
    "y_pred_proba = pipeline.predict_proba(X_test)[:,1]\n",
    "\n",
    "# Generate the confusion matrix and classification report\n",
    "print(\"Confusion Matrix \\n\", confusion_matrix(y_test,y_pred))\n",
    "print(\"Classification Report \\n\",classification_report(y_test,y_pred))\n",
    "\n",
    "\n",
    "knn_score = round(knn.score(X_train, y_train) * 100, 2)\n",
    "print(\"KNN Score:\", knn_score)\n",
    "\n",
    "knn_test_score = round(knn.score(X_test, y_test) * 100, 2)\n",
    "print(\"KNN Test Score:\", knn_score)\n",
    "\n",
    "\n",
    "#Checking performance on our model with ROC Score.\n",
    "knn_roc_score = round(roc_auc_score(y_test,y_pred_proba)*100,3)\n",
    "print(\"ROC Score:\", knn_roc_score)"
   ]
  },
  {
   "cell_type": "markdown",
   "metadata": {},
   "source": [
    "#### Overfitting and underfitting"
   ]
  },
  {
   "cell_type": "code",
   "execution_count": null,
   "metadata": {},
   "outputs": [],
   "source": [
    "# Setup arrays to store train and test accuracies\n",
    "neighbors = np.arange(1, 9)\n",
    "train_accuracy = np.empty(len(neighbors))\n",
    "test_accuracy = np.empty(len(neighbors))\n",
    "\n",
    "# Loop over different values of k\n",
    "for i, k in enumerate(neighbors):\n",
    "    # Setup a k-NN Classifier with k neighbors: knn\n",
    "    knn = KNeighborsClassifier(n_neighbors=k)\n",
    "\n",
    "    # Fit the classifier to the training data\n",
    "    knn.fit(X_train, y_train)\n",
    "    \n",
    "    #Compute accuracy on the training set\n",
    "    train_accuracy[i] = knn.score(X_train,y_train)\n",
    "\n",
    "    #Compute accuracy on the testing set\n",
    "    test_accuracy[i] = knn.score(X_test, y_test)\n",
    "\n",
    "# Generate plot\n",
    "plt.title('k-NN: Varying Number of Neighbors')\n",
    "plt.plot(neighbors, test_accuracy, label = 'Testing Accuracy')\n",
    "plt.plot(neighbors, train_accuracy, label = 'Training Accuracy')\n",
    "plt.legend()\n",
    "plt.xlabel('Number of Neighbors')\n",
    "plt.ylabel('Accuracy')\n",
    "plt.show()\n"
   ]
  },
  {
   "cell_type": "code",
   "execution_count": null,
   "metadata": {},
   "outputs": [],
   "source": [
    "param_grid = {'n_neighbors': np.arange(1,200)}\n",
    "knn = KNeighborsClassifier()\n",
    "knn_cv = GridSearchCV(knn, param_grid,cv=5)\n",
    "knn_cv.fit(X_train,y_train)\n",
    "knn_cv.best_params_"
   ]
  },
  {
   "cell_type": "markdown",
   "metadata": {},
   "source": [
    "___"
   ]
  },
  {
   "cell_type": "markdown",
   "metadata": {},
   "source": [
    "# 2. Logistic Regression Model\n",
    "Logistic regression is a supervised learning classification algorithm used to predict the probability of a target variable. The nature of target or dependent variable is dichotomous, which means there would be only two possible classes."
   ]
  },
  {
   "cell_type": "code",
   "execution_count": 205,
   "metadata": {},
   "outputs": [
    {
     "data": {
      "text/plain": [
       "LogisticRegression()"
      ]
     },
     "execution_count": 205,
     "metadata": {},
     "output_type": "execute_result"
    },
    {
     "name": "stdout",
     "output_type": "stream",
     "text": [
      "[[22002    49]\n",
      " [ 5529    50]]\n",
      "              precision    recall  f1-score   support\n",
      "\n",
      "         0.0       0.80      1.00      0.89     22051\n",
      "         1.0       0.51      0.01      0.02      5579\n",
      "\n",
      "    accuracy                           0.80     27630\n",
      "   macro avg       0.65      0.50      0.45     27630\n",
      "weighted avg       0.74      0.80      0.71     27630\n",
      "\n",
      "Logistic Regression Training Score: \n",
      " 79.75\n",
      "Logistic Regression Test Score: \n",
      " 79.81\n",
      "Accuracy: \n",
      " 0.7981179876945349\n",
      "ROC Score: 71.421\n"
     ]
    }
   ],
   "source": [
    "MODEL_PARAMS = {\n",
    "    \"solver\":'lbfgs',\n",
    "    \"penalty\":'l2',\n",
    "    \"n_jobs\":None,\n",
    "    \"verbose\":0,\n",
    "    #\"max_iter\":200  \n",
    "}\n",
    "\n",
    "# Create logistic regression model\n",
    "logreg = LogisticRegression(**MODEL_PARAMS)\n",
    "\n",
    "# Train the model using the training sets\n",
    "logreg.fit(X_train, y_train)\n",
    "\n",
    "# Make predictions using the testing set\n",
    "y_pred = logreg.predict(X_test)\n",
    "y_pred_proba = logreg.predict_proba(X_test)[:,1]\n",
    "\n",
    "# Compute and print the confusion matrix and classification report\n",
    "print(confusion_matrix(y_test, y_pred))\n",
    "print(classification_report(y_test, y_pred))\n",
    "\n",
    "logreg_score = round(logreg.score(X_train, y_train) * 100, 2)\n",
    "logreg_test_score = round(logreg.score(X_test, y_test) * 100, 2)\n",
    "\n",
    "print('Logistic Regression Training Score: \\n', logreg_score)\n",
    "print('Logistic Regression Test Score: \\n', logreg_test_score)\n",
    "\n",
    "print('Accuracy: \\n', accuracy_score(y_test,y_pred))\n",
    "\n",
    "#Checking performance on our model with ROC Score.\n",
    "logreg_roc_score = round(roc_auc_score(y_test, y_pred_proba)*100,3)\n",
    "print(\"ROC Score:\", logreg_roc_score)"
   ]
  },
  {
   "cell_type": "code",
   "execution_count": 207,
   "metadata": {},
   "outputs": [
    {
     "name": "stdout",
     "output_type": "stream",
     "text": [
      "71.39965783205375\n",
      "Average 5-Fold CV Score: 0.7139965783205375\n"
     ]
    }
   ],
   "source": [
    "# 10-fold cross-validation scores:\n",
    "cv_scores = cross_val_score(logreg, X_train, y_train, cv=10,scoring='roc_auc').mean()\n",
    "print(cv_scores*100)\n",
    "print(\"Average 5-Fold CV Score: {}\".format(np.mean(cv_scores)))"
   ]
  },
  {
   "cell_type": "markdown",
   "metadata": {},
   "source": [
    "#### Plot ROC curve"
   ]
  },
  {
   "cell_type": "code",
   "execution_count": 208,
   "metadata": {},
   "outputs": [
    {
     "data": {
      "text/plain": [
       "[<matplotlib.lines.Line2D at 0x7f87bf56e150>]"
      ]
     },
     "execution_count": 208,
     "metadata": {},
     "output_type": "execute_result"
    },
    {
     "data": {
      "text/plain": [
       "[<matplotlib.lines.Line2D at 0x7f87bf56e550>]"
      ]
     },
     "execution_count": 208,
     "metadata": {},
     "output_type": "execute_result"
    },
    {
     "data": {
      "text/plain": [
       "<matplotlib.legend.Legend at 0x7f87bf56e3d0>"
      ]
     },
     "execution_count": 208,
     "metadata": {},
     "output_type": "execute_result"
    },
    {
     "data": {
      "text/plain": [
       "Text(0.5, 0, 'False Positive Rate')"
      ]
     },
     "execution_count": 208,
     "metadata": {},
     "output_type": "execute_result"
    },
    {
     "data": {
      "text/plain": [
       "Text(0, 0.5, 'True Positive Rate')"
      ]
     },
     "execution_count": 208,
     "metadata": {},
     "output_type": "execute_result"
    },
    {
     "data": {
      "text/plain": [
       "Text(0.5, 1.0, 'ROC Curve')"
      ]
     },
     "execution_count": 208,
     "metadata": {},
     "output_type": "execute_result"
    },
    {
     "data": {
      "image/png": "[encoded data removed]",
      "text/plain": [
       "<Figure size 432x288 with 1 Axes>"
      ]
     },
     "metadata": {
      "needs_background": "light"
     },
     "output_type": "display_data"
    }
   ],
   "source": [
    "# Generate ROC curve values: fpr, tpr, thresholds\n",
    "fpr,tpr, thresholds = roc_curve(y_test,y_pred_prob)\n",
    "\n",
    "# Plot ROC curve\n",
    "plt.plot([0, 1], [0, 1], 'k--', label='naive classifier')\n",
    "plt.plot(fpr,tpr, label='model')\n",
    "\n",
    "\n",
    "\n",
    "plt.legend(prop={'size':10})\n",
    "plt.xlabel('False Positive Rate', size=12)\n",
    "plt.ylabel('True Positive Rate', size=12)\n",
    "plt.title('ROC Curve', size=15)\n",
    "plt.show()"
   ]
  },
  {
   "cell_type": "markdown",
   "metadata": {},
   "source": [
    "___"
   ]
  },
  {
   "cell_type": "markdown",
   "metadata": {},
   "source": [
    "## 3. Gaussian Naive Bayes"
   ]
  },
  {
   "cell_type": "code",
   "execution_count": 211,
   "metadata": {},
   "outputs": [
    {
     "data": {
      "text/plain": [
       "GaussianNB()"
      ]
     },
     "execution_count": 211,
     "metadata": {},
     "output_type": "execute_result"
    },
    {
     "name": "stdout",
     "output_type": "stream",
     "text": [
      "[[ 2147 19904]\n",
      " [  406  5173]]\n",
      "              precision    recall  f1-score   support\n",
      "\n",
      "         0.0       0.84      0.10      0.17     22051\n",
      "         1.0       0.21      0.93      0.34      5579\n",
      "\n",
      "    accuracy                           0.26     27630\n",
      "   macro avg       0.52      0.51      0.26     27630\n",
      "weighted avg       0.71      0.26      0.21     27630\n",
      "\n",
      "Gaussian Score: \n",
      " 26.75\n",
      "Gaussian Test Score: \n",
      " 26.49\n",
      "Accuracy: \n",
      " 0.26492942453854507\n",
      "ROC Score: 57.992\n"
     ]
    }
   ],
   "source": [
    "gaussian = GaussianNB()\n",
    "gaussian.fit(X_train, y_train)\n",
    "\n",
    "#Predict Output\n",
    "y_pred = gaussian.predict(X_test)\n",
    "y_pred_prob = gaussian.predict_proba(X_test)[:,1]\n",
    "\n",
    "gauss_score = round(gaussian.score(X_train, y_train) * 100, 2)\n",
    "gauss_test_score = round(gaussian.score(X_test, y_test) * 100, 2)\n",
    "\n",
    "print(confusion_matrix(y_test,y_pred))\n",
    "print(classification_report(y_test,y_pred))\n",
    "\n",
    "\n",
    "print('Gaussian Score: \\n', gauss_score)\n",
    "print('Gaussian Test Score: \\n', gauss_test_score)\n",
    "print('Accuracy: \\n', accuracy_score(y_test,y_pred))\n",
    "\n",
    "#Checking performance on our model with ROC Score.\n",
    "gauss_roc_score = round(roc_auc_score(y_test, y_pred_prob)*100,3)\n",
    "print(\"ROC Score:\", gauss_roc_score)"
   ]
  },
  {
   "cell_type": "code",
   "execution_count": null,
   "metadata": {},
   "outputs": [],
   "source": []
  },
  {
   "cell_type": "markdown",
   "metadata": {},
   "source": [
    "___"
   ]
  },
  {
   "cell_type": "markdown",
   "metadata": {},
   "source": [
    "# Boosting\n",
    "- Boosting: Ensemble method combining several weak learners to form a strong learner.\n",
    "- Weak learner: Model doing slightly better than random guessing.\n",
    "* Example of weak learner: Decision stump (CART whose maximum depth is 1).\n"
   ]
  },
  {
   "cell_type": "markdown",
   "metadata": {},
   "source": [
    "# 4. AdaBoost Model"
   ]
  },
  {
   "cell_type": "code",
   "execution_count": 212,
   "metadata": {},
   "outputs": [
    {
     "data": {
      "text/plain": [
       "AdaBoostClassifier(base_estimator=DecisionTreeClassifier(max_depth=1,\n",
       "                                                         random_state=42),\n",
       "                   n_estimators=100)"
      ]
     },
     "execution_count": 212,
     "metadata": {},
     "output_type": "execute_result"
    },
    {
     "name": "stdout",
     "output_type": "stream",
     "text": [
      "Confusion Matrix \n",
      " [[21958    93]\n",
      " [ 5501    78]]\n",
      "Classification Report \n",
      "               precision    recall  f1-score   support\n",
      "\n",
      "         0.0       0.80      1.00      0.89     22051\n",
      "         1.0       0.46      0.01      0.03      5579\n",
      "\n",
      "    accuracy                           0.80     27630\n",
      "   macro avg       0.63      0.50      0.46     27630\n",
      "weighted avg       0.73      0.80      0.71     27630\n",
      "\n",
      "AdaBoost Training Score:  79.81\n",
      "AdaBoost Test Score:  79.75\n",
      "ROC Score: 72.025\n"
     ]
    }
   ],
   "source": [
    "MODEL_PARAMS = {\n",
    "    \"max_depth\": 1,\n",
    "    \"random_state\": SEED\n",
    "}\n",
    "\n",
    "dt = DecisionTreeClassifier(**MODEL_PARAMS)\n",
    "\n",
    "adb = AdaBoostClassifier(base_estimator=dt,n_estimators=100)\n",
    "\n",
    "adb.fit(X_train,y_train)\n",
    "\n",
    "y_pred = adb.predict(X_test)\n",
    "y_pred_proba = adb.predict_proba(X_test)[:,1]\n",
    "\n",
    "# Generate the confusion matrix and classification report\n",
    "print(\"Confusion Matrix \\n\", confusion_matrix(y_test,y_pred))\n",
    "print(\"Classification Report \\n\",classification_report(y_test,y_pred))\n",
    "\n",
    "adb_score = round(adb.score(X_train, y_train) * 100, 2)\n",
    "adb_test_score = round(adb.score(X_test, y_test) * 100, 2)\n",
    "\n",
    "print('AdaBoost Training Score: ', adb_score)\n",
    "print('AdaBoost Test Score: ', adb_test_score)\n",
    "\n",
    "#Checking performance on our model with ROC Score.\n",
    "adb_roc_score = round(roc_auc_score(y_test, y_pred_proba)*100,3)\n",
    "print(\"ROC Score:\", adb_roc_score)"
   ]
  },
  {
   "cell_type": "code",
   "execution_count": 89,
   "metadata": {},
   "outputs": [
    {
     "data": {
      "text/plain": [
       "[<matplotlib.lines.Line2D at 0x7f8a316f7b10>]"
      ]
     },
     "execution_count": 89,
     "metadata": {},
     "output_type": "execute_result"
    },
    {
     "data": {
      "text/plain": [
       "[<matplotlib.lines.Line2D at 0x7f8a31701090>]"
      ]
     },
     "execution_count": 89,
     "metadata": {},
     "output_type": "execute_result"
    },
    {
     "data": {
      "text/plain": [
       "Text(0.5, 0, 'False Positive Rate')"
      ]
     },
     "execution_count": 89,
     "metadata": {},
     "output_type": "execute_result"
    },
    {
     "data": {
      "text/plain": [
       "Text(0, 0.5, 'True Positive Rate')"
      ]
     },
     "execution_count": 89,
     "metadata": {},
     "output_type": "execute_result"
    },
    {
     "data": {
      "text/plain": [
       "Text(0.5, 1.0, 'ROC Curve')"
      ]
     },
     "execution_count": 89,
     "metadata": {},
     "output_type": "execute_result"
    },
    {
     "data": {
      "image/png": "[encoded data removed]",
      "text/plain": [
       "<Figure size 432x288 with 1 Axes>"
      ]
     },
     "metadata": {
      "needs_background": "light"
     },
     "output_type": "display_data"
    },
    {
     "data": {
      "text/plain": [
       "0.5799234626366687"
      ]
     },
     "execution_count": 89,
     "metadata": {},
     "output_type": "execute_result"
    }
   ],
   "source": [
    "# Generate ROC curve values: fpr, tpr, thresholds\n",
    "fpr,tpr, thresholds = roc_curve(y_test,y_pred_prob)\n",
    "\n",
    "# Plot ROC curve\n",
    "plt.plot([0, 1], [0, 1], 'k--')\n",
    "plt.plot(fpr,tpr)\n",
    "plt.xlabel('False Positive Rate')\n",
    "plt.ylabel('True Positive Rate')\n",
    "plt.title('ROC Curve')\n",
    "plt.show()\n",
    "\n",
    "auc(fpr, tpr)"
   ]
  },
  {
   "cell_type": "markdown",
   "metadata": {},
   "source": [
    "## 5. Gradient Boosting"
   ]
  },
  {
   "cell_type": "code",
   "execution_count": 217,
   "metadata": {},
   "outputs": [
    {
     "data": {
      "text/plain": [
       "GradientBoostingClassifier(max_depth=4, n_estimators=300, random_state=42)"
      ]
     },
     "execution_count": 217,
     "metadata": {},
     "output_type": "execute_result"
    },
    {
     "name": "stdout",
     "output_type": "stream",
     "text": [
      "Confusion Matrix \n",
      " [[21855   196]\n",
      " [ 5327   252]]\n",
      "Classification Report \n",
      "               precision    recall  f1-score   support\n",
      "\n",
      "         0.0       0.80      0.99      0.89     22051\n",
      "         1.0       0.56      0.05      0.08      5579\n",
      "\n",
      "    accuracy                           0.80     27630\n",
      "   macro avg       0.68      0.52      0.49     27630\n",
      "weighted avg       0.76      0.80      0.73     27630\n",
      "\n",
      "Gradient Boosting Training Score:  80.65\n",
      "Gradient Boosting Test Score:  80.01\n",
      "ROC Score: 74.09\n"
     ]
    }
   ],
   "source": [
    "MODEL_PARAMS = {\n",
    "    \"max_depth\":4,\n",
    "    \"n_estimators\":300,\n",
    "    \"random_state\":SEED\n",
    "}\n",
    "\n",
    "gb = GradientBoostingClassifier(**MODEL_PARAMS)\n",
    "\n",
    "# Fit gb to the training set\n",
    "gb.fit(X_train,y_train)\n",
    "\n",
    "# Predict test set labels\n",
    "y_pred = gb.predict(X_test)\n",
    "y_pred_proba = gb.predict_proba(X_test)[:,1]\n",
    "\n",
    "# Generate the confusion matrix and classification report\n",
    "print(\"Confusion Matrix \\n\", confusion_matrix(y_test,y_pred))\n",
    "print(\"Classification Report \\n\",classification_report(y_test,y_pred))\n",
    "\n",
    "#Training And Testing Scores\n",
    "gb_score = round(gb.score(X_train, y_train) * 100, 2)\n",
    "gb_test_score = round(gb.score(X_test, y_test) * 100, 2)\n",
    "\n",
    "print('Gradient Boosting Training Score: ', gb_score)\n",
    "print('Gradient Boosting Test Score: ', gb_test_score)\n",
    "\n",
    "\n",
    "#Checking performance on our model with ROC Score.\n",
    "gb_roc_score = round(roc_auc_score(y_test, y_pred_proba)*100,3)\n",
    "print(\"ROC Score:\", gb_roc_score)"
   ]
  },
  {
   "cell_type": "markdown",
   "metadata": {},
   "source": [
    "### Stochastic Gradient Boosting\n",
    "- Each Tree is trained on a random subset of rows of the training data."
   ]
  },
  {
   "cell_type": "code",
   "execution_count": 100,
   "metadata": {},
   "outputs": [
    {
     "data": {
      "text/plain": [
       "GradientBoostingClassifier(max_depth=4, n_estimators=300, random_state=42,\n",
       "                           subsample=0.9)"
      ]
     },
     "execution_count": 100,
     "metadata": {},
     "output_type": "execute_result"
    },
    {
     "name": "stdout",
     "output_type": "stream",
     "text": [
      "XGBoost Training Score:  80.76\n",
      "XGBoost Test Score:  80.11\n",
      "ROC Score: 74.306\n"
     ]
    }
   ],
   "source": [
    "sgbt = GradientBoostingClassifier(subsample=0.9,\n",
    "                                  max_depth=4, \n",
    "                                  n_estimators=300,\n",
    "                                  random_state=SEED)\n",
    "sgbt.fit(X_train,y_train)\n",
    "y_pred = sgbt.predict(X_test)\n",
    "y_pred_proba = sgbt.predict_proba(X_test)[:,1]\n",
    "\n",
    "sgbt_score = round(sgbt.score(X_train, y_train) * 100, 2)\n",
    "sgbt_test_score = round(sgbt.score(X_test, y_test) * 100, 2)\n",
    "\n",
    "print('XGBoost Training Score: ', sgbt_score)\n",
    "print('XGBoost Test Score: ', sgbt_test_score)\n",
    "\n",
    "#Checking performance on our model with ROC Score.\n",
    "sgbt_roc_score = round(roc_auc_score(y_test, y_pred_proba)*100,3)\n",
    "print(\"ROC Score:\", sgbt_roc_score)"
   ]
  },
  {
   "cell_type": "markdown",
   "metadata": {},
   "source": [
    "## 6. XGBOOST"
   ]
  },
  {
   "cell_type": "code",
   "execution_count": 167,
   "metadata": {},
   "outputs": [
    {
     "data": {
      "text/plain": [
       "XGBClassifier(base_score=0.5, booster='gbtree', colsample_bylevel=1,\n",
       "              colsample_bynode=1, colsample_bytree=1, gamma=0, gpu_id=-1,\n",
       "              importance_type='gain', interaction_constraints='',\n",
       "              learning_rate=0.1, max_delta_step=0, max_depth=6,\n",
       "              min_child_weight=1, missing=nan, monotone_constraints='()',\n",
       "              n_estimators=100, n_jobs=0, nthread=4, num_parallel_tree=1,\n",
       "              random_state=42, reg_alpha=0, reg_lambda=1, scale_pos_weight=1,\n",
       "              seed=42, subsample=0.8, tree_method='exact',\n",
       "              validate_parameters=1, verbosity=None)"
      ]
     },
     "execution_count": 167,
     "metadata": {},
     "output_type": "execute_result"
    },
    {
     "name": "stdout",
     "output_type": "stream",
     "text": [
      "Accuracy: 80.06 %\n",
      "XGBoost Training Score:  80.45\n",
      "XGBoost Test Score:  80.06\n",
      "ROC Score: 74.403\n"
     ]
    }
   ],
   "source": [
    "MODEL_PARAMS = {\n",
    "    \"base_score\":0.5,\n",
    "    \"booster\":'gbtree',\n",
    "    \"colsample_bytree\":1,\n",
    "    \"gamma\": 0,\n",
    "    \"learning_rate\": 0.1,\n",
    "    \"n_estimators\": 100,\n",
    "    \"max_depth\": 6,\n",
    "    \"objective\": 'binary:logistic',\n",
    "    \"min_child_weight\":1,\n",
    "    \"subsample\":0.8,\n",
    "    \"random_state\":SEED,\n",
    "    \"scale_pos_weight\":1,\n",
    "    \"nthread\":4,\n",
    "    \"n_jobs\":0,\n",
    "    \"seed\": SEED,\n",
    "    \"validate_parameters\":1,\n",
    "    \"verbosity\":None,\n",
    "}\n",
    "xgb = XGBClassifier(**MODEL_PARAMS)\n",
    "\n",
    "xgb.fit(X_train,y_train)\n",
    "y_pred = xgb.predict(X_test)\n",
    "y_pred_proba = xgb.predict_proba(X_test)[:,1]\n",
    "\n",
    "accuracy = float(np.sum(y_pred==y_test))/y_test.shape[0]\n",
    "print(\"Accuracy: %.2f\" % (accuracy*100),\"%\")\n",
    "\n",
    "xgb_score = round(xgb.score(X_train, y_train) * 100, 2)\n",
    "xgb_test_score = round(xgb.score(X_test, y_test) * 100, 2)\n",
    "\n",
    "print('XGBoost Training Score: ', xgb_score)\n",
    "print('XGBoost Test Score: ', xgb_test_score)\n",
    "\n",
    "#Checking performance on our model with ROC Score.\n",
    "xgb_roc_score = round(roc_auc_score(y_test, y_pred_proba)*100,3)\n",
    "print(\"ROC Score:\", xgb_roc_score)"
   ]
  },
  {
   "cell_type": "code",
   "execution_count": null,
   "metadata": {},
   "outputs": [],
   "source": []
  },
  {
   "cell_type": "markdown",
   "metadata": {},
   "source": [
    "## 7. Decision Tree Model"
   ]
  },
  {
   "cell_type": "markdown",
   "metadata": {},
   "source": [
    "#### Gini Criterion"
   ]
  },
  {
   "cell_type": "code",
   "execution_count": 199,
   "metadata": {},
   "outputs": [
    {
     "data": {
      "text/plain": [
       "DecisionTreeClassifier(random_state=42)"
      ]
     },
     "execution_count": 199,
     "metadata": {},
     "output_type": "execute_result"
    },
    {
     "name": "stdout",
     "output_type": "stream",
     "text": [
      "DecisionTreeClassifier(random_state=42)\n",
      "Decision Tree Training Score:  80.65\n",
      "Decision Tree  Test Score:  80.01\n",
      "ROC Score: 58.722\n"
     ]
    }
   ],
   "source": [
    "MODEL_PARAMS = {\n",
    "    \"criterion\": \"gini\",\n",
    "    \"random_state\":SEED,\n",
    "    #\"max_depth\": 7,\n",
    "}\n",
    "dtc = DecisionTreeClassifier(**MODEL_PARAMS)\n",
    "\n",
    "# Call fit() on entr_model, and pass in X_train and y_train, in that order \n",
    "dtc.fit(X_train, y_train)\n",
    "\n",
    "# Call predict() on entr_model with X_test passed to it, and assign the result to a variable y_pred \n",
    "y_pred = dtc.predict(X_test)\n",
    "y_pred_proba = dtc.predict_proba(X_test)[:,1]\n",
    "\n",
    "# Assign y_pred the following: pd.Series(y_pred)\n",
    "y_pred = pd.Series(y_pred)\n",
    "\n",
    "print(dtc)\n",
    "\n",
    "dtc_score = round(gb.score(X_train, y_train) * 100, 2)\n",
    "dtc_test_score = round(gb.score(X_test, y_test) * 100, 2)\n",
    "\n",
    "print('Decision Tree Training Score: ', dtc_score)\n",
    "print('Decision Tree  Test Score: ', dtc_test_score)\n",
    "\n",
    "#Checking performance on our model with ROC Score.\n",
    "dtc_roc_score = round(roc_auc_score(y_test, y_pred_proba)*100,3)\n",
    "print(\"ROC Score:\", dtc_roc_score)"
   ]
  },
  {
   "cell_type": "code",
   "execution_count": 201,
   "metadata": {},
   "outputs": [
    {
     "data": {
      "text/plain": [
       "RandomizedSearchCV(cv=5, estimator=DecisionTreeClassifier(),\n",
       "                   param_distributions={'criterion': ['gini', 'entropy'],\n",
       "                                        'max_depth': [1, 2, 3, 4, 5, 6, 7, 8, 9,\n",
       "                                                      None],\n",
       "                                        'max_features': <scipy.stats._distn_infrastructure.rv_frozen object at 0x7f8943b79210>,\n",
       "                                        'min_samples_leaf': <scipy.stats._distn_infrastructure.rv_frozen object at 0x7f8943b79a10>})"
      ]
     },
     "execution_count": 201,
     "metadata": {},
     "output_type": "execute_result"
    },
    {
     "name": "stdout",
     "output_type": "stream",
     "text": [
      "Tuned Decision Tree Parameters: {'criterion': 'gini', 'max_depth': 5, 'max_features': 1, 'min_samples_leaf': 4}\n",
      "Best score is 0.7981106816489578\n"
     ]
    }
   ],
   "source": [
    "#Hyperparameter tuning with RandomizedSearchCV\n",
    "# Setup the parameters and distributions to sample from: param_dist\n",
    "param_dist = {\"max_depth\": [1,2,3,4,5,6,7,8,9, None],\n",
    "              \"max_features\": randint(1, 9),\n",
    "              \"min_samples_leaf\": randint(1, 9),\n",
    "              \"criterion\": [\"gini\", \"entropy\"]}\n",
    "\n",
    "# Instantiate a Decision Tree classifier: tree\n",
    "tree = DecisionTreeClassifier()\n",
    "\n",
    "# Instantiate the RandomizedSearchCV object: tree_cv\n",
    "tree_cv = RandomizedSearchCV(tree, param_dist, cv=5)\n",
    "\n",
    "# Fit it to the data\n",
    "tree_cv.fit(X_train,y_train)\n",
    "\n",
    "# Print the tuned parameters and score\n",
    "print(\"Tuned Decision Tree Parameters: {}\".format(tree_cv.best_params_))\n",
    "print(\"Best score is {}\".format(tree_cv.best_score_))"
   ]
  },
  {
   "cell_type": "code",
   "execution_count": 203,
   "metadata": {},
   "outputs": [
    {
     "data": {
      "text/plain": [
       "DecisionTreeClassifier(max_depth=5, max_features=1, min_samples_leaf=4,\n",
       "                       random_state=42)"
      ]
     },
     "execution_count": 203,
     "metadata": {},
     "output_type": "execute_result"
    },
    {
     "name": "stdout",
     "output_type": "stream",
     "text": [
      "DecisionTreeClassifier(random_state=42)\n",
      "Decision Tree Training Score:  79.81\n",
      "Decision Tree  Test Score:  79.78\n",
      "ROC Score: 51.264\n"
     ]
    }
   ],
   "source": [
    "MODEL_PARAMS = {\n",
    "    \"criterion\":\"gini\",\n",
    "    \"random_state\":SEED,\n",
    "    \"max_depth\": 5,\n",
    "    \"max_features\":1,\n",
    "    \"min_samples_leaf\":4,\n",
    "}\n",
    "dtce = DecisionTreeClassifier(**MODEL_PARAMS)\n",
    "\n",
    "# Call fit() on entr_model, and pass in X_train and y_train, in that order \n",
    "dtce.fit(X_train, y_train)\n",
    "\n",
    "# Call predict() on entr_model with X_test passed to it, and assign the result to a variable y_pred \n",
    "y_pred = dtc.predict(X_test)\n",
    "y_pred_proba = dtce.predict_proba(X_test)[:,1]\n",
    "\n",
    "print(dtc)\n",
    "\n",
    "dtce_score = round(dtce.score(X_train, y_train) * 100, 2)\n",
    "dtce_test_score = round(dtce.score(X_test, y_test) * 100, 2)\n",
    "\n",
    "print('Decision Tree Training Score: ', dtce_score)\n",
    "print('Decision Tree  Test Score: ', dtce_test_score)\n",
    "\n",
    "#Checking performance on our model with ROC Score.\n",
    "dtc_roc_score = round(roc_auc_score(y_test, y_pred_proba)*100,3)\n",
    "print(\"ROC Score:\", dtc_roc_score)"
   ]
  },
  {
   "cell_type": "markdown",
   "metadata": {},
   "source": [
    "## 8. Bagging Classifier"
   ]
  },
  {
   "cell_type": "code",
   "execution_count": 95,
   "metadata": {},
   "outputs": [
    {
     "data": {
      "text/plain": [
       "BaggingClassifier(base_estimator=DecisionTreeClassifier(random_state=42),\n",
       "                  n_estimators=50, random_state=42)"
      ]
     },
     "execution_count": 95,
     "metadata": {},
     "output_type": "execute_result"
    },
    {
     "name": "stdout",
     "output_type": "stream",
     "text": [
      "Test set accuracy of bc: 0.80\n",
      "BaggingClassifier Training Score: 99.69\n",
      "BaggingClassifier Test Score: 79.82\n",
      "ROC Score: 73.173\n"
     ]
    }
   ],
   "source": [
    "dt = DecisionTreeClassifier(random_state=SEED)\n",
    "\n",
    "\n",
    "bgc = BaggingClassifier(base_estimator=dt, n_estimators=50, random_state=SEED)\n",
    "\n",
    "bgc.fit(X_train, y_train)\n",
    "\n",
    "y_pred = bgc.predict(X_test)\n",
    "y_pred_proba = bgc.predict_proba(X_test)[:,1]\n",
    "\n",
    "# Evaluate acc_test\n",
    "acc_test = accuracy_score(y_test, y_pred)\n",
    "print('Test set accuracy of bc: {:.2f}'.format(acc_test)) \n",
    "\n",
    "bgc_score = round(bgc.score(X_train, y_train) * 100, 2)\n",
    "bgc_test_score = round(bgc.score(X_test, y_test) * 100, 2)\n",
    "\n",
    "print('BaggingClassifier Training Score:', bgc_score)\n",
    "print('BaggingClassifier Test Score:', bgc_test_score)\n",
    "\n",
    "#Checking performance on our model with ROC Score.\n",
    "bgc_roc_score = round(roc_auc_score(y_test, y_pred_proba)*100,3)\n",
    "print(\"ROC Score:\", bgc_roc_score)"
   ]
  },
  {
   "cell_type": "markdown",
   "metadata": {},
   "source": [
    "## 9. Random Forest Model"
   ]
  },
  {
   "cell_type": "markdown",
   "metadata": {},
   "source": [
    "#### Default Gini criterion"
   ]
  },
  {
   "cell_type": "code",
   "execution_count": 194,
   "metadata": {},
   "outputs": [
    {
     "data": {
      "text/plain": [
       "RandomForestClassifier(max_features='sqrt', random_state=42)"
      ]
     },
     "execution_count": 194,
     "metadata": {},
     "output_type": "execute_result"
    },
    {
     "name": "stdout",
     "output_type": "stream",
     "text": [
      "Random Forest Training Score: 99.75\n",
      "Random Forest Test Score: 80.2\n",
      "ROC Score: 74.477\n"
     ]
    }
   ],
   "source": [
    "MODEL_PARAMS = {\n",
    "    \"n_estimators\": 100,\n",
    "    \"criterion\": 'gini',\n",
    "    \"max_features\":'sqrt',\n",
    "    \"random_state\":SEED\n",
    "}\n",
    "\n",
    "rf = RandomForestClassifier(**MODEL_PARAMS)\n",
    "rf.fit(X_train, y_train)\n",
    "y_pred = rf.predict(X_test)\n",
    "y_pred_proba = rf.predict_proba(X_test)[:,1]\n",
    "\n",
    "\n",
    "\n",
    "rf_score = round(rf.score(X_train, y_train) * 100, 2)\n",
    "rf_test_score = round(rf.score(X_test, y_test) * 100, 2)\n",
    "\n",
    "print('Random Forest Training Score:', rf_score)\n",
    "print('Random Forest Test Score:', rf_test_score)\n",
    "\n",
    "\n",
    "#Checking performance on our model with ROC Score.\n",
    "rf_roc_score = round(roc_auc_score(y_test,y_pred_proba)*100,3)\n",
    "print(\"ROC Score:\", rf_roc_score)"
   ]
  },
  {
   "cell_type": "markdown",
   "metadata": {},
   "source": [
    "#### Entropy criterion"
   ]
  },
  {
   "cell_type": "code",
   "execution_count": 222,
   "metadata": {},
   "outputs": [
    {
     "data": {
      "text/plain": [
       "RandomForestClassifier(criterion='entropy', n_estimators=300, random_state=42)"
      ]
     },
     "execution_count": 222,
     "metadata": {},
     "output_type": "execute_result"
    },
    {
     "name": "stdout",
     "output_type": "stream",
     "text": [
      "Random Forest Training Score: 99.75\n",
      "Random Forest Test Score: 80.39\n",
      "ROC Score: 74.872\n"
     ]
    }
   ],
   "source": [
    "MODEL_PARAMS = {\n",
    "    \"n_estimators\": 300,\n",
    "    \"criterion\": 'entropy',\n",
    "    \"max_depth\": None,\n",
    "    \"min_samples_split\":2,\n",
    "    \"min_samples_leaf\":1,\n",
    "    \"min_weight_fraction_leaf\":0.0,\n",
    "    \"max_features\":'auto',\n",
    "    \"max_leaf_nodes\":None,\n",
    "    \"min_impurity_decrease\":0.0,\n",
    "    \"min_impurity_split\":None,\n",
    "    \"bootstrap\":True,\n",
    "    \"oob_score\":False,\n",
    "    \"n_jobs\":None,\n",
    "    \"random_state\": SEED,\n",
    "    \"verbose\":0,\n",
    "    \"warm_start\":False,\n",
    "    \"class_weight\":None,\n",
    "    \"ccp_alpha\":0.0,\n",
    "    \"max_samples\":None,\n",
    "}\n",
    "\n",
    "rf = RandomForestClassifier(**MODEL_PARAMS)\n",
    "rf.fit(X_train, y_train)\n",
    "y_pred = rf.predict(X_test)\n",
    "y_pred_proba = rf.predict_proba(X_test)[:,1]\n",
    "\n",
    "\n",
    "\n",
    "rf_score = round(rf.score(X_train, y_train) * 100, 2)\n",
    "rf_test_score = round(rf.score(X_test, y_test) * 100, 2)\n",
    "\n",
    "print('Random Forest Training Score:', rf_score)\n",
    "print('Random Forest Test Score:', rf_test_score)\n",
    "\n",
    "\n",
    "#Checking performance on our model with ROC Score.\n",
    "rf_roc_score = round(roc_auc_score(y_test,y_pred_proba)*100,3)\n",
    "print(\"ROC Score:\", rf_roc_score)"
   ]
  },
  {
   "cell_type": "markdown",
   "metadata": {},
   "source": [
    "___"
   ]
  },
  {
   "cell_type": "markdown",
   "metadata": {},
   "source": [
    "# Model Evaluation"
   ]
  },
  {
   "cell_type": "code",
   "execution_count": 197,
   "metadata": {},
   "outputs": [
    {
     "data": {
      "text/html": [
       "<div>\n",
       "<style scoped>\n",
       "    .dataframe tbody tr th:only-of-type {\n",
       "        vertical-align: middle;\n",
       "    }\n",
       "\n",
       "    .dataframe tbody tr th {\n",
       "        vertical-align: top;\n",
       "    }\n",
       "\n",
       "    .dataframe thead th {\n",
       "        text-align: right;\n",
       "    }\n",
       "</style>\n",
       "<table border=\"1\" class=\"dataframe\">\n",
       "  <thead>\n",
       "    <tr style=\"text-align: right;\">\n",
       "      <th></th>\n",
       "      <th>Model</th>\n",
       "      <th>ROC-AUC Score</th>\n",
       "      <th>Score</th>\n",
       "      <th>Test Score</th>\n",
       "    </tr>\n",
       "  </thead>\n",
       "  <tbody>\n",
       "    <tr>\n",
       "      <th>8</th>\n",
       "      <td>Random Forest</td>\n",
       "      <td>74.872</td>\n",
       "      <td>99.75</td>\n",
       "      <td>80.39</td>\n",
       "    </tr>\n",
       "    <tr>\n",
       "      <th>5</th>\n",
       "      <td>XGBoost</td>\n",
       "      <td>74.403</td>\n",
       "      <td>80.45</td>\n",
       "      <td>80.06</td>\n",
       "    </tr>\n",
       "    <tr>\n",
       "      <th>4</th>\n",
       "      <td>Gradient Boosting</td>\n",
       "      <td>74.090</td>\n",
       "      <td>80.65</td>\n",
       "      <td>80.01</td>\n",
       "    </tr>\n",
       "    <tr>\n",
       "      <th>7</th>\n",
       "      <td>Bagging Classifier</td>\n",
       "      <td>73.173</td>\n",
       "      <td>99.69</td>\n",
       "      <td>79.82</td>\n",
       "    </tr>\n",
       "    <tr>\n",
       "      <th>3</th>\n",
       "      <td>AdaBoost</td>\n",
       "      <td>72.025</td>\n",
       "      <td>79.81</td>\n",
       "      <td>79.75</td>\n",
       "    </tr>\n",
       "    <tr>\n",
       "      <th>1</th>\n",
       "      <td>Logistic Regression</td>\n",
       "      <td>71.421</td>\n",
       "      <td>79.75</td>\n",
       "      <td>79.81</td>\n",
       "    </tr>\n",
       "    <tr>\n",
       "      <th>0</th>\n",
       "      <td>k-Nearest Neighbors</td>\n",
       "      <td>65.983</td>\n",
       "      <td>83.75</td>\n",
       "      <td>77.85</td>\n",
       "    </tr>\n",
       "    <tr>\n",
       "      <th>2</th>\n",
       "      <td>Gaussian Naive Bayes</td>\n",
       "      <td>57.992</td>\n",
       "      <td>26.75</td>\n",
       "      <td>26.49</td>\n",
       "    </tr>\n",
       "    <tr>\n",
       "      <th>6</th>\n",
       "      <td>Decision Tree</td>\n",
       "      <td>53.785</td>\n",
       "      <td>80.65</td>\n",
       "      <td>80.01</td>\n",
       "    </tr>\n",
       "  </tbody>\n",
       "</table>\n",
       "</div>"
      ],
      "text/plain": [
       "                  Model  ROC-AUC Score  Score  Test Score\n",
       "8         Random Forest         74.872  99.75       80.39\n",
       "5               XGBoost         74.403  80.45       80.06\n",
       "4     Gradient Boosting         74.090  80.65       80.01\n",
       "7    Bagging Classifier         73.173  99.69       79.82\n",
       "3              AdaBoost         72.025  79.81       79.75\n",
       "1   Logistic Regression         71.421  79.75       79.81\n",
       "0   k-Nearest Neighbors         65.983  83.75       77.85\n",
       "2  Gaussian Naive Bayes         57.992  26.75       26.49\n",
       "6         Decision Tree         53.785  80.65       80.01"
      ]
     },
     "execution_count": 197,
     "metadata": {},
     "output_type": "execute_result"
    }
   ],
   "source": [
    "models = pd.DataFrame({\n",
    "    \n",
    "    'Model': [ \n",
    "        'k-Nearest Neighbors',\n",
    "        'Logistic Regression',\n",
    "        'Gaussian Naive Bayes',\n",
    "        'AdaBoost',\n",
    "        'Gradient Boosting',\n",
    "        'XGBoost',\n",
    "        'Decision Tree',\n",
    "        'Bagging Classifier',\n",
    "        'Random Forest',\n",
    "        \n",
    "    ],\n",
    "    \n",
    "    \n",
    "    'ROC-AUC Score': [ \n",
    "        knn_roc_score, \n",
    "        logreg_roc_score,\n",
    "        gauss_roc_score,\n",
    "        adb_roc_score,\n",
    "        gb_roc_score,\n",
    "        xgb_roc_score,\n",
    "        dtc_roc_score,\n",
    "        bgc_roc_score,\n",
    "        rf_roc_score\n",
    "    ],             \n",
    "    \n",
    "    'Score': [ \n",
    "        knn_score, \n",
    "        logreg_score,\n",
    "        gauss_score,\n",
    "        adb_score,\n",
    "        gb_score,\n",
    "        xgb_score,\n",
    "        dtc_score,\n",
    "        bgc_score,\n",
    "        rf_score\n",
    "    ],\n",
    "    \n",
    "    'Test Score': [ \n",
    "        knn_test_score,\n",
    "        logreg_test_score,\n",
    "        gauss_test_score,\n",
    "        adb_test_score,\n",
    "        gb_test_score,\n",
    "        xgb_test_score,\n",
    "        dtc_test_score,\n",
    "        bgc_test_score,\n",
    "        rf_test_score\n",
    "    ]})\n",
    "\n",
    "\n",
    "models.sort_values(by='ROC-AUC Score', ascending=False)"
   ]
  },
  {
   "cell_type": "code",
   "execution_count": 181,
   "metadata": {},
   "outputs": [
    {
     "name": "stdout",
     "output_type": "stream",
     "text": [
      "Accuracy Score:\n",
      "\n"
     ]
    },
    {
     "data": {
      "text/plain": [
       "KNeighborsClassifier()"
      ]
     },
     "execution_count": 181,
     "metadata": {},
     "output_type": "execute_result"
    },
    {
     "name": "stdout",
     "output_type": "stream",
     "text": [
      "[KNN] : 65.983%\n"
     ]
    },
    {
     "data": {
      "text/plain": [
       "LogisticRegression(random_state=42)"
      ]
     },
     "execution_count": 181,
     "metadata": {},
     "output_type": "execute_result"
    },
    {
     "name": "stdout",
     "output_type": "stream",
     "text": [
      "[Logistic Regression] : 71.421%\n"
     ]
    },
    {
     "data": {
      "text/plain": [
       "DecisionTreeClassifier()"
      ]
     },
     "execution_count": 181,
     "metadata": {},
     "output_type": "execute_result"
    },
    {
     "name": "stdout",
     "output_type": "stream",
     "text": [
      "[Decision Tree] : 58.892%\n"
     ]
    },
    {
     "data": {
      "text/plain": [
       "RandomForestClassifier()"
      ]
     },
     "execution_count": 181,
     "metadata": {},
     "output_type": "execute_result"
    },
    {
     "name": "stdout",
     "output_type": "stream",
     "text": [
      "[Random forest] : 74.584%\n"
     ]
    }
   ],
   "source": [
    "knn = KNeighborsClassifier()\n",
    "lr = LogisticRegression(random_state=SEED)\n",
    "dt = DecisionTreeClassifier()\n",
    "rf = RandomForestClassifier()\n",
    "\n",
    "classifiers = [\n",
    "    ('KNN', knn),\n",
    "    ('Logistic Regression', lr),\n",
    "    ('Decision Tree', dt),\n",
    "    ('Random forest', rf)\n",
    "]\n",
    "\n",
    "print('ROC Score:\\n')\n",
    "for clf_name, clf in classifiers:\n",
    "    clf.fit(X_train, y_train)\n",
    "    y_pred_proba = clf.predict_proba(X_test)[:,1]\n",
    "    \n",
    "    # Calculate accuracy\n",
    "    accuracy = roc_auc_score(y_test,y_pred_proba) \n",
    "    print('[{:s}] : {:.3f}%'.format(clf_name, accuracy * 100))"
   ]
  },
  {
   "cell_type": "code",
   "execution_count": null,
   "metadata": {},
   "outputs": [],
   "source": []
  }
 ],
 "metadata": {
  "kernelspec": {
   "display_name": "Python 3",
   "language": "python",
   "name": "python3"
  },
  "language_info": {
   "codemirror_mode": {
    "name": "ipython",
    "version": 3
   },
   "file_extension": ".py",
   "mimetype": "text/x-python",
   "name": "python",
   "nbconvert_exporter": "python",
   "pygments_lexer": "ipython3",
   "version": "3.7.4"
  }
 },
 "nbformat": 4,
 "nbformat_minor": 4
}
