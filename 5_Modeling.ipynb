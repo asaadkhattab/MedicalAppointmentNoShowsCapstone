{
 "cells": [
  {
   "cell_type": "markdown",
   "metadata": {},
   "source": [
    "# Medical Appointment No Shows Capstone"
   ]
  },
  {
   "cell_type": "markdown",
   "metadata": {},
   "source": [
    "## 5. MODELING"
   ]
  },
  {
   "cell_type": "code",
   "execution_count": 35,
   "metadata": {},
   "outputs": [],
   "source": [
    "import pandas as pd\n",
    "import numpy as np\n",
    "import seaborn as sns\n",
    "\n",
    "# plotting modules\n",
    "import matplotlib.pyplot as plt\n",
    "import seaborn as sns\n",
    "\n",
    "from datetime import datetime\n",
    "\n",
    "import os, sys\n",
    "import warnings\n",
    "warnings.filterwarnings('always') \n",
    "%matplotlib inline"
   ]
  },
  {
   "cell_type": "code",
   "execution_count": 76,
   "metadata": {},
   "outputs": [],
   "source": [
    "#SKLEARN \n",
    "\n",
    "#PREPROCESSING \n",
    "from sklearn.preprocessing import StandardScaler\n",
    "from sklearn.preprocessing import scale\n",
    "from sklearn.preprocessing import OneHotEncoder\n",
    "\n",
    "#MODEL_SELECTION\n",
    "from sklearn.model_selection import train_test_split\n",
    "from sklearn.model_selection import cross_val_score\n",
    "from sklearn.model_selection import GridSearchCV\n",
    "from sklearn.model_selection import RandomizedSearchCV\n",
    "\n",
    "from sklearn.tree import DecisionTreeClassifier\n",
    "\n",
    "#LINEAR_MODEL\n",
    "from sklearn.linear_model import LinearRegression\n",
    "from sklearn.linear_model import LogisticRegression\n",
    "from sklearn.linear_model import Lasso, Ridge\n",
    "\n",
    "\n",
    "#ENSEMBLE \n",
    "from sklearn.ensemble import RandomForestClassifier\n",
    "from sklearn.ensemble import AdaBoostClassifier\n",
    "from sklearn.ensemble import GradientBoostingClassifier\n",
    "\n",
    "#SVM\n",
    "from sklearn.svm import SVC\n",
    "\n",
    "from sklearn.neighbors import KNeighborsClassifier\n",
    "\n",
    "from sklearn.naive_bayes import GaussianNB\n",
    "\n",
    "#METRICS\n",
    "from sklearn.metrics import r2_score \n",
    "from sklearn.metrics import accuracy_score\n",
    "from sklearn.metrics import make_scorer\n",
    "from sklearn.metrics import balanced_accuracy_score, precision_score\n",
    "from sklearn.metrics import roc_curve, roc_auc_score\n",
    "from sklearn.metrics import explained_variance_score\n",
    "from sklearn.metrics import mean_squared_error, mean_absolute_error\n",
    "from sklearn.metrics import classification_report, confusion_matrix\n",
    "\n",
    "\n",
    "\n",
    "#PIPELINE \n",
    "from sklearn.pipeline import Pipeline\n",
    "from sklearn.pipeline import make_pipeline as mpl\n",
    "\n",
    "\n",
    "from xgboost import XGBClassifier"
   ]
  },
  {
   "cell_type": "code",
   "execution_count": 37,
   "metadata": {},
   "outputs": [],
   "source": [
    "#SCIPY\n",
    "from scipy.stats import randint"
   ]
  },
  {
   "cell_type": "code",
   "execution_count": null,
   "metadata": {},
   "outputs": [],
   "source": []
  },
  {
   "cell_type": "markdown",
   "metadata": {},
   "source": [
    "## Load Data"
   ]
  },
  {
   "cell_type": "code",
   "execution_count": 39,
   "metadata": {},
   "outputs": [
    {
     "data": {
      "text/html": [
       "<div>\n",
       "<style scoped>\n",
       "    .dataframe tbody tr th:only-of-type {\n",
       "        vertical-align: middle;\n",
       "    }\n",
       "\n",
       "    .dataframe tbody tr th {\n",
       "        vertical-align: top;\n",
       "    }\n",
       "\n",
       "    .dataframe thead th {\n",
       "        text-align: right;\n",
       "    }\n",
       "</style>\n",
       "<table border=\"1\" class=\"dataframe\">\n",
       "  <thead>\n",
       "    <tr style=\"text-align: right;\">\n",
       "      <th></th>\n",
       "      <th>Age</th>\n",
       "      <th>Scholarship</th>\n",
       "      <th>Hypertension</th>\n",
       "      <th>Diabetes</th>\n",
       "      <th>Alcoholism</th>\n",
       "      <th>Handicap</th>\n",
       "      <th>SMSSent</th>\n",
       "      <th>WaitingDays</th>\n",
       "      <th>ScheduledDay_Y</th>\n",
       "      <th>ScheduledDay_M</th>\n",
       "      <th>...</th>\n",
       "      <th>Neighborhood_SANTOS REIS</th>\n",
       "      <th>Neighborhood_SEGURANÇA DO LAR</th>\n",
       "      <th>Neighborhood_SOLON BORGES</th>\n",
       "      <th>Neighborhood_SÃO BENEDITO</th>\n",
       "      <th>Neighborhood_SÃO CRISTÓVÃO</th>\n",
       "      <th>Neighborhood_SÃO JOSÉ</th>\n",
       "      <th>Neighborhood_SÃO PEDRO</th>\n",
       "      <th>Neighborhood_TABUAZEIRO</th>\n",
       "      <th>Neighborhood_UNIVERSITÁRIO</th>\n",
       "      <th>Neighborhood_VILA RUBIM</th>\n",
       "    </tr>\n",
       "  </thead>\n",
       "  <tbody>\n",
       "    <tr>\n",
       "      <th>51336</th>\n",
       "      <td>29</td>\n",
       "      <td>0</td>\n",
       "      <td>0</td>\n",
       "      <td>0</td>\n",
       "      <td>0</td>\n",
       "      <td>0</td>\n",
       "      <td>1</td>\n",
       "      <td>26</td>\n",
       "      <td>2016</td>\n",
       "      <td>4</td>\n",
       "      <td>...</td>\n",
       "      <td>0.0</td>\n",
       "      <td>0.0</td>\n",
       "      <td>0.0</td>\n",
       "      <td>0.0</td>\n",
       "      <td>0.0</td>\n",
       "      <td>0.0</td>\n",
       "      <td>0.0</td>\n",
       "      <td>0.0</td>\n",
       "      <td>0.0</td>\n",
       "      <td>0.0</td>\n",
       "    </tr>\n",
       "    <tr>\n",
       "      <th>50601</th>\n",
       "      <td>38</td>\n",
       "      <td>0</td>\n",
       "      <td>0</td>\n",
       "      <td>0</td>\n",
       "      <td>0</td>\n",
       "      <td>0</td>\n",
       "      <td>0</td>\n",
       "      <td>14</td>\n",
       "      <td>2016</td>\n",
       "      <td>5</td>\n",
       "      <td>...</td>\n",
       "      <td>0.0</td>\n",
       "      <td>0.0</td>\n",
       "      <td>0.0</td>\n",
       "      <td>0.0</td>\n",
       "      <td>0.0</td>\n",
       "      <td>0.0</td>\n",
       "      <td>0.0</td>\n",
       "      <td>0.0</td>\n",
       "      <td>0.0</td>\n",
       "      <td>0.0</td>\n",
       "    </tr>\n",
       "    <tr>\n",
       "      <th>46208</th>\n",
       "      <td>58</td>\n",
       "      <td>0</td>\n",
       "      <td>0</td>\n",
       "      <td>0</td>\n",
       "      <td>0</td>\n",
       "      <td>0</td>\n",
       "      <td>0</td>\n",
       "      <td>3</td>\n",
       "      <td>2016</td>\n",
       "      <td>5</td>\n",
       "      <td>...</td>\n",
       "      <td>0.0</td>\n",
       "      <td>0.0</td>\n",
       "      <td>0.0</td>\n",
       "      <td>0.0</td>\n",
       "      <td>0.0</td>\n",
       "      <td>0.0</td>\n",
       "      <td>0.0</td>\n",
       "      <td>0.0</td>\n",
       "      <td>0.0</td>\n",
       "      <td>1.0</td>\n",
       "    </tr>\n",
       "    <tr>\n",
       "      <th>9766</th>\n",
       "      <td>84</td>\n",
       "      <td>0</td>\n",
       "      <td>1</td>\n",
       "      <td>1</td>\n",
       "      <td>1</td>\n",
       "      <td>0</td>\n",
       "      <td>0</td>\n",
       "      <td>5</td>\n",
       "      <td>2016</td>\n",
       "      <td>5</td>\n",
       "      <td>...</td>\n",
       "      <td>0.0</td>\n",
       "      <td>0.0</td>\n",
       "      <td>0.0</td>\n",
       "      <td>0.0</td>\n",
       "      <td>0.0</td>\n",
       "      <td>0.0</td>\n",
       "      <td>0.0</td>\n",
       "      <td>0.0</td>\n",
       "      <td>0.0</td>\n",
       "      <td>0.0</td>\n",
       "    </tr>\n",
       "    <tr>\n",
       "      <th>5614</th>\n",
       "      <td>6</td>\n",
       "      <td>0</td>\n",
       "      <td>0</td>\n",
       "      <td>0</td>\n",
       "      <td>0</td>\n",
       "      <td>0</td>\n",
       "      <td>0</td>\n",
       "      <td>13</td>\n",
       "      <td>2016</td>\n",
       "      <td>5</td>\n",
       "      <td>...</td>\n",
       "      <td>0.0</td>\n",
       "      <td>0.0</td>\n",
       "      <td>0.0</td>\n",
       "      <td>0.0</td>\n",
       "      <td>0.0</td>\n",
       "      <td>0.0</td>\n",
       "      <td>0.0</td>\n",
       "      <td>0.0</td>\n",
       "      <td>0.0</td>\n",
       "      <td>0.0</td>\n",
       "    </tr>\n",
       "  </tbody>\n",
       "</table>\n",
       "<p>5 rows × 95 columns</p>\n",
       "</div>"
      ],
      "text/plain": [
       "       Age  Scholarship  Hypertension  Diabetes  Alcoholism  Handicap  \\\n",
       "51336   29            0             0         0           0         0   \n",
       "50601   38            0             0         0           0         0   \n",
       "46208   58            0             0         0           0         0   \n",
       "9766    84            0             1         1           1         0   \n",
       "5614     6            0             0         0           0         0   \n",
       "\n",
       "       SMSSent  WaitingDays  ScheduledDay_Y  ScheduledDay_M  ...  \\\n",
       "51336        1           26            2016               4  ...   \n",
       "50601        0           14            2016               5  ...   \n",
       "46208        0            3            2016               5  ...   \n",
       "9766         0            5            2016               5  ...   \n",
       "5614         0           13            2016               5  ...   \n",
       "\n",
       "       Neighborhood_SANTOS REIS  Neighborhood_SEGURANÇA DO LAR  \\\n",
       "51336                       0.0                            0.0   \n",
       "50601                       0.0                            0.0   \n",
       "46208                       0.0                            0.0   \n",
       "9766                        0.0                            0.0   \n",
       "5614                        0.0                            0.0   \n",
       "\n",
       "       Neighborhood_SOLON BORGES  Neighborhood_SÃO BENEDITO  \\\n",
       "51336                        0.0                        0.0   \n",
       "50601                        0.0                        0.0   \n",
       "46208                        0.0                        0.0   \n",
       "9766                         0.0                        0.0   \n",
       "5614                         0.0                        0.0   \n",
       "\n",
       "       Neighborhood_SÃO CRISTÓVÃO  Neighborhood_SÃO JOSÉ  \\\n",
       "51336                         0.0                    0.0   \n",
       "50601                         0.0                    0.0   \n",
       "46208                         0.0                    0.0   \n",
       "9766                          0.0                    0.0   \n",
       "5614                          0.0                    0.0   \n",
       "\n",
       "       Neighborhood_SÃO PEDRO  Neighborhood_TABUAZEIRO  \\\n",
       "51336                     0.0                      0.0   \n",
       "50601                     0.0                      0.0   \n",
       "46208                     0.0                      0.0   \n",
       "9766                      0.0                      0.0   \n",
       "5614                      0.0                      0.0   \n",
       "\n",
       "       Neighborhood_UNIVERSITÁRIO  Neighborhood_VILA RUBIM  \n",
       "51336                         0.0                      0.0  \n",
       "50601                         0.0                      0.0  \n",
       "46208                         0.0                      1.0  \n",
       "9766                          0.0                      0.0  \n",
       "5614                          0.0                      0.0  \n",
       "\n",
       "[5 rows x 95 columns]"
      ]
     },
     "execution_count": 39,
     "metadata": {},
     "output_type": "execute_result"
    }
   ],
   "source": [
    "path = 'data/df_ohe.csv'\n",
    "df_ohe = pd.read_csv(path, index_col=None) \n",
    "df_ohe.sample(5)"
   ]
  },
  {
   "cell_type": "code",
   "execution_count": null,
   "metadata": {},
   "outputs": [],
   "source": []
  },
  {
   "cell_type": "code",
   "execution_count": 93,
   "metadata": {},
   "outputs": [
    {
     "name": "stdout",
     "output_type": "stream",
     "text": [
      "(88413, 94)\n",
      "(88413,)\n",
      "(22104, 94)\n",
      "(22104,)\n"
     ]
    }
   ],
   "source": [
    "X = df_ohe.drop(['NoShow_Yes'], axis = 1)\n",
    "y = df_ohe['NoShow_Yes']\n",
    "\n",
    "SEED=1\n",
    "TS = 0.2\n",
    "\n",
    "# Create training and test sets\n",
    "X_train, X_test, y_train, y_test = \\\n",
    "    train_test_split(X, y, test_size = TS, random_state=SEED, stratify=y)\n",
    "\n",
    "print (X_train.shape)\n",
    "print (y_train.shape)\n",
    "print (X_test.shape)\n",
    "print (y_test.shape)"
   ]
  },
  {
   "cell_type": "markdown",
   "metadata": {},
   "source": [
    "# 1. K-NEAREST NEIGHBORS\n",
    "- Model That classifies data based on its distance to training set data. A new data point is assigned a label based on the class that the majority of surrounding data points belong to. \n",
    "- “The k-nearest neighbors algorithm (KNN) is a non-parametric method used for classification and regression. In both cases, the input consists of the k closest training examples in the feature space. The output depends on whether k-NN is used for classification or regression”-Wikipedia"
   ]
  },
  {
   "cell_type": "code",
   "execution_count": 91,
   "metadata": {},
   "outputs": [
    {
     "name": "stdout",
     "output_type": "stream",
     "text": [
      "Confusion Matrix \n",
      " [[17521   120]\n",
      " [ 4374    89]]\n",
      "Classification Report \n",
      "               precision    recall  f1-score   support\n",
      "\n",
      "         0.0       0.80      0.99      0.89     17641\n",
      "         1.0       0.43      0.02      0.04      4463\n",
      "\n",
      "    accuracy                           0.80     22104\n",
      "   macro avg       0.61      0.51      0.46     22104\n",
      "weighted avg       0.72      0.80      0.72     22104\n",
      "\n",
      "ROC Score: 0.5065697038767685\n",
      "KNN Score: 79.96\n",
      "KNN Test Score: 79.96\n"
     ]
    }
   ],
   "source": [
    "# KNN Object\n",
    "knn = KNeighborsClassifier(n_neighbors=48, \n",
    "                           weights='uniform', algorithm='auto', \n",
    "                           leaf_size=30, p=2, metric='minkowski', \n",
    "                           metric_params=None, n_jobs=None) \n",
    "\n",
    "\n",
    "\n",
    "\n",
    "# Fit the classifier to the data\n",
    "knn.fit(X_train,y_train)  \n",
    "\n",
    "# Predict the labels for the training data X\n",
    "\n",
    "y_pred = knn.predict(X_test)  \n",
    "\n",
    "\n",
    "# Generate the confusion matrix and classification report\n",
    "print(\"Confusion Matrix \\n\", confusion_matrix(y_test,y_pred))\n",
    "print(\"Classification Report \\n\",classification_report(y_test,y_pred))\n",
    "\n",
    "#Checking performance our model with ROC Score.\n",
    "print(\"ROC Score:\",roc_auc_score(y_test, y_pred))\n",
    "\n",
    "knn_score = round(knn.score(X_train, y_train) * 100, 2)\n",
    "print(\"KNN Score:\", knn_score)\n",
    "\n",
    "knn_test_score = round(knn.score(X_test, y_test) * 100, 2)\n",
    "print(\"KNN Test Score:\", knn_score)"
   ]
  },
  {
   "cell_type": "code",
   "execution_count": null,
   "metadata": {},
   "outputs": [],
   "source": [
    "# Setup arrays to store train and test accuracies\n",
    "neighbors = np.arange(1, 9)\n",
    "train_accuracy = np.empty(len(neighbors))\n",
    "test_accuracy = np.empty(len(neighbors))\n",
    "\n",
    "# Loop over different values of k\n",
    "for i, k in enumerate(neighbors):\n",
    "    # Setup a k-NN Classifier with k neighbors: knn\n",
    "    knn = KNeighborsClassifier(n_neighbors=k)\n",
    "\n",
    "    # Fit the classifier to the training data\n",
    "    knn.fit(X_train, y_train)\n",
    "    \n",
    "    #Compute accuracy on the training set\n",
    "    train_accuracy[i] = knn.score(X_train,y_train)\n",
    "\n",
    "    #Compute accuracy on the testing set\n",
    "    test_accuracy[i] = knn.score(X_test, y_test)\n",
    "\n",
    "# Generate plot\n",
    "plt.title('k-NN: Varying Number of Neighbors')\n",
    "plt.plot(neighbors, test_accuracy, label = 'Testing Accuracy')\n",
    "plt.plot(neighbors, train_accuracy, label = 'Training Accuracy')\n",
    "plt.legend()\n",
    "plt.xlabel('Number of Neighbors')\n",
    "plt.ylabel('Accuracy')\n",
    "plt.show()\n"
   ]
  },
  {
   "cell_type": "code",
   "execution_count": null,
   "metadata": {},
   "outputs": [],
   "source": [
    "param_grid = {'n_neighbors': np.arange(1,50)}\n",
    "knn = KNeighborsClassifier()\n",
    "knn_cv = GridSearchCV(knn, param_grid,cv=5)\n",
    "knn_cv.fit(X_train,y_train)\n",
    "knn_cv.best_params_"
   ]
  },
  {
   "cell_type": "code",
   "execution_count": 34,
   "metadata": {},
   "outputs": [
    {
     "data": {
      "text/plain": [
       "0.7953551500527825"
      ]
     },
     "execution_count": 34,
     "metadata": {},
     "output_type": "execute_result"
    }
   ],
   "source": [
    "knn_cv.best_score_"
   ]
  },
  {
   "cell_type": "markdown",
   "metadata": {},
   "source": [
    "# 2. Logistic Regression Model\n",
    "Logistic regression is a supervised learning classification algorithm used to predict the probability of a target variable. The nature of target or dependent variable is dichotomous, which means there would be only two possible classes."
   ]
  },
  {
   "cell_type": "code",
   "execution_count": 95,
   "metadata": {},
   "outputs": [
    {
     "name": "stdout",
     "output_type": "stream",
     "text": [
      "[[17448   193]\n",
      " [ 4378    85]]\n",
      "              precision    recall  f1-score   support\n",
      "\n",
      "         0.0       0.80      0.99      0.88     17641\n",
      "         1.0       0.31      0.02      0.04      4463\n",
      "\n",
      "    accuracy                           0.79     22104\n",
      "   macro avg       0.55      0.50      0.46     22104\n",
      "weighted avg       0.70      0.79      0.71     22104\n",
      "\n",
      "Logistic Regression Training Score: \n",
      " 79.47\n",
      "Logistic Regression Test Score: \n",
      " 79.32\n",
      "Intercept: \n",
      " [-2.62561922e-06]\n",
      "Accuracy: \n",
      " 0.793204849800941\n"
     ]
    }
   ],
   "source": [
    "# Get the 1-dimensional flattened array of our response variable y by calling the ravel() function on y\n",
    "#y = y.ravel()\n",
    "\n",
    "# Create logistic regression\n",
    "logreg = LogisticRegression(solver='lbfgs', max_iter=7600)\n",
    "\n",
    "# Train the model using the training sets\n",
    "logreg.fit(X_train, y_train)\n",
    "\n",
    "# Make predictions using the testing set\n",
    "y_pred = logreg.predict(X_test)\n",
    "\n",
    "# Compute and print the confusion matrix and classification report\n",
    "print(confusion_matrix(y_test, y_pred))\n",
    "print(classification_report(y_test, y_pred))\n",
    "\n",
    "logreg_score = round(logreg.score(X_train, y_train) * 100, 2)\n",
    "logreg_test_score = round(logreg.score(X_test, y_test) * 100, 2)\n",
    "\n",
    "print('Logistic Regression Training Score: \\n', logreg_score)\n",
    "print('Logistic Regression Test Score: \\n', logreg_test_score)\n",
    "print('Intercept: \\n', logreg.intercept_)\n",
    "print('Accuracy: \\n', accuracy_score(y_test,y_pred))"
   ]
  },
  {
   "cell_type": "code",
   "execution_count": 47,
   "metadata": {},
   "outputs": [
    {
     "name": "stdout",
     "output_type": "stream",
     "text": [
      "79.4792607532409\n",
      "Average 5-Fold CV Score: 0.794792607532409\n"
     ]
    }
   ],
   "source": [
    "# Compute 5-fold cross-validation scovres: cv_scores\n",
    "#Will only work if max_iter is increased.\n",
    "cv_scores = cross_val_score(logreg, X_train, y_train, cv=5,scoring='accuracy').mean()\n",
    "print(cv_scores*100)\n",
    "print(\"Average 5-Fold CV Score: {}\".format(np.mean(cv_scores)))"
   ]
  },
  {
   "cell_type": "code",
   "execution_count": 26,
   "metadata": {},
   "outputs": [
    {
     "name": "stdout",
     "output_type": "stream",
     "text": [
      "R^2: 0.793204849800941\n",
      "Root Mean Squared Error: 0.4547473476547818\n"
     ]
    }
   ],
   "source": [
    "# Compute and print R^2 and RMSE\n",
    "print(\"R^2: {}\".format(logreg.score(X_test, y_test)))\n",
    "rmse = np.sqrt(mean_squared_error(y_test, y_pred))\n",
    "print(\"Root Mean Squared Error: {}\".format(rmse))"
   ]
  },
  {
   "cell_type": "markdown",
   "metadata": {},
   "source": [
    "#### Plot ROC curve"
   ]
  },
  {
   "cell_type": "code",
   "execution_count": 27,
   "metadata": {},
   "outputs": [
    {
     "data": {
      "image/png": "[encoded data removed]",
      "text/plain": [
       "<Figure size 432x288 with 1 Axes>"
      ]
     },
     "metadata": {
      "needs_background": "light"
     },
     "output_type": "display_data"
    }
   ],
   "source": [
    "# Compute predicted probabilities: y_pred_prob\n",
    "y_pred_prob = logreg.predict_proba(X_test)[:,1]\n",
    "\n",
    "# Generate ROC curve values: fpr, tpr, thresholds\n",
    "fpr,tpr, thresholds = roc_curve(y_test,y_pred_prob)\n",
    "\n",
    "# Plot ROC curve\n",
    "plt.plot([0, 1], [0, 1], 'k--')\n",
    "plt.plot(fpr,tpr)\n",
    "plt.xlabel('False Positive Rate')\n",
    "plt.ylabel('True Positive Rate')\n",
    "plt.title('ROC Curve')\n",
    "plt.show()"
   ]
  },
  {
   "cell_type": "markdown",
   "metadata": {},
   "source": [
    "#### AUC Computation for the Logistic Regression Model"
   ]
  },
  {
   "cell_type": "code",
   "execution_count": 28,
   "metadata": {},
   "outputs": [
    {
     "name": "stdout",
     "output_type": "stream",
     "text": [
      "AUC: 0.6586381957080789\n",
      "AUC scores computed using 5-fold cross-validation: [0.64900483 0.65198619 0.63477394 0.63950717 0.66632473]\n"
     ]
    }
   ],
   "source": [
    "# Compute predicted probabilities: y_pred_prob\n",
    "y_pred_prob = logreg.predict_proba(X_test)[:,1]\n",
    "\n",
    "# Compute and print AUC score\n",
    "print(\"AUC: {}\".format(roc_auc_score(y_test,y_pred_prob)))\n",
    "\n",
    "# Compute cross-validated AUC scores: cv_auc\n",
    "cv_auc = cross_val_score(logreg, X,y,scoring='roc_auc', cv=5)\n",
    "\n",
    "# Print list of AUC scores\n",
    "print(\"AUC scores computed using 5-fold cross-validation: {}\".format(cv_auc))"
   ]
  },
  {
   "cell_type": "markdown",
   "metadata": {},
   "source": [
    "#### Hyperparameter tuning with GridSearchCV"
   ]
  },
  {
   "cell_type": "code",
   "execution_count": 29,
   "metadata": {},
   "outputs": [
    {
     "name": "stdout",
     "output_type": "stream",
     "text": [
      "Tuned Logistic Regression Parameters: {'C': 1e-05}\n",
      "Best score is 0.6829312321534745\n"
     ]
    }
   ],
   "source": [
    "# Setup the hyperparameter grid\n",
    "c_space = np.logspace(-5, 8, 15)\n",
    "param_grid = {'C': c_space}\n",
    "\n",
    "# Instantiate a logistic regression classifier: logreg\n",
    "logreg = LogisticRegression(solver='lbfgs', max_iter=2000, class_weight='balanced')\n",
    "\n",
    "# Instantiate the GridSearchCV object: logreg_cv\n",
    "logreg_cv = GridSearchCV(logreg, param_grid,cv=5)\n",
    "\n",
    "# Fit it to the data\n",
    "logreg_cv.fit(X_train,y_train)\n",
    "\n",
    "# Print the tuned parameters and score\n",
    "print(\"Tuned Logistic Regression Parameters: {}\".format(logreg_cv.best_params_)) \n",
    "print(\"Best score is {}\".format(logreg_cv.best_score_))"
   ]
  },
  {
   "cell_type": "markdown",
   "metadata": {},
   "source": [
    "#### Hyperparameter tuning with RandomizedSearchCV"
   ]
  },
  {
   "cell_type": "code",
   "execution_count": 17,
   "metadata": {},
   "outputs": [
    {
     "name": "stdout",
     "output_type": "stream",
     "text": [
      "Tuned Decision Tree Parameters: {'criterion': 'gini', 'max_depth': 3, 'max_features': 4, 'min_samples_leaf': 6}\n",
      "Best score is 0.7980944108791878\n"
     ]
    }
   ],
   "source": [
    "# Setup the parameters and distributions to sample from: param_dist\n",
    "param_dist = {\"max_depth\": [3, None],\n",
    "              \"max_features\": randint(1, 9),\n",
    "              \"min_samples_leaf\": randint(1, 9),\n",
    "              \"criterion\": [\"gini\", \"entropy\"]}\n",
    "\n",
    "# Instantiate a Decision Tree classifier: tree\n",
    "tree = DecisionTreeClassifier()\n",
    "\n",
    "# Instantiate the RandomizedSearchCV object: tree_cv\n",
    "tree_cv = RandomizedSearchCV(tree, param_dist, cv=5)\n",
    "\n",
    "# Fit it to the data\n",
    "tree_cv.fit(X,y)\n",
    "\n",
    "# Print the tuned parameters and score\n",
    "print(\"Tuned Decision Tree Parameters: {}\".format(tree_cv.best_params_))\n",
    "print(\"Best score is {}\".format(tree_cv.best_score_))"
   ]
  },
  {
   "cell_type": "markdown",
   "metadata": {},
   "source": [
    "## 3. Gaussian Naive Bayes"
   ]
  },
  {
   "cell_type": "code",
   "execution_count": 101,
   "metadata": {},
   "outputs": [
    {
     "name": "stdout",
     "output_type": "stream",
     "text": [
      "[[ 7250 10391]\n",
      " [ 1463  3000]]\n",
      "              precision    recall  f1-score   support\n",
      "\n",
      "         0.0       0.83      0.41      0.55     17641\n",
      "         1.0       0.22      0.67      0.34      4463\n",
      "\n",
      "    accuracy                           0.46     22104\n",
      "   macro avg       0.53      0.54      0.44     22104\n",
      "weighted avg       0.71      0.46      0.51     22104\n",
      "\n",
      "Gaussian Score: \n",
      " 46.75\n",
      "Gaussian Test Score: \n",
      " 46.37\n",
      "Accuracy: \n",
      " 0.4637169743032935\n"
     ]
    }
   ],
   "source": [
    "gaussian = GaussianNB()\n",
    "gaussian.fit(X_train, y_train)\n",
    "#Predict Output\n",
    "y_pred= gaussian.predict(X_test)\n",
    "\n",
    "gauss_score = round(gaussian.score(X_train, y_train) * 100, 2)\n",
    "gauss_test_score = round(gaussian.score(X_test, y_test) * 100, 2)\n",
    "\n",
    "print(confusion_matrix(y_test,gauss_predicted))\n",
    "print(classification_report(y_test,gauss_predicted))\n",
    "\n",
    "print('Gaussian Score: \\n', gauss_score)\n",
    "print('Gaussian Test Score: \\n', gauss_test_score)\n",
    "print('Accuracy: \\n', accuracy_score(y_test,y_pred))"
   ]
  },
  {
   "cell_type": "code",
   "execution_count": null,
   "metadata": {},
   "outputs": [],
   "source": []
  },
  {
   "cell_type": "code",
   "execution_count": null,
   "metadata": {},
   "outputs": [],
   "source": []
  },
  {
   "cell_type": "markdown",
   "metadata": {},
   "source": [
    "# Boosting"
   ]
  },
  {
   "cell_type": "markdown",
   "metadata": {},
   "source": [
    "### 4. AdaBoost Model"
   ]
  },
  {
   "cell_type": "code",
   "execution_count": 100,
   "metadata": {},
   "outputs": [
    {
     "name": "stdout",
     "output_type": "stream",
     "text": [
      "ROC AUC score: 0.73\n",
      "AdaBoost Training Score: \n",
      " 79.74\n",
      "AdaBoost Test Score: \n",
      " 79.7\n"
     ]
    }
   ],
   "source": [
    "dt = DecisionTreeClassifier(max_depth=1,random_state=SEED)\n",
    "\n",
    "adb = AdaBoostClassifier(base_estimator=dt,n_estimators=100)\n",
    "\n",
    "adb.fit(X_train,y_train)\n",
    "\n",
    "y_pred_proba = adb.predict_proba(X_test)[:,1]\n",
    "\n",
    "adb_clf_roc_auc_score = roc_auc_score(y_test,y_pred_proba)\n",
    "\n",
    "print('ROC AUC score: {:.2f}'.format(adb_clf_roc_auc_score ))\n",
    "\n",
    "adb_score = round(adb.score(X_train, y_train) * 100, 2)\n",
    "adb_test_score = round(adb.score(X_test, y_test) * 100, 2)\n",
    "\n",
    "print('AdaBoost Training Score: \\n', adb_score)\n",
    "print('AdaBoost Test Score: \\n', adb_test_score)"
   ]
  },
  {
   "cell_type": "markdown",
   "metadata": {},
   "source": [
    "### Gradient Boosting"
   ]
  },
  {
   "cell_type": "code",
   "execution_count": 85,
   "metadata": {},
   "outputs": [
    {
     "name": "stdout",
     "output_type": "stream",
     "text": [
      "Test set RMSE of gb: 0.446\n",
      "Accuracy: \n",
      " 0.8006695620702136\n"
     ]
    }
   ],
   "source": [
    "\n",
    "# Instantiate gb\n",
    "gb = GradientBoostingClassifier(max_depth=4, \n",
    "            n_estimators=300,\n",
    "            random_state=1)\n",
    "\n",
    "# Fit gb to the training set\n",
    "gb.fit(X_train,y_train)\n",
    "\n",
    "# Predict test set labels\n",
    "y_pred = gb.predict(X_test)\n",
    "\n",
    "# Import mean_squared_error as MSE\n",
    "from sklearn.metrics import mean_squared_error as MSE\n",
    "\n",
    "# Compute MSE\n",
    "mse_test = MSE(y_test,y_pred)\n",
    "\n",
    "# Compute RMSE\n",
    "rmse_test = MSE(y_test, y_pred)**(1/2)\n",
    "\n",
    "# Print RMSE\n",
    "print('Test set RMSE of gb: {:.3f}'.format(rmse_test))\n",
    "\n",
    "print('Accuracy: \\n', accuracy_score(y_test, y_pred))"
   ]
  },
  {
   "cell_type": "markdown",
   "metadata": {},
   "source": [
    "### Stochastic Gradient Boosting\n",
    "- Each Tree is trained on a random subset of rows of the training data."
   ]
  },
  {
   "cell_type": "code",
   "execution_count": 88,
   "metadata": {},
   "outputs": [
    {
     "name": "stdout",
     "output_type": "stream",
     "text": [
      "Test set RMSE of gb: 0.446\n",
      "Accuracy: \n",
      " 0.801076728193992\n"
     ]
    }
   ],
   "source": [
    "sgbt = GradientBoostingClassifier(subsample=0.9,\n",
    "                                  max_depth=4, \n",
    "                                  n_estimators=300,\n",
    "                                  random_state=2)\n",
    "sgbt.fit(X_train,y_train)\n",
    "y_pred = sgbt.predict(X_test)\n",
    "\n",
    "mse_test = MSE(y_test,y_pred)\n",
    "# Compute RMSE\n",
    "rmse_test = MSE(y_test, y_pred)**(1/2)\n",
    "\n",
    "# Print RMSE\n",
    "print('Test set RMSE of gb: {:.3f}'.format(rmse_test))\n",
    "print('Accuracy: \\n', accuracy_score(y_test, y_pred))"
   ]
  },
  {
   "cell_type": "markdown",
   "metadata": {},
   "source": [
    "### XGBOOST"
   ]
  },
  {
   "cell_type": "code",
   "execution_count": 77,
   "metadata": {},
   "outputs": [
    {
     "name": "stdout",
     "output_type": "stream",
     "text": [
      "Accuracy: 80.02 %\n"
     ]
    }
   ],
   "source": [
    "\n",
    "xg_cl = XGBClassifier(objective='binary:logistic',\n",
    "                         n_estimators=10, seed=123)\n",
    "xg_cl.fit(X_train,y_train)\n",
    "y_pred = xg_cl.predict(X_test)\n",
    "\n",
    "accuracy = float(np.sum(y_pred==y_test))/y_test.shape[0]\n",
    "print(\"Accuracy: %.2f\" % (accuracy*100),\"%\")"
   ]
  },
  {
   "cell_type": "code",
   "execution_count": null,
   "metadata": {},
   "outputs": [],
   "source": []
  },
  {
   "cell_type": "code",
   "execution_count": null,
   "metadata": {},
   "outputs": [],
   "source": []
  },
  {
   "cell_type": "code",
   "execution_count": null,
   "metadata": {},
   "outputs": [],
   "source": []
  },
  {
   "cell_type": "code",
   "execution_count": null,
   "metadata": {},
   "outputs": [],
   "source": []
  },
  {
   "cell_type": "markdown",
   "metadata": {},
   "source": [
    "# Model Evaluation"
   ]
  },
  {
   "cell_type": "code",
   "execution_count": 106,
   "metadata": {},
   "outputs": [
    {
     "data": {
      "text/html": [
       "<div>\n",
       "<style scoped>\n",
       "    .dataframe tbody tr th:only-of-type {\n",
       "        vertical-align: middle;\n",
       "    }\n",
       "\n",
       "    .dataframe tbody tr th {\n",
       "        vertical-align: top;\n",
       "    }\n",
       "\n",
       "    .dataframe thead th {\n",
       "        text-align: right;\n",
       "    }\n",
       "</style>\n",
       "<table border=\"1\" class=\"dataframe\">\n",
       "  <thead>\n",
       "    <tr style=\"text-align: right;\">\n",
       "      <th></th>\n",
       "      <th>Model</th>\n",
       "      <th>Score</th>\n",
       "      <th>Test Score</th>\n",
       "    </tr>\n",
       "  </thead>\n",
       "  <tbody>\n",
       "    <tr>\n",
       "      <th>3</th>\n",
       "      <td>AdaBoost</td>\n",
       "      <td>79.74</td>\n",
       "      <td>79.70</td>\n",
       "    </tr>\n",
       "    <tr>\n",
       "      <th>0</th>\n",
       "      <td>k-Nearest Neighbors</td>\n",
       "      <td>79.96</td>\n",
       "      <td>79.67</td>\n",
       "    </tr>\n",
       "    <tr>\n",
       "      <th>1</th>\n",
       "      <td>Logistic Regression</td>\n",
       "      <td>79.47</td>\n",
       "      <td>79.32</td>\n",
       "    </tr>\n",
       "    <tr>\n",
       "      <th>2</th>\n",
       "      <td>Gaussian Naive Bayes</td>\n",
       "      <td>46.75</td>\n",
       "      <td>46.37</td>\n",
       "    </tr>\n",
       "  </tbody>\n",
       "</table>\n",
       "</div>"
      ],
      "text/plain": [
       "                  Model  Score  Test Score\n",
       "3              AdaBoost  79.74       79.70\n",
       "0   k-Nearest Neighbors  79.96       79.67\n",
       "1   Logistic Regression  79.47       79.32\n",
       "2  Gaussian Naive Bayes  46.75       46.37"
      ]
     },
     "execution_count": 106,
     "metadata": {},
     "output_type": "execute_result"
    }
   ],
   "source": [
    "models = pd.DataFrame({\n",
    "    'Model': [ \n",
    "        'k-Nearest Neighbors',\n",
    "        'Logistic Regression',\n",
    "        'Gaussian Naive Bayes',\n",
    "        'AdaBoost'\n",
    "    ],\n",
    "             \n",
    "    \n",
    "    'Score': [ \n",
    "        knn_score, \n",
    "        logreg_score,\n",
    "        gauss_score,\n",
    "        adb_score\n",
    "    ],\n",
    "    \n",
    "    'Test Score': [ \n",
    "        knn_test_score,\n",
    "        logreg_test_score,\n",
    "        gauss_test_score,\n",
    "        adb_test_score\n",
    "    ]})\n",
    "\n",
    "\n",
    "models.sort_values(by='Test Score', ascending=False)"
   ]
  },
  {
   "cell_type": "code",
   "execution_count": null,
   "metadata": {},
   "outputs": [],
   "source": []
  }
 ],
 "metadata": {
  "kernelspec": {
   "display_name": "Python 3",
   "language": "python",
   "name": "python3"
  },
  "language_info": {
   "codemirror_mode": {
    "name": "ipython",
    "version": 3
   },
   "file_extension": ".py",
   "mimetype": "text/x-python",
   "name": "python",
   "nbconvert_exporter": "python",
   "pygments_lexer": "ipython3",
   "version": "3.7.4"
  }
 },
 "nbformat": 4,
 "nbformat_minor": 4
}
