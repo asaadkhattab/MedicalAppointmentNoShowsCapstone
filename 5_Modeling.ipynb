{
 "cells": [
  {
   "cell_type": "markdown",
   "metadata": {},
   "source": [
    "# Medical Appointment No Shows Capstone"
   ]
  },
  {
   "cell_type": "markdown",
   "metadata": {},
   "source": [
    "## 5. MODELING\n",
    "- \"All models are wrong, but some are useful.\" – George Box"
   ]
  },
  {
   "cell_type": "code",
   "execution_count": 1,
   "metadata": {},
   "outputs": [],
   "source": [
    "import pandas as pd\n",
    "import numpy as np\n",
    "import seaborn as sns\n",
    "\n",
    "# plotting modules\n",
    "import matplotlib.pyplot as plt\n",
    "import seaborn as sns\n",
    "\n",
    "from datetime import datetime\n",
    "\n",
    "import os, sys\n",
    "import warnings\n",
    "warnings.filterwarnings('always') \n",
    "%matplotlib inline"
   ]
  },
  {
   "cell_type": "code",
   "execution_count": 30,
   "metadata": {},
   "outputs": [],
   "source": [
    "#SKLEARN \n",
    "\n",
    "#MODEL_SELECTION\n",
    "from sklearn.model_selection import train_test_split\n",
    "from sklearn.model_selection import cross_val_score\n",
    "from sklearn.model_selection import GridSearchCV\n",
    "from sklearn.model_selection import RandomizedSearchCV\n",
    "\n",
    "from sklearn.tree import DecisionTreeClassifier\n",
    "\n",
    "#LINEAR_MODEL\n",
    "from sklearn.linear_model import LinearRegression\n",
    "from sklearn.linear_model import LogisticRegression\n",
    "from sklearn.linear_model import Lasso, Ridge\n",
    "\n",
    "\n",
    "#ENSEMBLE \n",
    "from sklearn.ensemble import RandomForestClassifier\n",
    "from sklearn.ensemble import AdaBoostClassifier\n",
    "from sklearn.ensemble import GradientBoostingClassifier\n",
    "from sklearn.ensemble import BaggingClassifier\n",
    "\n",
    "#SVM\n",
    "from sklearn.svm import SVC\n",
    "\n",
    "from sklearn.neighbors import KNeighborsClassifier\n",
    "\n",
    "from sklearn.naive_bayes import GaussianNB\n",
    "from sklearn.naive_bayes import MultinomialNB\n",
    "\n",
    "#METRICS\n",
    "from sklearn.metrics import r2_score \n",
    "from sklearn.metrics import accuracy_score\n",
    "from sklearn.metrics import make_scorer\n",
    "from sklearn.metrics import balanced_accuracy_score, precision_score\n",
    "from sklearn.metrics import roc_curve, roc_auc_score\n",
    "from sklearn.metrics import explained_variance_score\n",
    "from sklearn.metrics import mean_squared_error, mean_absolute_error\n",
    "from sklearn.metrics import classification_report, confusion_matrix\n",
    "\n",
    "\n",
    "\n",
    "#PIPELINE \n",
    "from sklearn.pipeline import Pipeline\n",
    "from sklearn.pipeline import make_pipeline as mpl\n",
    "\n",
    "import pandas.util.testing as tm\n",
    "from xgboost import XGBClassifier"
   ]
  },
  {
   "cell_type": "code",
   "execution_count": 3,
   "metadata": {},
   "outputs": [],
   "source": [
    "#SCIPY\n",
    "from scipy.stats import randint"
   ]
  },
  {
   "cell_type": "code",
   "execution_count": null,
   "metadata": {},
   "outputs": [],
   "source": []
  },
  {
   "cell_type": "markdown",
   "metadata": {},
   "source": [
    "## Load Data"
   ]
  },
  {
   "cell_type": "code",
   "execution_count": 4,
   "metadata": {},
   "outputs": [
    {
     "data": {
      "text/html": [
       "<div>\n",
       "<style scoped>\n",
       "    .dataframe tbody tr th:only-of-type {\n",
       "        vertical-align: middle;\n",
       "    }\n",
       "\n",
       "    .dataframe tbody tr th {\n",
       "        vertical-align: top;\n",
       "    }\n",
       "\n",
       "    .dataframe thead th {\n",
       "        text-align: right;\n",
       "    }\n",
       "</style>\n",
       "<table border=\"1\" class=\"dataframe\">\n",
       "  <thead>\n",
       "    <tr style=\"text-align: right;\">\n",
       "      <th></th>\n",
       "      <th>Age</th>\n",
       "      <th>Scholarship</th>\n",
       "      <th>Hypertension</th>\n",
       "      <th>Diabetes</th>\n",
       "      <th>Alcoholism</th>\n",
       "      <th>Handicap</th>\n",
       "      <th>SMSSent</th>\n",
       "      <th>WaitingDays</th>\n",
       "      <th>ScheduledDay_Y</th>\n",
       "      <th>ScheduledDay_M</th>\n",
       "      <th>...</th>\n",
       "      <th>Neighborhood_SANTOS REIS</th>\n",
       "      <th>Neighborhood_SEGURANÇA DO LAR</th>\n",
       "      <th>Neighborhood_SOLON BORGES</th>\n",
       "      <th>Neighborhood_SÃO BENEDITO</th>\n",
       "      <th>Neighborhood_SÃO CRISTÓVÃO</th>\n",
       "      <th>Neighborhood_SÃO JOSÉ</th>\n",
       "      <th>Neighborhood_SÃO PEDRO</th>\n",
       "      <th>Neighborhood_TABUAZEIRO</th>\n",
       "      <th>Neighborhood_UNIVERSITÁRIO</th>\n",
       "      <th>Neighborhood_VILA RUBIM</th>\n",
       "    </tr>\n",
       "  </thead>\n",
       "  <tbody>\n",
       "    <tr>\n",
       "      <th>64219</th>\n",
       "      <td>40</td>\n",
       "      <td>0</td>\n",
       "      <td>0</td>\n",
       "      <td>0</td>\n",
       "      <td>0</td>\n",
       "      <td>0</td>\n",
       "      <td>1</td>\n",
       "      <td>3</td>\n",
       "      <td>2016</td>\n",
       "      <td>4</td>\n",
       "      <td>...</td>\n",
       "      <td>0.0</td>\n",
       "      <td>0.0</td>\n",
       "      <td>0.0</td>\n",
       "      <td>0.0</td>\n",
       "      <td>0.0</td>\n",
       "      <td>0.0</td>\n",
       "      <td>0.0</td>\n",
       "      <td>0.0</td>\n",
       "      <td>0.0</td>\n",
       "      <td>0.0</td>\n",
       "    </tr>\n",
       "    <tr>\n",
       "      <th>49718</th>\n",
       "      <td>42</td>\n",
       "      <td>0</td>\n",
       "      <td>0</td>\n",
       "      <td>0</td>\n",
       "      <td>0</td>\n",
       "      <td>0</td>\n",
       "      <td>0</td>\n",
       "      <td>-1</td>\n",
       "      <td>2016</td>\n",
       "      <td>5</td>\n",
       "      <td>...</td>\n",
       "      <td>0.0</td>\n",
       "      <td>0.0</td>\n",
       "      <td>0.0</td>\n",
       "      <td>0.0</td>\n",
       "      <td>0.0</td>\n",
       "      <td>0.0</td>\n",
       "      <td>0.0</td>\n",
       "      <td>0.0</td>\n",
       "      <td>0.0</td>\n",
       "      <td>0.0</td>\n",
       "    </tr>\n",
       "    <tr>\n",
       "      <th>27512</th>\n",
       "      <td>61</td>\n",
       "      <td>0</td>\n",
       "      <td>0</td>\n",
       "      <td>0</td>\n",
       "      <td>0</td>\n",
       "      <td>0</td>\n",
       "      <td>0</td>\n",
       "      <td>-1</td>\n",
       "      <td>2016</td>\n",
       "      <td>5</td>\n",
       "      <td>...</td>\n",
       "      <td>0.0</td>\n",
       "      <td>0.0</td>\n",
       "      <td>0.0</td>\n",
       "      <td>0.0</td>\n",
       "      <td>0.0</td>\n",
       "      <td>0.0</td>\n",
       "      <td>0.0</td>\n",
       "      <td>0.0</td>\n",
       "      <td>0.0</td>\n",
       "      <td>0.0</td>\n",
       "    </tr>\n",
       "    <tr>\n",
       "      <th>81288</th>\n",
       "      <td>16</td>\n",
       "      <td>0</td>\n",
       "      <td>0</td>\n",
       "      <td>0</td>\n",
       "      <td>0</td>\n",
       "      <td>0</td>\n",
       "      <td>0</td>\n",
       "      <td>-1</td>\n",
       "      <td>2016</td>\n",
       "      <td>5</td>\n",
       "      <td>...</td>\n",
       "      <td>0.0</td>\n",
       "      <td>0.0</td>\n",
       "      <td>0.0</td>\n",
       "      <td>0.0</td>\n",
       "      <td>0.0</td>\n",
       "      <td>0.0</td>\n",
       "      <td>0.0</td>\n",
       "      <td>0.0</td>\n",
       "      <td>0.0</td>\n",
       "      <td>0.0</td>\n",
       "    </tr>\n",
       "    <tr>\n",
       "      <th>60812</th>\n",
       "      <td>2</td>\n",
       "      <td>0</td>\n",
       "      <td>0</td>\n",
       "      <td>0</td>\n",
       "      <td>0</td>\n",
       "      <td>0</td>\n",
       "      <td>0</td>\n",
       "      <td>-1</td>\n",
       "      <td>2016</td>\n",
       "      <td>5</td>\n",
       "      <td>...</td>\n",
       "      <td>0.0</td>\n",
       "      <td>0.0</td>\n",
       "      <td>0.0</td>\n",
       "      <td>0.0</td>\n",
       "      <td>0.0</td>\n",
       "      <td>0.0</td>\n",
       "      <td>0.0</td>\n",
       "      <td>0.0</td>\n",
       "      <td>0.0</td>\n",
       "      <td>0.0</td>\n",
       "    </tr>\n",
       "  </tbody>\n",
       "</table>\n",
       "<p>5 rows × 95 columns</p>\n",
       "</div>"
      ],
      "text/plain": [
       "       Age  Scholarship  Hypertension  Diabetes  Alcoholism  Handicap  \\\n",
       "64219   40            0             0         0           0         0   \n",
       "49718   42            0             0         0           0         0   \n",
       "27512   61            0             0         0           0         0   \n",
       "81288   16            0             0         0           0         0   \n",
       "60812    2            0             0         0           0         0   \n",
       "\n",
       "       SMSSent  WaitingDays  ScheduledDay_Y  ScheduledDay_M  ...  \\\n",
       "64219        1            3            2016               4  ...   \n",
       "49718        0           -1            2016               5  ...   \n",
       "27512        0           -1            2016               5  ...   \n",
       "81288        0           -1            2016               5  ...   \n",
       "60812        0           -1            2016               5  ...   \n",
       "\n",
       "       Neighborhood_SANTOS REIS  Neighborhood_SEGURANÇA DO LAR  \\\n",
       "64219                       0.0                            0.0   \n",
       "49718                       0.0                            0.0   \n",
       "27512                       0.0                            0.0   \n",
       "81288                       0.0                            0.0   \n",
       "60812                       0.0                            0.0   \n",
       "\n",
       "       Neighborhood_SOLON BORGES  Neighborhood_SÃO BENEDITO  \\\n",
       "64219                        0.0                        0.0   \n",
       "49718                        0.0                        0.0   \n",
       "27512                        0.0                        0.0   \n",
       "81288                        0.0                        0.0   \n",
       "60812                        0.0                        0.0   \n",
       "\n",
       "       Neighborhood_SÃO CRISTÓVÃO  Neighborhood_SÃO JOSÉ  \\\n",
       "64219                         0.0                    0.0   \n",
       "49718                         0.0                    0.0   \n",
       "27512                         0.0                    0.0   \n",
       "81288                         0.0                    0.0   \n",
       "60812                         0.0                    0.0   \n",
       "\n",
       "       Neighborhood_SÃO PEDRO  Neighborhood_TABUAZEIRO  \\\n",
       "64219                     0.0                      0.0   \n",
       "49718                     0.0                      0.0   \n",
       "27512                     0.0                      0.0   \n",
       "81288                     0.0                      0.0   \n",
       "60812                     0.0                      0.0   \n",
       "\n",
       "       Neighborhood_UNIVERSITÁRIO  Neighborhood_VILA RUBIM  \n",
       "64219                         0.0                      0.0  \n",
       "49718                         0.0                      0.0  \n",
       "27512                         0.0                      0.0  \n",
       "81288                         0.0                      0.0  \n",
       "60812                         0.0                      0.0  \n",
       "\n",
       "[5 rows x 95 columns]"
      ]
     },
     "execution_count": 4,
     "metadata": {},
     "output_type": "execute_result"
    }
   ],
   "source": [
    "path = 'data/df_ohe.csv'\n",
    "df_ohe = pd.read_csv(path, index_col=None) \n",
    "df_ohe.sample(5)"
   ]
  },
  {
   "cell_type": "markdown",
   "metadata": {},
   "source": [
    "### Train/Test Data"
   ]
  },
  {
   "cell_type": "code",
   "execution_count": 5,
   "metadata": {},
   "outputs": [
    {
     "name": "stdout",
     "output_type": "stream",
     "text": [
      "(82887, 93)\n",
      "(82887,)\n",
      "(27630, 93)\n",
      "(27630,)\n"
     ]
    }
   ],
   "source": [
    "X = df_ohe.drop(['NoShow_Yes','WaitingDays'], axis = 1)\n",
    "y = df_ohe['NoShow_Yes']\n",
    "\n",
    "SEED = 42\n",
    "TS = 0.25\n",
    "\n",
    "# Create training and test sets\n",
    "X_train, X_test, y_train, y_test = \\\n",
    "    train_test_split(X, y, test_size = TS, random_state=SEED, stratify=y)\n",
    "\n",
    "print (X_train.shape)\n",
    "print (y_train.shape)\n",
    "print (X_test.shape)\n",
    "print (y_test.shape)"
   ]
  },
  {
   "cell_type": "markdown",
   "metadata": {},
   "source": [
    "# 1. K-NEAREST NEIGHBORS\n",
    "- Model That classifies data based on its distance to training set data. A new data point is assigned a label based on the class that the majority of surrounding data points belong to. \n",
    "- “The k-nearest neighbors algorithm (KNN) is a non-parametric method used for classification and regression. In both cases, the input consists of the k closest training examples in the feature space. The output depends on whether k-NN is used for classification or regression”-Wikipedia"
   ]
  },
  {
   "cell_type": "code",
   "execution_count": 6,
   "metadata": {},
   "outputs": [
    {
     "name": "stdout",
     "output_type": "stream",
     "text": [
      "Confusion Matrix \n",
      " [[21958    93]\n",
      " [ 5505    74]]\n",
      "Classification Report \n",
      "               precision    recall  f1-score   support\n",
      "\n",
      "         0.0       0.80      1.00      0.89     22051\n",
      "         1.0       0.44      0.01      0.03      5579\n",
      "\n",
      "    accuracy                           0.80     27630\n",
      "   macro avg       0.62      0.50      0.46     27630\n",
      "weighted avg       0.73      0.80      0.71     27630\n",
      "\n",
      "ROC Score: 0.5045232650029491\n",
      "KNN Score: 79.84\n",
      "KNN Test Score: 79.84\n"
     ]
    }
   ],
   "source": [
    "# KNN Object\n",
    "knn = KNeighborsClassifier(n_neighbors=48, \n",
    "                           weights='uniform', algorithm='auto', \n",
    "                           leaf_size=30, p=2, metric='minkowski', \n",
    "                           metric_params=None, n_jobs=None) \n",
    "\n",
    "\n",
    "\n",
    "\n",
    "# Fit the classifier to the data\n",
    "knn.fit(X_train,y_train)  \n",
    "\n",
    "# Predict the labels for the training data X\n",
    "\n",
    "y_pred = knn.predict(X_test)  \n",
    "\n",
    "\n",
    "# Generate the confusion matrix and classification report\n",
    "print(\"Confusion Matrix \\n\", confusion_matrix(y_test,y_pred))\n",
    "print(\"Classification Report \\n\",classification_report(y_test,y_pred))\n",
    "\n",
    "#Checking performance our model with ROC Score.\n",
    "print(\"ROC Score:\",roc_auc_score(y_test, y_pred))\n",
    "\n",
    "knn_score = round(knn.score(X_train, y_train) * 100, 2)\n",
    "print(\"KNN Score:\", knn_score)\n",
    "\n",
    "knn_test_score = round(knn.score(X_test, y_test) * 100, 2)\n",
    "print(\"KNN Test Score:\", knn_score)"
   ]
  },
  {
   "cell_type": "code",
   "execution_count": 7,
   "metadata": {},
   "outputs": [
    {
     "data": {
      "image/png": "[encoded data removed]",
      "text/plain": [
       "<Figure size 432x288 with 1 Axes>"
      ]
     },
     "metadata": {
      "needs_background": "light"
     },
     "output_type": "display_data"
    }
   ],
   "source": [
    "# Setup arrays to store train and test accuracies\n",
    "neighbors = np.arange(1, 9)\n",
    "train_accuracy = np.empty(len(neighbors))\n",
    "test_accuracy = np.empty(len(neighbors))\n",
    "\n",
    "# Loop over different values of k\n",
    "for i, k in enumerate(neighbors):\n",
    "    # Setup a k-NN Classifier with k neighbors: knn\n",
    "    knn = KNeighborsClassifier(n_neighbors=k)\n",
    "\n",
    "    # Fit the classifier to the training data\n",
    "    knn.fit(X_train, y_train)\n",
    "    \n",
    "    #Compute accuracy on the training set\n",
    "    train_accuracy[i] = knn.score(X_train,y_train)\n",
    "\n",
    "    #Compute accuracy on the testing set\n",
    "    test_accuracy[i] = knn.score(X_test, y_test)\n",
    "\n",
    "# Generate plot\n",
    "plt.title('k-NN: Varying Number of Neighbors')\n",
    "plt.plot(neighbors, test_accuracy, label = 'Testing Accuracy')\n",
    "plt.plot(neighbors, train_accuracy, label = 'Training Accuracy')\n",
    "plt.legend()\n",
    "plt.xlabel('Number of Neighbors')\n",
    "plt.ylabel('Accuracy')\n",
    "plt.show()\n"
   ]
  },
  {
   "cell_type": "code",
   "execution_count": 8,
   "metadata": {},
   "outputs": [
    {
     "data": {
      "text/plain": [
       "{'n_neighbors': 48}"
      ]
     },
     "execution_count": 8,
     "metadata": {},
     "output_type": "execute_result"
    }
   ],
   "source": [
    "param_grid = {'n_neighbors': np.arange(1,50)}\n",
    "knn = KNeighborsClassifier()\n",
    "knn_cv = GridSearchCV(knn, param_grid,cv=5)\n",
    "knn_cv.fit(X_train,y_train)\n",
    "knn_cv.best_params_"
   ]
  },
  {
   "cell_type": "code",
   "execution_count": 9,
   "metadata": {},
   "outputs": [
    {
     "data": {
      "text/plain": [
       "0.7968921454682799"
      ]
     },
     "execution_count": 9,
     "metadata": {},
     "output_type": "execute_result"
    }
   ],
   "source": [
    "knn_cv.best_score_"
   ]
  },
  {
   "cell_type": "markdown",
   "metadata": {},
   "source": [
    "# 2. Logistic Regression Model\n",
    "Logistic regression is a supervised learning classification algorithm used to predict the probability of a target variable. The nature of target or dependent variable is dichotomous, which means there would be only two possible classes."
   ]
  },
  {
   "cell_type": "code",
   "execution_count": 10,
   "metadata": {},
   "outputs": [
    {
     "name": "stdout",
     "output_type": "stream",
     "text": [
      "[[21960    91]\n",
      " [ 5541    38]]\n",
      "              precision    recall  f1-score   support\n",
      "\n",
      "         0.0       0.80      1.00      0.89     22051\n",
      "         1.0       0.29      0.01      0.01      5579\n",
      "\n",
      "    accuracy                           0.80     27630\n",
      "   macro avg       0.55      0.50      0.45     27630\n",
      "weighted avg       0.70      0.80      0.71     27630\n",
      "\n",
      "Logistic Regression Training Score: \n",
      " 79.63\n",
      "Logistic Regression Test Score: \n",
      " 79.62\n",
      "Intercept: \n",
      " [2.09014828e-06]\n",
      "Accuracy: \n",
      " 0.7961635903003981\n"
     ]
    }
   ],
   "source": [
    "# Get the 1-dimensional flattened array of our response variable y by calling the ravel() function on y\n",
    "#y = y.ravel()\n",
    "\n",
    "# Create logistic regression\n",
    "logreg = LogisticRegression(solver='lbfgs', max_iter=7600)\n",
    "\n",
    "# Train the model using the training sets\n",
    "logreg.fit(X_train, y_train)\n",
    "\n",
    "# Make predictions using the testing set\n",
    "y_pred = logreg.predict(X_test)\n",
    "\n",
    "# Compute and print the confusion matrix and classification report\n",
    "print(confusion_matrix(y_test, y_pred))\n",
    "print(classification_report(y_test, y_pred))\n",
    "\n",
    "logreg_score = round(logreg.score(X_train, y_train) * 100, 2)\n",
    "logreg_test_score = round(logreg.score(X_test, y_test) * 100, 2)\n",
    "\n",
    "print('Logistic Regression Training Score: \\n', logreg_score)\n",
    "print('Logistic Regression Test Score: \\n', logreg_test_score)\n",
    "print('Intercept: \\n', logreg.intercept_)\n",
    "print('Accuracy: \\n', accuracy_score(y_test,y_pred))"
   ]
  },
  {
   "cell_type": "code",
   "execution_count": 11,
   "metadata": {},
   "outputs": [
    {
     "name": "stdout",
     "output_type": "stream",
     "text": [
      "79.5758064379849\n",
      "Average 5-Fold CV Score: 0.795758064379849\n"
     ]
    }
   ],
   "source": [
    "# Compute 5-fold cross-validation scovres: cv_scores\n",
    "#Will only work if max_iter is increased.\n",
    "cv_scores = cross_val_score(logreg, X_train, y_train, cv=5,scoring='accuracy').mean()\n",
    "print(cv_scores*100)\n",
    "print(\"Average 5-Fold CV Score: {}\".format(np.mean(cv_scores)))"
   ]
  },
  {
   "cell_type": "code",
   "execution_count": 12,
   "metadata": {},
   "outputs": [
    {
     "name": "stdout",
     "output_type": "stream",
     "text": [
      "R^2: 0.7961635903003981\n",
      "Root Mean Squared Error: 0.45148245779830903\n"
     ]
    }
   ],
   "source": [
    "# Compute and print R^2 and RMSE\n",
    "print(\"R^2: {}\".format(logreg.score(X_test, y_test)))\n",
    "rmse = np.sqrt(mean_squared_error(y_test, y_pred))\n",
    "print(\"Root Mean Squared Error: {}\".format(rmse))"
   ]
  },
  {
   "cell_type": "markdown",
   "metadata": {},
   "source": [
    "#### Plot ROC curve"
   ]
  },
  {
   "cell_type": "code",
   "execution_count": 13,
   "metadata": {},
   "outputs": [
    {
     "data": {
      "image/png": "[encoded data removed]",
      "text/plain": [
       "<Figure size 432x288 with 1 Axes>"
      ]
     },
     "metadata": {
      "needs_background": "light"
     },
     "output_type": "display_data"
    }
   ],
   "source": [
    "# Compute predicted probabilities: y_pred_prob\n",
    "y_pred_prob = logreg.predict_proba(X_test)[:,1]\n",
    "\n",
    "# Generate ROC curve values: fpr, tpr, thresholds\n",
    "fpr,tpr, thresholds = roc_curve(y_test,y_pred_prob)\n",
    "\n",
    "# Plot ROC curve\n",
    "plt.plot([0, 1], [0, 1], 'k--')\n",
    "plt.plot(fpr,tpr)\n",
    "plt.xlabel('False Positive Rate')\n",
    "plt.ylabel('True Positive Rate')\n",
    "plt.title('ROC Curve')\n",
    "plt.show()"
   ]
  },
  {
   "cell_type": "markdown",
   "metadata": {},
   "source": [
    "#### AUC Computation for the Logistic Regression Model"
   ]
  },
  {
   "cell_type": "code",
   "execution_count": 14,
   "metadata": {},
   "outputs": [
    {
     "name": "stdout",
     "output_type": "stream",
     "text": [
      "AUC: 0.6541090168939706\n",
      "AUC scores computed using 5-fold cross-validation: [0.64286463 0.63418693 0.62756999 0.65342611 0.66411513]\n"
     ]
    }
   ],
   "source": [
    "# Compute predicted probabilities: y_pred_prob\n",
    "y_pred_prob = logreg.predict_proba(X_test)[:,1]\n",
    "\n",
    "# Compute and print AUC score\n",
    "print(\"AUC: {}\".format(roc_auc_score(y_test,y_pred_prob)))\n",
    "\n",
    "# Compute cross-validated AUC scores: cv_auc\n",
    "cv_auc = cross_val_score(logreg, X,y,scoring='roc_auc', cv=5)\n",
    "\n",
    "# Print list of AUC scores\n",
    "print(\"AUC scores computed using 5-fold cross-validation: {}\".format(cv_auc))"
   ]
  },
  {
   "cell_type": "markdown",
   "metadata": {},
   "source": [
    "#### Hyperparameter tuning with GridSearchCV"
   ]
  },
  {
   "cell_type": "code",
   "execution_count": 15,
   "metadata": {},
   "outputs": [
    {
     "name": "stdout",
     "output_type": "stream",
     "text": [
      "Tuned Logistic Regression Parameters: {'C': 0.0007196856730011522}\n",
      "Best score is 0.6553861737785187\n"
     ]
    }
   ],
   "source": [
    "# Setup the hyperparameter grid\n",
    "c_space = np.logspace(-5, 8, 15)\n",
    "param_grid = {'C': c_space}\n",
    "\n",
    "# Instantiate a logistic regression classifier: logreg\n",
    "logreg = LogisticRegression(solver='lbfgs', max_iter=2000, class_weight='balanced')\n",
    "\n",
    "# Instantiate the GridSearchCV object: logreg_cv\n",
    "logreg_cv = GridSearchCV(logreg, param_grid,cv=5)\n",
    "\n",
    "# Fit it to the data\n",
    "logreg_cv.fit(X_train,y_train)\n",
    "\n",
    "# Print the tuned parameters and score\n",
    "print(\"Tuned Logistic Regression Parameters: {}\".format(logreg_cv.best_params_)) \n",
    "print(\"Best score is {}\".format(logreg_cv.best_score_))"
   ]
  },
  {
   "cell_type": "markdown",
   "metadata": {},
   "source": [
    "#### Hyperparameter tuning with RandomizedSearchCV"
   ]
  },
  {
   "cell_type": "code",
   "execution_count": 16,
   "metadata": {},
   "outputs": [
    {
     "name": "stdout",
     "output_type": "stream",
     "text": [
      "Tuned Decision Tree Parameters: {'criterion': 'gini', 'max_depth': 3, 'max_features': 3, 'min_samples_leaf': 5}\n",
      "Best score is 0.7980944108791878\n"
     ]
    }
   ],
   "source": [
    "# Setup the parameters and distributions to sample from: param_dist\n",
    "param_dist = {\"max_depth\": [3, None],\n",
    "              \"max_features\": randint(1, 9),\n",
    "              \"min_samples_leaf\": randint(1, 9),\n",
    "              \"criterion\": [\"gini\", \"entropy\"]}\n",
    "\n",
    "# Instantiate a Decision Tree classifier: tree\n",
    "tree = DecisionTreeClassifier()\n",
    "\n",
    "# Instantiate the RandomizedSearchCV object: tree_cv\n",
    "tree_cv = RandomizedSearchCV(tree, param_dist, cv=5)\n",
    "\n",
    "# Fit it to the data\n",
    "tree_cv.fit(X,y)\n",
    "\n",
    "# Print the tuned parameters and score\n",
    "print(\"Tuned Decision Tree Parameters: {}\".format(tree_cv.best_params_))\n",
    "print(\"Best score is {}\".format(tree_cv.best_score_))"
   ]
  },
  {
   "cell_type": "markdown",
   "metadata": {},
   "source": [
    "## 3. Gaussian Naive Bayes"
   ]
  },
  {
   "cell_type": "code",
   "execution_count": 20,
   "metadata": {},
   "outputs": [
    {
     "name": "stdout",
     "output_type": "stream",
     "text": [
      "[[ 8936 13115]\n",
      " [ 1909  3670]]\n",
      "              precision    recall  f1-score   support\n",
      "\n",
      "         0.0       0.82      0.41      0.54     22051\n",
      "         1.0       0.22      0.66      0.33      5579\n",
      "\n",
      "    accuracy                           0.46     27630\n",
      "   macro avg       0.52      0.53      0.44     27630\n",
      "weighted avg       0.70      0.46      0.50     27630\n",
      "\n",
      "Gaussian Score: \n",
      " 46.37\n",
      "Gaussian Test Score: \n",
      " 45.62\n",
      "Accuracy: \n",
      " 0.45624321389793704\n"
     ]
    }
   ],
   "source": [
    "gaussian = GaussianNB()\n",
    "gaussian.fit(X_train, y_train)\n",
    "#Predict Output\n",
    "y_pred= gaussian.predict(X_test)\n",
    "\n",
    "gauss_score = round(gaussian.score(X_train, y_train) * 100, 2)\n",
    "gauss_test_score = round(gaussian.score(X_test, y_test) * 100, 2)\n",
    "\n",
    "print(confusion_matrix(y_test,y_pred))\n",
    "print(classification_report(y_test,y_pred))\n",
    "\n",
    "print('Gaussian Score: \\n', gauss_score)\n",
    "print('Gaussian Test Score: \\n', gauss_test_score)\n",
    "print('Accuracy: \\n', accuracy_score(y_test,y_pred))"
   ]
  },
  {
   "cell_type": "code",
   "execution_count": null,
   "metadata": {},
   "outputs": [],
   "source": []
  },
  {
   "cell_type": "code",
   "execution_count": null,
   "metadata": {},
   "outputs": [],
   "source": []
  },
  {
   "cell_type": "markdown",
   "metadata": {},
   "source": [
    "# Boosting\n",
    "- Boosting: Ensemble method combining several weak learners to form a strong learner.\n",
    "- Weak learner: Model doing slightly better than random guessing.\n",
    "* Example of weak learner: Decision stump (CART whose maximum depth is 1).\n"
   ]
  },
  {
   "cell_type": "markdown",
   "metadata": {},
   "source": [
    "## 4. AdaBoost Model"
   ]
  },
  {
   "cell_type": "code",
   "execution_count": 21,
   "metadata": {},
   "outputs": [
    {
     "name": "stdout",
     "output_type": "stream",
     "text": [
      "ROC AUC score: 0.68\n",
      "AdaBoost Training Score:  79.53\n",
      "AdaBoost Test Score:  79.54\n"
     ]
    }
   ],
   "source": [
    "dt = DecisionTreeClassifier(max_depth=1,random_state=SEED)\n",
    "\n",
    "adb = AdaBoostClassifier(base_estimator=dt,n_estimators=100)\n",
    "\n",
    "adb.fit(X_train,y_train)\n",
    "\n",
    "y_pred_proba = adb.predict_proba(X_test)[:,1]\n",
    "\n",
    "adb_clf_roc_auc_score = roc_auc_score(y_test,y_pred_proba)\n",
    "\n",
    "print('ROC AUC score: {:.2f}'.format(adb_clf_roc_auc_score ))\n",
    "\n",
    "adb_score = round(adb.score(X_train, y_train) * 100, 2)\n",
    "adb_test_score = round(adb.score(X_test, y_test) * 100, 2)\n",
    "\n",
    "print('AdaBoost Training Score: ', adb_score)\n",
    "print('AdaBoost Test Score: ', adb_test_score)"
   ]
  },
  {
   "cell_type": "markdown",
   "metadata": {},
   "source": [
    "## 5. Gradient Boosting"
   ]
  },
  {
   "cell_type": "code",
   "execution_count": 22,
   "metadata": {},
   "outputs": [
    {
     "name": "stdout",
     "output_type": "stream",
     "text": [
      "Gradient Boosting Training Score: \n",
      " 80.46\n",
      "Gradient Boosting Test Score: \n",
      " 80.01\n",
      "Test set RMSE of gb: 0.447\n",
      "Accuracy: \n",
      " 0.8000723850886717\n"
     ]
    }
   ],
   "source": [
    "gb = GradientBoostingClassifier(max_depth=4, \n",
    "            n_estimators=300,\n",
    "            random_state=SEED)\n",
    "\n",
    "# Fit gb to the training set\n",
    "gb.fit(X_train,y_train)\n",
    "\n",
    "# Predict test set labels\n",
    "y_pred = gb.predict(X_test)\n",
    "\n",
    "# Import mean_squared_error as MSE\n",
    "from sklearn.metrics import mean_squared_error as MSE\n",
    "\n",
    "# Compute MSE\n",
    "mse_test = MSE(y_test,y_pred)\n",
    "\n",
    "# Compute RMSE\n",
    "rmse_test = MSE(y_test, y_pred)**(1/2)\n",
    "\n",
    "gb_score = round(gb.score(X_train, y_train) * 100, 2)\n",
    "gb_test_score = round(gb.score(X_test, y_test) * 100, 2)\n",
    "\n",
    "print('Gradient Boosting Training Score: ', gb_score)\n",
    "print('Gradient Boosting Test Score: ', gb_test_score)\n",
    "\n",
    "# Print RMSE\n",
    "print('Test set RMSE of gb: {:.3f}'.format(rmse_test))\n",
    "\n",
    "print('Accuracy: \\n', accuracy_score(y_test, y_pred))"
   ]
  },
  {
   "cell_type": "markdown",
   "metadata": {},
   "source": [
    "### Stochastic Gradient Boosting\n",
    "- Each Tree is trained on a random subset of rows of the training data."
   ]
  },
  {
   "cell_type": "code",
   "execution_count": 23,
   "metadata": {},
   "outputs": [
    {
     "name": "stdout",
     "output_type": "stream",
     "text": [
      "Test set RMSE of gb: 0.447\n",
      "Accuracy: \n",
      " 0.7998552298226566\n"
     ]
    }
   ],
   "source": [
    "sgbt = GradientBoostingClassifier(subsample=0.9,\n",
    "                                  max_depth=4, \n",
    "                                  n_estimators=300,\n",
    "                                  random_state=SEED)\n",
    "sgbt.fit(X_train,y_train)\n",
    "y_pred = sgbt.predict(X_test)\n",
    "\n",
    "mse_test = MSE(y_test,y_pred)\n",
    "# Compute RMSE\n",
    "rmse_test = MSE(y_test, y_pred)**(1/2)\n",
    "\n",
    "# Print RMSE\n",
    "print('Test set RMSE of gb: {:.3f}'.format(rmse_test))\n",
    "print('Accuracy: \\n', accuracy_score(y_test, y_pred))"
   ]
  },
  {
   "cell_type": "markdown",
   "metadata": {},
   "source": [
    "## 6. XGBOOST"
   ]
  },
  {
   "cell_type": "code",
   "execution_count": 24,
   "metadata": {},
   "outputs": [
    {
     "name": "stdout",
     "output_type": "stream",
     "text": [
      "Accuracy: 79.91 %\n",
      "XGBoost Training Score: \n",
      " 80.09\n",
      "XGBoost Test Score: \n",
      " 79.91\n"
     ]
    }
   ],
   "source": [
    "xg_cl = XGBClassifier(objective='binary:logistic',\n",
    "                         n_estimators=10, seed=SEED)\n",
    "\n",
    "xg_cl.fit(X_train,y_train)\n",
    "y_pred = xg_cl.predict(X_test)\n",
    "\n",
    "accuracy = float(np.sum(y_pred==y_test))/y_test.shape[0]\n",
    "print(\"Accuracy: %.2f\" % (accuracy*100),\"%\")\n",
    "\n",
    "xg_cl_score = round(xg_cl.score(X_train, y_train) * 100, 2)\n",
    "xg_cl_test_score = round(xg_cl.score(X_test, y_test) * 100, 2)\n",
    "\n",
    "print('XGBoost Training Score: ', xg_cl_score)\n",
    "print('XGBoost Test Score: ', xg_cl_test_score)"
   ]
  },
  {
   "cell_type": "code",
   "execution_count": null,
   "metadata": {},
   "outputs": [],
   "source": []
  },
  {
   "cell_type": "markdown",
   "metadata": {},
   "source": [
    "## 7. Decision Tree Model"
   ]
  },
  {
   "cell_type": "code",
   "execution_count": 25,
   "metadata": {},
   "outputs": [
    {
     "name": "stdout",
     "output_type": "stream",
     "text": [
      "DecisionTreeClassifier(criterion='entropy', max_depth=3, random_state=42)\n",
      "Decision Tree Training Score:  80.46\n",
      "Decision Tree  Test Score:  80.01\n"
     ]
    }
   ],
   "source": [
    "dtc = DecisionTreeClassifier(criterion=\"entropy\", \n",
    "                             random_state=SEED, \n",
    "                             max_depth=3)\n",
    "\n",
    "# Call fit() on entr_model, and pass in X_train and y_train, in that order \n",
    "dtc.fit(X_train, y_train)\n",
    "\n",
    "# Call predict() on entr_model with X_test passed to it, and assign the result to a variable y_pred \n",
    "y_pred = dtc.predict(X_test)\n",
    "\n",
    "# Assign y_pred the following: pd.Series(y_pred)\n",
    "y_pred = pd.Series(y_pred)\n",
    "\n",
    "print(dtc)\n",
    "\n",
    "dtc_score = round(gb.score(X_train, y_train) * 100, 2)\n",
    "dtc_test_score = round(gb.score(X_test, y_test) * 100, 2)\n",
    "\n",
    "print('Decision Tree Training Score: ', dtc_score)\n",
    "print('Decision Tree  Test Score: ', dtc_test_score)"
   ]
  },
  {
   "cell_type": "markdown",
   "metadata": {},
   "source": [
    "#### Bagging Classifier"
   ]
  },
  {
   "cell_type": "code",
   "execution_count": 32,
   "metadata": {},
   "outputs": [
    {
     "name": "stdout",
     "output_type": "stream",
     "text": [
      "Test set accuracy of bc: 0.78\n",
      "BaggingClassifier Training Score: 99.17\n",
      "BaggingClassifier Test Score: 77.99\n"
     ]
    }
   ],
   "source": [
    "\n",
    "dt = DecisionTreeClassifier(random_state=1)\n",
    "\n",
    "\n",
    "bgc = BaggingClassifier(base_estimator=dt, n_estimators=50, random_state=SEED)\n",
    "\n",
    "bgc.fit(X_train, y_train)\n",
    "\n",
    "y_pred = bgc.predict(X_test)\n",
    "\n",
    "# Evaluate acc_test\n",
    "acc_test = accuracy_score(y_test, y_pred)\n",
    "print('Test set accuracy of bc: {:.2f}'.format(acc_test)) \n",
    "\n",
    "bgc_score = round(bgc.score(X_train, y_train) * 100, 2)\n",
    "bgc_test_score = round(bgc.score(X_test, y_test) * 100, 2)\n",
    "\n",
    "print('BaggingClassifier Training Score:', bgc_score)\n",
    "print('BaggingClassifier Test Score:', bgc_test_score)"
   ]
  },
  {
   "cell_type": "markdown",
   "metadata": {},
   "source": [
    "## 8. Random Forest Model"
   ]
  },
  {
   "cell_type": "code",
   "execution_count": 26,
   "metadata": {},
   "outputs": [
    {
     "name": "stdout",
     "output_type": "stream",
     "text": [
      "Random Forest Training Score: 79.81\n",
      "Random Forest Test Score: 79.81\n"
     ]
    }
   ],
   "source": [
    "rf = RandomForestClassifier(max_depth=3, \n",
    "                            n_estimators=100,\n",
    "                            random_state=SEED,\n",
    "                            max_features = 'sqrt',\n",
    "                            n_jobs=-1)\n",
    "rf.fit(X_train, y_train)\n",
    "y_pred = rf.predict(X_test)\n",
    "y_pred = pd.Series(y_pred)\n",
    "rf\n",
    "\n",
    "rf_score = round(rf.score(X_train, y_train) * 100, 2)\n",
    "rf_test_score = round(rf.score(X_test, y_test) * 100, 2)\n",
    "\n",
    "print('Random Forest Training Score:', rf_score)\n",
    "print('Random Forest Test Score:', rf_test_score)"
   ]
  },
  {
   "cell_type": "markdown",
   "metadata": {},
   "source": [
    "## 9. Multinomial Naive Bayes"
   ]
  },
  {
   "cell_type": "code",
   "execution_count": 27,
   "metadata": {},
   "outputs": [
    {
     "name": "stdout",
     "output_type": "stream",
     "text": [
      "Multinomial Naive Bayes Training Score: 63.84\n",
      "Multinomial Naive Bayes Test Score: 63.56\n"
     ]
    }
   ],
   "source": [
    "mnb = MultinomialNB(alpha=0.01)\n",
    "\n",
    "mnb.fit(X_train, y_train)\n",
    "\n",
    "#y_pred = mnb.predict(X_test)\n",
    "\n",
    "\n",
    "mnb_score = round(mnb.score(X_train, y_train) * 100, 2)\n",
    "mnb_test_score = round(mnb.score(X_test, y_test) * 100, 2)\n",
    "\n",
    "print('Multinomial Naive Bayes Training Score:', mnb_score)\n",
    "print('Multinomial Naive Bayes Test Score:', mnb_test_score)"
   ]
  },
  {
   "cell_type": "markdown",
   "metadata": {},
   "source": [
    "## 10. Support Vector Machines"
   ]
  },
  {
   "cell_type": "code",
   "execution_count": null,
   "metadata": {},
   "outputs": [],
   "source": [
    "svm_clf = SVC(kernel='linear') # Linear Kernel\n",
    "\n",
    "#Train the model using the training sets\n",
    "svm_clf.fit(X_train, y_train)\n",
    "\n",
    "#Predict the response for test dataset\n",
    "y_pred = clf.predict(X_test)\n",
    "\n",
    "print(\"Precision:\", precision_score(y_test, y_pred))\n",
    "print(\"Recall:\", recall_score(y_test, y_pred))\n",
    "\n",
    "svm_clf_score = round(svm_clf.score(X_train, y_train) * 100, 2)\n",
    "svm_clf_test_score = round(svm_clf.score(X_test, y_test) * 100, 2)\n",
    "\n",
    "print('Support Vector Machines Training Score:', svm_clf_score)\n",
    "print('Support Vector Machines Test Score:', svm_clf_test_score)"
   ]
  },
  {
   "cell_type": "code",
   "execution_count": null,
   "metadata": {},
   "outputs": [],
   "source": [
    "# Instantiate an RBF SVM\n",
    "svm = SVC(kernel='linear')\n",
    "\n",
    "# Instantiate the GridSearchCV object and run the search\n",
    "parameters = {'C':[0.1, 1, 10], \n",
    "              'gamma':[0.00001, 0.0001, 0.001, 0.01, 0.1]}\n",
    "\n",
    "searcher = GridSearchCV(svm, parameters)\n",
    "searcher.fit(X_train, y_train)\n",
    "\n",
    "# Report the best parameters and the corresponding score\n",
    "print(\"Best CV params\", searcher.best_params_)\n",
    "print(\"Best CV accuracy\", searcher.best_score_)\n",
    "\n",
    "# Report the test accuracy using these best parameters\n",
    "print(\"Test accuracy of best grid search hypers:\", searcher.score(X_test, y_test))"
   ]
  },
  {
   "cell_type": "markdown",
   "metadata": {},
   "source": [
    "# Model Evaluation"
   ]
  },
  {
   "cell_type": "code",
   "execution_count": 33,
   "metadata": {},
   "outputs": [
    {
     "data": {
      "text/html": [
       "<div>\n",
       "<style scoped>\n",
       "    .dataframe tbody tr th:only-of-type {\n",
       "        vertical-align: middle;\n",
       "    }\n",
       "\n",
       "    .dataframe tbody tr th {\n",
       "        vertical-align: top;\n",
       "    }\n",
       "\n",
       "    .dataframe thead th {\n",
       "        text-align: right;\n",
       "    }\n",
       "</style>\n",
       "<table border=\"1\" class=\"dataframe\">\n",
       "  <thead>\n",
       "    <tr style=\"text-align: right;\">\n",
       "      <th></th>\n",
       "      <th>Model</th>\n",
       "      <th>Score</th>\n",
       "      <th>Test Score</th>\n",
       "    </tr>\n",
       "  </thead>\n",
       "  <tbody>\n",
       "    <tr>\n",
       "      <th>4</th>\n",
       "      <td>Gradient Boosting</td>\n",
       "      <td>80.46</td>\n",
       "      <td>80.01</td>\n",
       "    </tr>\n",
       "    <tr>\n",
       "      <th>6</th>\n",
       "      <td>Decision Tree</td>\n",
       "      <td>80.46</td>\n",
       "      <td>80.01</td>\n",
       "    </tr>\n",
       "    <tr>\n",
       "      <th>5</th>\n",
       "      <td>XGBoost</td>\n",
       "      <td>80.09</td>\n",
       "      <td>79.91</td>\n",
       "    </tr>\n",
       "    <tr>\n",
       "      <th>7</th>\n",
       "      <td>Random Forest</td>\n",
       "      <td>79.81</td>\n",
       "      <td>79.81</td>\n",
       "    </tr>\n",
       "    <tr>\n",
       "      <th>0</th>\n",
       "      <td>k-Nearest Neighbors</td>\n",
       "      <td>79.84</td>\n",
       "      <td>79.74</td>\n",
       "    </tr>\n",
       "    <tr>\n",
       "      <th>1</th>\n",
       "      <td>Logistic Regression</td>\n",
       "      <td>79.63</td>\n",
       "      <td>79.62</td>\n",
       "    </tr>\n",
       "    <tr>\n",
       "      <th>3</th>\n",
       "      <td>AdaBoost</td>\n",
       "      <td>79.53</td>\n",
       "      <td>79.54</td>\n",
       "    </tr>\n",
       "    <tr>\n",
       "      <th>8</th>\n",
       "      <td>Multinomial Naive Bayes</td>\n",
       "      <td>63.84</td>\n",
       "      <td>63.56</td>\n",
       "    </tr>\n",
       "    <tr>\n",
       "      <th>2</th>\n",
       "      <td>Gaussian Naive Bayes</td>\n",
       "      <td>46.37</td>\n",
       "      <td>45.62</td>\n",
       "    </tr>\n",
       "  </tbody>\n",
       "</table>\n",
       "</div>"
      ],
      "text/plain": [
       "                     Model  Score  Test Score\n",
       "4        Gradient Boosting  80.46       80.01\n",
       "6            Decision Tree  80.46       80.01\n",
       "5                  XGBoost  80.09       79.91\n",
       "7            Random Forest  79.81       79.81\n",
       "0      k-Nearest Neighbors  79.84       79.74\n",
       "1      Logistic Regression  79.63       79.62\n",
       "3                 AdaBoost  79.53       79.54\n",
       "8  Multinomial Naive Bayes  63.84       63.56\n",
       "2     Gaussian Naive Bayes  46.37       45.62"
      ]
     },
     "execution_count": 33,
     "metadata": {},
     "output_type": "execute_result"
    }
   ],
   "source": [
    "models = pd.DataFrame({\n",
    "    \n",
    "    'Model': [ \n",
    "        'k-Nearest Neighbors',\n",
    "        'Logistic Regression',\n",
    "        'Gaussian Naive Bayes',\n",
    "        'AdaBoost',\n",
    "        'Gradient Boosting',\n",
    "        'XGBoost',\n",
    "        'Decision Tree',\n",
    "        'Random Forest',\n",
    "        'Multinomial Naive Bayes'\n",
    "    ],\n",
    "             \n",
    "    \n",
    "    'Score': [ \n",
    "        knn_score, \n",
    "        logreg_score,\n",
    "        gauss_score,\n",
    "        adb_score,\n",
    "        gb_score,\n",
    "        xg_cl_score,\n",
    "        dtc_score,\n",
    "        rf_score,\n",
    "        mnb_score\n",
    "    ],\n",
    "    \n",
    "    'Test Score': [ \n",
    "        knn_test_score,\n",
    "        logreg_test_score,\n",
    "        gauss_test_score,\n",
    "        adb_test_score,\n",
    "        gb_test_score,\n",
    "        xg_cl_test_score,\n",
    "        dtc_test_score,\n",
    "        rf_test_score,\n",
    "        mnb_test_score\n",
    "    ]})\n",
    "\n",
    "\n",
    "models.sort_values(by='Test Score', ascending=False)"
   ]
  },
  {
   "cell_type": "code",
   "execution_count": null,
   "metadata": {},
   "outputs": [],
   "source": []
  }
 ],
 "metadata": {
  "kernelspec": {
   "display_name": "Python 3",
   "language": "python",
   "name": "python3"
  },
  "language_info": {
   "codemirror_mode": {
    "name": "ipython",
    "version": 3
   },
   "file_extension": ".py",
   "mimetype": "text/x-python",
   "name": "python",
   "nbconvert_exporter": "python",
   "pygments_lexer": "ipython3",
   "version": "3.7.4"
  }
 },
 "nbformat": 4,
 "nbformat_minor": 4
}
