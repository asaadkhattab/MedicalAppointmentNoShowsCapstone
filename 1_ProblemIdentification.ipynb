{
 "cells": [
  {
   "cell_type": "markdown",
   "metadata": {},
   "source": [
    "# Medical Appointment No Shows Capstone"
   ]
  },
  {
   "cell_type": "markdown",
   "metadata": {},
   "source": [
    "# 1. Problem Identification\n",
    "- Identify the correct problem to solve."
   ]
  },
  {
   "cell_type": "markdown",
   "metadata": {},
   "source": [
    "___"
   ]
  },
  {
   "cell_type": "markdown",
   "metadata": {},
   "source": [
    "<img src=\"img/doc.jpg\" alt=\"pic\" style=\"width: 650px;\"/>"
   ]
  },
  {
   "cell_type": "markdown",
   "metadata": {},
   "source": [
    "___"
   ]
  },
  {
   "cell_type": "markdown",
   "metadata": {},
   "source": [
    "##  <font color='blue'>Problem Statement</font>\n",
    "<strong>What are the top 5 attributes among Highlands Hospital’s patients that cause them to fail to show up for their scheduled appointments.</strong>"
   ]
  },
  {
   "cell_type": "markdown",
   "metadata": {},
   "source": [
    "## Summary\n",
    "<p>Did you know that - despite recent technological advancements and medical innovations - studies show that the US HealthCare system loses \\$150 billion annually due to patients no shows? A 'No show' is when a patient fails to appear for their scheduled appointment or cancels last minute. Private clinics are also taking a hit on this issue Research shows that physicians can lose on average \\$200 per unused time slot. Patients will have a negative impact as well since their illnesses will go untreated, their preventative services will be delayed, and their medication intake won’t be monitored </p>"
   ]
  },
  {
   "cell_type": "markdown",
   "metadata": {},
   "source": [
    "## Overview\n",
    "<p>As a new data analyst intern at Highlands Hospital working in the business intelligence department, I’ve been assigned to work with a team of data scientists to identify what are the reasons why patients aren’t showing up to their appointments. We will first practice on a dataset from Brazilian hospitals to analyze a couple of factors that can give us some insights on what to predict for the types of patients who don’t appear for their appointments at Highlands Hospital. \n",
    "The most important features in the dataset that will help us understand why patients aren’t showing up for their appointments: the time of day the appointment was scheduled, the text reminders, and the patient’s health conditions (diabetes, alcoholism, handicap, hypertension). The neighborhood and scholarship features will bring us some insights, but may not be beneficial to all hospitals and clinics. </p>\n"
   ]
  },
  {
   "cell_type": "markdown",
   "metadata": {},
   "source": [
    "## Context\n",
    "Highlands Hospital, a reputable hospital in the city, has been losing revenue due to patients not showing up for their scheduled appointment. The CEO is well aware of the problem and wants to reduce ‘no shows’ by determining the most and least common factors for why patients don’t show up for their appointments. \n"
   ]
  },
  {
   "cell_type": "markdown",
   "metadata": {},
   "source": [
    "## Criteria for Success\n",
    "Build a ML model that can accurately obtain and predict the types of patients that might not appear for their scheduled appointment. The model will be applied to the data of Brazilian hospitals, which will give insights for Highlands Hospital. \n"
   ]
  },
  {
   "cell_type": "markdown",
   "metadata": {},
   "source": [
    "## Scope of Solution Space\n",
    "Determine the top 5 important features that are useful to predict 'No-Shows'. Figure out if the text message service is helping to prevent no shows and whether or not to cancel that service from the Electronic Medical Record(EMR) Software. Build additional features out of existing data (Feature Engineering) and perform Exploratory Data Analysis.\n"
   ]
  },
  {
   "cell_type": "markdown",
   "metadata": {},
   "source": [
    "## Constraints within Solution Space\n",
    "Because we are working with only 14 features, we may not know what other factors affect the no-shows. Methods for patient outreach like email, voice messages, and portal notification are not available which would be great if those observations were in our data. We don’t have resources at the moment to gather new data in a timely manner. \n"
   ]
  },
  {
   "cell_type": "markdown",
   "metadata": {},
   "source": [
    "## Stakeholders to Provide Key Insight\n",
    "- Russell Manning - CEO\n",
    "- Stephanie Clay - CTO\n",
    "- Patrick Manson - Tech Lead "
   ]
  },
  {
   "cell_type": "markdown",
   "metadata": {},
   "source": [
    "## Data Acquisition and Key Data Sources\n",
    "Joni Hoppen, a Data Scientist from Aquarela Advanced Analytics, provided us with one CSV file: (data2016.csv). It is the only dataset available. \n",
    "\n",
    "https://www.kaggle.com/joniarroba/noshowappointments"
   ]
  },
  {
   "cell_type": "markdown",
   "metadata": {},
   "source": [
    "The following table includes all the 14 features of the dataset and their description.\n",
    "\n",
    "| | <strong>Features</strong> | <strong>Description</strong> |\n",
    "|------|------:|------|\n",
    "| 1 | PatientId | Identification of a patient|\n",
    "| 2 | AppointmentId | Identification of each appointment |\n",
    "| 3 | Gender | Male or Female|\n",
    "| 4 | ScheduledDay| The day of the ‘Actual’ appointment. |\n",
    "| 5 | AppointmentDay | The day someone called or registered the appointment. The day the appointment was scheduled. |\n",
    "| 6 | Age | How old the patient is. | \n",
    "| 7 | Neighborhood | \"Where the appointment takes place?\"|\n",
    "| 8 | Scholarship | (True or False) Observation https://en.wikipedia.org/wiki/Bolsa_Fam%C3%ADlia |\n",
    "| 9 | Hypertension| (True or False)|\n",
    "| 10 | Diabetes | (True or False)|\n",
    "| 11 | Alcoholism | (True or False)|\n",
    "| 12 | Handicap | (True or False)|\n",
    "| 13 | SMSSent | 1 or more messages sent to the patient|\n",
    "| 14 | NoShow | Did the patient show up for their appointment? (T or F)|\n",
    "\n",
    "\n"
   ]
  },
  {
   "cell_type": "markdown",
   "metadata": {},
   "source": [
    "#### Below is a snippet of the dataset."
   ]
  },
  {
   "cell_type": "code",
   "execution_count": 22,
   "metadata": {},
   "outputs": [
    {
     "data": {
      "text/html": [
       "<div>\n",
       "<style scoped>\n",
       "    .dataframe tbody tr th:only-of-type {\n",
       "        vertical-align: middle;\n",
       "    }\n",
       "\n",
       "    .dataframe tbody tr th {\n",
       "        vertical-align: top;\n",
       "    }\n",
       "\n",
       "    .dataframe thead th {\n",
       "        text-align: right;\n",
       "    }\n",
       "</style>\n",
       "<table border=\"1\" class=\"dataframe\">\n",
       "  <thead>\n",
       "    <tr style=\"text-align: right;\">\n",
       "      <th></th>\n",
       "      <th>PatientId</th>\n",
       "      <th>AppointmentID</th>\n",
       "      <th>Gender</th>\n",
       "      <th>ScheduledDay</th>\n",
       "      <th>AppointmentDay</th>\n",
       "      <th>Age</th>\n",
       "      <th>Neighbourhood</th>\n",
       "      <th>Scholarship</th>\n",
       "      <th>Hipertension</th>\n",
       "      <th>Diabetes</th>\n",
       "      <th>Alcoholism</th>\n",
       "      <th>Handcap</th>\n",
       "      <th>SMS_received</th>\n",
       "      <th>No-show</th>\n",
       "    </tr>\n",
       "  </thead>\n",
       "  <tbody>\n",
       "    <tr>\n",
       "      <th>17146</th>\n",
       "      <td>5.496198e+12</td>\n",
       "      <td>5587429</td>\n",
       "      <td>M</td>\n",
       "      <td>2016-04-15T08:39:47Z</td>\n",
       "      <td>2016-05-12T00:00:00Z</td>\n",
       "      <td>33</td>\n",
       "      <td>RESISTÊNCIA</td>\n",
       "      <td>0</td>\n",
       "      <td>0</td>\n",
       "      <td>0</td>\n",
       "      <td>0</td>\n",
       "      <td>0</td>\n",
       "      <td>1</td>\n",
       "      <td>No</td>\n",
       "    </tr>\n",
       "    <tr>\n",
       "      <th>25859</th>\n",
       "      <td>6.228594e+09</td>\n",
       "      <td>5661294</td>\n",
       "      <td>F</td>\n",
       "      <td>2016-05-05T07:21:31Z</td>\n",
       "      <td>2016-05-16T00:00:00Z</td>\n",
       "      <td>53</td>\n",
       "      <td>ESTRELINHA</td>\n",
       "      <td>0</td>\n",
       "      <td>0</td>\n",
       "      <td>0</td>\n",
       "      <td>0</td>\n",
       "      <td>0</td>\n",
       "      <td>0</td>\n",
       "      <td>No</td>\n",
       "    </tr>\n",
       "    <tr>\n",
       "      <th>46931</th>\n",
       "      <td>5.891636e+13</td>\n",
       "      <td>5705010</td>\n",
       "      <td>M</td>\n",
       "      <td>2016-05-16T17:23:19Z</td>\n",
       "      <td>2016-05-30T00:00:00Z</td>\n",
       "      <td>67</td>\n",
       "      <td>MARUÍPE</td>\n",
       "      <td>0</td>\n",
       "      <td>1</td>\n",
       "      <td>0</td>\n",
       "      <td>0</td>\n",
       "      <td>0</td>\n",
       "      <td>0</td>\n",
       "      <td>No</td>\n",
       "    </tr>\n",
       "    <tr>\n",
       "      <th>99618</th>\n",
       "      <td>3.653988e+12</td>\n",
       "      <td>5768153</td>\n",
       "      <td>F</td>\n",
       "      <td>2016-06-03T07:22:19Z</td>\n",
       "      <td>2016-06-07T00:00:00Z</td>\n",
       "      <td>59</td>\n",
       "      <td>GOIABEIRAS</td>\n",
       "      <td>0</td>\n",
       "      <td>1</td>\n",
       "      <td>0</td>\n",
       "      <td>0</td>\n",
       "      <td>0</td>\n",
       "      <td>1</td>\n",
       "      <td>No</td>\n",
       "    </tr>\n",
       "    <tr>\n",
       "      <th>70039</th>\n",
       "      <td>8.438419e+11</td>\n",
       "      <td>5695687</td>\n",
       "      <td>F</td>\n",
       "      <td>2016-05-13T10:43:47Z</td>\n",
       "      <td>2016-05-16T00:00:00Z</td>\n",
       "      <td>29</td>\n",
       "      <td>SÃO PEDRO</td>\n",
       "      <td>1</td>\n",
       "      <td>0</td>\n",
       "      <td>0</td>\n",
       "      <td>0</td>\n",
       "      <td>0</td>\n",
       "      <td>0</td>\n",
       "      <td>No</td>\n",
       "    </tr>\n",
       "  </tbody>\n",
       "</table>\n",
       "</div>"
      ],
      "text/plain": [
       "          PatientId  AppointmentID Gender          ScheduledDay  \\\n",
       "17146  5.496198e+12        5587429      M  2016-04-15T08:39:47Z   \n",
       "25859  6.228594e+09        5661294      F  2016-05-05T07:21:31Z   \n",
       "46931  5.891636e+13        5705010      M  2016-05-16T17:23:19Z   \n",
       "99618  3.653988e+12        5768153      F  2016-06-03T07:22:19Z   \n",
       "70039  8.438419e+11        5695687      F  2016-05-13T10:43:47Z   \n",
       "\n",
       "             AppointmentDay  Age Neighbourhood  Scholarship  Hipertension  \\\n",
       "17146  2016-05-12T00:00:00Z   33   RESISTÊNCIA            0             0   \n",
       "25859  2016-05-16T00:00:00Z   53    ESTRELINHA            0             0   \n",
       "46931  2016-05-30T00:00:00Z   67       MARUÍPE            0             1   \n",
       "99618  2016-06-07T00:00:00Z   59    GOIABEIRAS            0             1   \n",
       "70039  2016-05-16T00:00:00Z   29     SÃO PEDRO            1             0   \n",
       "\n",
       "       Diabetes  Alcoholism  Handcap  SMS_received No-show  \n",
       "17146         0           0        0             1      No  \n",
       "25859         0           0        0             0      No  \n",
       "46931         0           0        0             0      No  \n",
       "99618         0           0        0             1      No  \n",
       "70039         0           0        0             0      No  "
      ]
     },
     "execution_count": 22,
     "metadata": {},
     "output_type": "execute_result"
    }
   ],
   "source": [
    "import pandas as pd\n",
    "df = pd.read_csv('data2016.csv')\n",
    "df.sample(5)"
   ]
  },
  {
   "cell_type": "code",
   "execution_count": 23,
   "metadata": {},
   "outputs": [
    {
     "name": "stdout",
     "output_type": "stream",
     "text": [
      "There are 110527(Rows) Appointments scheduled in this dataset\n"
     ]
    }
   ],
   "source": [
    "print(\"There are {}(Rows) Appointments scheduled in this dataset\".format(df.shape[0]))"
   ]
  },
  {
   "cell_type": "markdown",
   "metadata": {},
   "source": [
    "___"
   ]
  }
 ],
 "metadata": {
  "kernelspec": {
   "display_name": "Python 3",
   "language": "python",
   "name": "python3"
  },
  "language_info": {
   "codemirror_mode": {
    "name": "ipython",
    "version": 3
   },
   "file_extension": ".py",
   "mimetype": "text/x-python",
   "name": "python",
   "nbconvert_exporter": "python",
   "pygments_lexer": "ipython3",
   "version": "3.7.4"
  }
 },
 "nbformat": 4,
 "nbformat_minor": 4
}
