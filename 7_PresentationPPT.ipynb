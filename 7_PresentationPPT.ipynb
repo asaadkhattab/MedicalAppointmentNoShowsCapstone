{
 "cells": [
  {
   "cell_type": "markdown",
   "metadata": {},
   "source": [
    "# Medical Appointment No Shows Capstone"
   ]
  },
  {
   "cell_type": "markdown",
   "metadata": {},
   "source": [
    "# 7. Presentation"
   ]
  },
  {
   "cell_type": "code",
   "execution_count": 23,
   "metadata": {},
   "outputs": [],
   "source": [
    "from IPython.display import IFrame"
   ]
  },
  {
   "cell_type": "markdown",
   "metadata": {},
   "source": [
    "___"
   ]
  },
  {
   "cell_type": "code",
   "execution_count": 24,
   "metadata": {},
   "outputs": [
    {
     "data": {
      "text/html": [
       "\n",
       "        <iframe\n",
       "            width=\"900\"\n",
       "            height=\"569\"\n",
       "            src=\"https://docs.google.com/presentation/d/e/2PACX-1vRG_n3pv1uwCcaOaslah_ngGnArTsaN_CbUc1mxKv9gfEK69xRKvRf2epfd34RtSx--xp2OJXTbWWhO/embed??frameborder=0&align=center&allowfullscreen=true&mozallowfullscreen=true&webkitallowfullscreen=true\"\n",
       "            frameborder=\"0\"\n",
       "            allowfullscreen\n",
       "        ></iframe>\n",
       "        "
      ],
      "text/plain": [
       "<IPython.lib.display.IFrame at 0x7f945113bcd0>"
      ]
     },
     "execution_count": 24,
     "metadata": {},
     "output_type": "execute_result"
    }
   ],
   "source": [
    "embed = \"https://docs.google.com/presentation/d/e/2PACX-1vRG_n3pv1uwCcaOaslah_ngGnArTsaN_CbUc1mxKv9gfEK69xRKvRf2epfd34RtSx--xp2OJXTbWWhO/embed?\"\n",
    "IFrame(embed,frameborder=\"0\", width=\"900\", align=\"center\", height=\"569\", allowfullscreen=\"true\", mozallowfullscreen=\"true\", webkitallowfullscreen=\"true\")"
   ]
  },
  {
   "cell_type": "markdown",
   "metadata": {},
   "source": [
    "___"
   ]
  }
 ],
 "metadata": {
  "kernelspec": {
   "display_name": "Python 3",
   "language": "python",
   "name": "python3"
  },
  "language_info": {
   "codemirror_mode": {
    "name": "ipython",
    "version": 3
   },
   "file_extension": ".py",
   "mimetype": "text/x-python",
   "name": "python",
   "nbconvert_exporter": "python",
   "pygments_lexer": "ipython3",
   "version": "3.7.4"
  }
 },
 "nbformat": 4,
 "nbformat_minor": 4
}
