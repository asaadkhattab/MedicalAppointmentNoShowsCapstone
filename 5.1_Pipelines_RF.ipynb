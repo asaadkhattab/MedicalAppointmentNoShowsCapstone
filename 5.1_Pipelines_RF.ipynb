{
 "cells": [
  {
   "cell_type": "markdown",
   "metadata": {},
   "source": [
    "# Medical Appointment No Shows Capstone\n",
    "## Random Forest Model"
   ]
  },
  {
   "cell_type": "code",
   "execution_count": 10,
   "metadata": {},
   "outputs": [],
   "source": [
    "#Import necessary libraries\n",
    "import pandas as pd\n",
    "import numpy as np\n",
    "\n",
    "# Plotting modules\n",
    "import matplotlib.pyplot as plt\n",
    "import seaborn as sns\n",
    "\n",
    "# Analysing datetime\n",
    "from datetime import datetime as dt\n",
    "\n",
    "# File system manangement\n",
    "import os,sys\n",
    "\n",
    "# Suppress warnings \n",
    "import warnings\n",
    "warnings.filterwarnings('ignore')\n",
    "\n",
    "\n",
    "\n",
    "from IPython.display import Image\n",
    "from IPython.core.interactiveshell import InteractiveShell  \n",
    "InteractiveShell.ast_node_interactivity = \"all\"\n",
    "%matplotlib inline"
   ]
  },
  {
   "cell_type": "code",
   "execution_count": 11,
   "metadata": {},
   "outputs": [],
   "source": [
    "#MODEL_SELECTION\n",
    "from sklearn.model_selection import train_test_split\n",
    "from sklearn.model_selection import cross_val_score\n",
    "from sklearn.model_selection import GridSearchCV\n",
    "from sklearn.model_selection import RandomizedSearchCV\n",
    "\n",
    "#METRICS\n",
    "from sklearn.metrics import accuracy_score\n",
    "from sklearn.metrics import classification_report, confusion_matrix\n",
    "from sklearn.metrics import roc_curve, roc_auc_score, auc,explained_variance_score\n",
    "from sklearn.metrics import balanced_accuracy_score, precision_score, recall_score\n",
    "\n",
    "#TREE\n",
    "from sklearn.ensemble import RandomForestClassifier\n",
    "from sklearn.tree import export_graphviz\n",
    "\n",
    "\n",
    "#Preprocessing\n",
    "from sklearn.preprocessing import StandardScaler\n",
    "\n",
    "from sklearn.pipeline import Pipeline"
   ]
  },
  {
   "cell_type": "code",
   "execution_count": 4,
   "metadata": {},
   "outputs": [],
   "source": [
    "#SCIPY\n",
    "from scipy.stats import randint"
   ]
  },
  {
   "cell_type": "markdown",
   "metadata": {},
   "source": [
    "### Load Data"
   ]
  },
  {
   "cell_type": "markdown",
   "metadata": {},
   "source": [
    "#### OneHotEncoder Data"
   ]
  },
  {
   "cell_type": "code",
   "execution_count": 5,
   "metadata": {},
   "outputs": [
    {
     "data": {
      "text/html": [
       "<div>\n",
       "<style scoped>\n",
       "    .dataframe tbody tr th:only-of-type {\n",
       "        vertical-align: middle;\n",
       "    }\n",
       "\n",
       "    .dataframe tbody tr th {\n",
       "        vertical-align: top;\n",
       "    }\n",
       "\n",
       "    .dataframe thead th {\n",
       "        text-align: right;\n",
       "    }\n",
       "</style>\n",
       "<table border=\"1\" class=\"dataframe\">\n",
       "  <thead>\n",
       "    <tr style=\"text-align: right;\">\n",
       "      <th></th>\n",
       "      <th>Age</th>\n",
       "      <th>Scholarship</th>\n",
       "      <th>Hypertension</th>\n",
       "      <th>Diabetes</th>\n",
       "      <th>Alcoholism</th>\n",
       "      <th>Handicap</th>\n",
       "      <th>SMSSent</th>\n",
       "      <th>WaitingDays</th>\n",
       "      <th>ScheduledHour</th>\n",
       "      <th>ScheduledDay_Y</th>\n",
       "      <th>...</th>\n",
       "      <th>AppointmentDayWeekName_5</th>\n",
       "      <th>ScheduledDayMonthName_1</th>\n",
       "      <th>ScheduledDayMonthName_2</th>\n",
       "      <th>ScheduledDayMonthName_3</th>\n",
       "      <th>ScheduledDayMonthName_4</th>\n",
       "      <th>ScheduledDayMonthName_5</th>\n",
       "      <th>ScheduledDayMonthName_6</th>\n",
       "      <th>ScheduledDayMonthName_7</th>\n",
       "      <th>AppointmentDayMonthName_1</th>\n",
       "      <th>AppointmentDayMonthName_2</th>\n",
       "    </tr>\n",
       "  </thead>\n",
       "  <tbody>\n",
       "    <tr>\n",
       "      <th>94517</th>\n",
       "      <td>26</td>\n",
       "      <td>0</td>\n",
       "      <td>0</td>\n",
       "      <td>0</td>\n",
       "      <td>0</td>\n",
       "      <td>0</td>\n",
       "      <td>1</td>\n",
       "      <td>4</td>\n",
       "      <td>7</td>\n",
       "      <td>2016</td>\n",
       "      <td>...</td>\n",
       "      <td>0.0</td>\n",
       "      <td>0.0</td>\n",
       "      <td>0.0</td>\n",
       "      <td>0.0</td>\n",
       "      <td>1.0</td>\n",
       "      <td>0.0</td>\n",
       "      <td>0.0</td>\n",
       "      <td>0.0</td>\n",
       "      <td>1.0</td>\n",
       "      <td>0.0</td>\n",
       "    </tr>\n",
       "  </tbody>\n",
       "</table>\n",
       "<p>1 rows × 113 columns</p>\n",
       "</div>"
      ],
      "text/plain": [
       "       Age  Scholarship  Hypertension  Diabetes  Alcoholism  Handicap  \\\n",
       "94517   26            0             0         0           0         0   \n",
       "\n",
       "       SMSSent  WaitingDays  ScheduledHour  ScheduledDay_Y  ...  \\\n",
       "94517        1            4              7            2016  ...   \n",
       "\n",
       "       AppointmentDayWeekName_5  ScheduledDayMonthName_1  \\\n",
       "94517                       0.0                      0.0   \n",
       "\n",
       "       ScheduledDayMonthName_2  ScheduledDayMonthName_3  \\\n",
       "94517                      0.0                      0.0   \n",
       "\n",
       "       ScheduledDayMonthName_4  ScheduledDayMonthName_5  \\\n",
       "94517                      1.0                      0.0   \n",
       "\n",
       "       ScheduledDayMonthName_6  ScheduledDayMonthName_7  \\\n",
       "94517                      0.0                      0.0   \n",
       "\n",
       "       AppointmentDayMonthName_1  AppointmentDayMonthName_2  \n",
       "94517                        1.0                        0.0  \n",
       "\n",
       "[1 rows x 113 columns]"
      ]
     },
     "execution_count": 5,
     "metadata": {},
     "output_type": "execute_result"
    }
   ],
   "source": [
    "path = 'data/df_ohe.csv'\n",
    "df_ohe = pd.read_csv(path, index_col=None) \n",
    "df_ohe.sample()"
   ]
  },
  {
   "cell_type": "markdown",
   "metadata": {},
   "source": [
    "### Train/Test"
   ]
  },
  {
   "cell_type": "code",
   "execution_count": 12,
   "metadata": {},
   "outputs": [
    {
     "name": "stdout",
     "output_type": "stream",
     "text": [
      "(82887, 112)\n",
      "(82887,)\n",
      "(27630, 112)\n",
      "(27630,)\n"
     ]
    }
   ],
   "source": [
    "X = df_ohe.drop(['NoShow_1'], axis = 1)\n",
    "y = df_ohe['NoShow_1']\n",
    "\n",
    "SEED = 42\n",
    "TS = 0.25\n",
    "\n",
    "# Create training and test sets\n",
    "X_train, X_test, y_train, y_test = \\\n",
    "    train_test_split(X, y, test_size = TS, random_state=SEED, stratify=y)\n",
    "\n",
    "#Feature Scaling to prevent information leakage\n",
    "sc = StandardScaler()\n",
    "X_train = sc.fit_transform(X_train)\n",
    "X_test = sc.transform(X_test)\n",
    "\n",
    "print (X_train.shape)\n",
    "print (y_train.shape)\n",
    "print (X_test.shape)\n",
    "print (y_test.shape)"
   ]
  },
  {
   "cell_type": "markdown",
   "metadata": {},
   "source": [
    "___"
   ]
  },
  {
   "cell_type": "markdown",
   "metadata": {},
   "source": [
    "# Random Forest Classifier"
   ]
  },
  {
   "cell_type": "code",
   "execution_count": 37,
   "metadata": {},
   "outputs": [
    {
     "data": {
      "text/plain": [
       "RandomForestClassifier(criterion='entropy', n_estimators=350, random_state=42)"
      ]
     },
     "execution_count": 37,
     "metadata": {},
     "output_type": "execute_result"
    },
    {
     "name": "stdout",
     "output_type": "stream",
     "text": [
      "Random Forest Training Score: 99.75\n",
      "Random Forest Test Score: 80.32\n",
      "ROC Score: 74.899\n"
     ]
    }
   ],
   "source": [
    "MODEL_PARAMS = {\n",
    "    \"n_estimators\": 350,\n",
    "    \"criterion\": 'entropy',\n",
    "    \"max_depth\": None,\n",
    "    \"min_samples_split\":2,\n",
    "    \"min_samples_leaf\":1,\n",
    "    \"min_weight_fraction_leaf\":0.0,\n",
    "    \"max_features\":'auto',\n",
    "    \"max_leaf_nodes\":None,\n",
    "    \"min_impurity_decrease\":0.0,\n",
    "    \"min_impurity_split\":None,\n",
    "    \"bootstrap\":True,\n",
    "    \"oob_score\":False,\n",
    "    \"n_jobs\":None,\n",
    "    \"random_state\": SEED,\n",
    "    \"verbose\":0,\n",
    "    \"warm_start\":False,\n",
    "    \"class_weight\":None,\n",
    "    \"ccp_alpha\":0.0,\n",
    "    \"max_samples\":None,\n",
    "}\n",
    "\n",
    "rf = RandomForestClassifier(**MODEL_PARAMS)\n",
    "rf.fit(X_train, y_train)\n",
    "y_pred = rf.predict(X_test)\n",
    "y_pred_proba = rf.predict_proba(X_test)[:,1]\n",
    "\n",
    "\n",
    "rf_score = round(rf.score(X_train, y_train) * 100, 2)\n",
    "rf_test_score = round(rf.score(X_test, y_test) * 100, 2)\n",
    "\n",
    "print('Random Forest Training Score:', rf_score)\n",
    "print('Random Forest Test Score:', rf_test_score)\n",
    "\n",
    "\n",
    "#Checking performance on our model with ROC Score.\n",
    "rf_roc_score = round(roc_auc_score(y_test,y_pred_proba)*100,3)\n",
    "print(\"ROC Score:\", rf_roc_score)"
   ]
  },
  {
   "cell_type": "markdown",
   "metadata": {},
   "source": [
    "### ROC curve values: "
   ]
  },
  {
   "cell_type": "code",
   "execution_count": 38,
   "metadata": {},
   "outputs": [
    {
     "data": {
      "image/png": "[encoded data removed]",
      "text/plain": [
       "<Figure size 432x288 with 1 Axes>"
      ]
     },
     "metadata": {
      "needs_background": "light"
     },
     "output_type": "display_data"
    }
   ],
   "source": [
    "# Generate ROC curve values: fpr, tpr, thresholds\n",
    "fpr,tpr, thresholds = roc_curve(y_test,y_pred_proba)\n",
    "\n",
    "roc_auc = auc(fpr, tpr)\n",
    "\n",
    "# Plot ROC curve\n",
    "_ = plt.plot([0, 1], [0, 1], 'k--', label='naive classifier')\n",
    "_ = plt.plot(fpr,tpr, 'y',  label = 'AUC = %0.2f' % roc_auc)\n",
    "\n",
    "_ = plt.xlim([0, 1])\n",
    "_ = plt.ylim([0, 1])\n",
    "\n",
    "_ = plt.legend(prop={'size':10},loc = 'lower right')\n",
    "_ = plt.xlabel('False Positive Rate', size=12)\n",
    "_ = plt.ylabel('True Positive Rate', size=12)\n",
    "_ = plt.title('ROC Curve', size=15)\n",
    "_ = plt.show()"
   ]
  },
  {
   "cell_type": "markdown",
   "metadata": {},
   "source": [
    "___"
   ]
  },
  {
   "cell_type": "markdown",
   "metadata": {},
   "source": [
    "## Hyperparameter tuning with RandomizedSearchCV"
   ]
  },
  {
   "cell_type": "code",
   "execution_count": 39,
   "metadata": {},
   "outputs": [
    {
     "data": {
      "text/plain": [
       "RandomizedSearchCV(cv=10, estimator=RandomForestClassifier(random_state=42),\n",
       "                   param_distributions={'bootstrap': [True, False],\n",
       "                                        'criterion': ['gini', 'entropy'],\n",
       "                                        'max_depth': [3, 6, 10, 15, 20],\n",
       "                                        'max_features': ['auto', 'sqrt'],\n",
       "                                        'min_samples_leaf': [1, 2, 3, 5, 10,\n",
       "                                                             15],\n",
       "                                        'min_samples_split': [1, 2, 3, 5, 10,\n",
       "                                                              15, 20],\n",
       "                                        'n_estimators': [10, 50, 100, 200, 300,\n",
       "                                                         400, 500]},\n",
       "                   random_state=42, scoring='roc_auc')"
      ]
     },
     "execution_count": 39,
     "metadata": {},
     "output_type": "execute_result"
    },
    {
     "name": "stdout",
     "output_type": "stream",
     "text": [
      "Tuned Decision Tree Parameters: {'n_estimators': 500, 'min_samples_split': 15, 'min_samples_leaf': 15, 'max_features': 'auto', 'max_depth': 20, 'criterion': 'entropy', 'bootstrap': True}\n",
      "Best score is 0.7388926152890487\n"
     ]
    }
   ],
   "source": [
    "n_estimators = [10, 50, 100, 200, 300, 400, 500] \n",
    "max_features = ['auto', 'sqrt'] #log2\n",
    "max_depth = [3, 6, 10, 15, 20] \n",
    "criterion = ['gini', 'entropy']\n",
    "min_samples_leaf = [1,2,3,5,10,15]\n",
    "min_samples_split = [1,2,3,5,10,15,20]\n",
    "bootstrap = [True,False]\n",
    "\n",
    "# Setup the parameters and distributions to sample from: param_dist\n",
    "param_dist = {\"n_estimators\": n_estimators,\n",
    "              \"max_depth\": max_depth,\n",
    "              \"max_features\": max_features,\n",
    "              \"min_samples_leaf\": min_samples_leaf,\n",
    "              \"min_samples_split\": min_samples_split,\n",
    "              \"bootstrap\":bootstrap,\n",
    "              \"criterion\": criterion}\n",
    "\n",
    "# Instantiate a Decision Tree classifier: tree\n",
    "rfc = RandomForestClassifier(random_state=SEED)\n",
    "\n",
    "\n",
    "# Instantiate the RandomizedSearchCV object: tree_cv\n",
    "tree_cv = RandomizedSearchCV(rfc, param_dist, scoring=\"roc_auc\", random_state=SEED, cv=10)\n",
    "\n",
    "# Fit it to the data\n",
    "tree_cv.fit(X_train,y_train)\n",
    "\n",
    "# Print the tuned parameters and score\n",
    "print(\"Tuned Decision Tree Parameters: {}\".format(tree_cv.best_params_))\n",
    "print(\"Best score is {}\".format(tree_cv.best_score_))"
   ]
  },
  {
   "cell_type": "code",
   "execution_count": 32,
   "metadata": {},
   "outputs": [
    {
     "data": {
      "text/plain": [
       "RandomForestClassifier(criterion='entropy', max_depth=20, min_samples_leaf=15,\n",
       "                       min_samples_split=15, n_estimators=500, random_state=42)"
      ]
     },
     "execution_count": 32,
     "metadata": {},
     "output_type": "execute_result"
    },
    {
     "name": "stdout",
     "output_type": "stream",
     "text": [
      "Random Forest Training Score: 79.84\n",
      "Random Forest Test Score: 79.81\n",
      "ROC Score: 73.962\n"
     ]
    }
   ],
   "source": [
    "MODEL_PARAMS = {\n",
    "    \"n_estimators\": 500,\n",
    "    \"criterion\": 'entropy',\n",
    "    \"max_depth\": 20,\n",
    "    \"min_samples_split\":15,\n",
    "    \"min_samples_leaf\":15,\n",
    "    \"min_weight_fraction_leaf\":0.0,\n",
    "    \"max_features\":'auto',\n",
    "    \"max_leaf_nodes\":None,\n",
    "    \"min_impurity_decrease\":0.0,\n",
    "    \"min_impurity_split\":None,\n",
    "    \"bootstrap\":True,\n",
    "    \"oob_score\":False,\n",
    "    \"n_jobs\":None,\n",
    "    \"random_state\": SEED,\n",
    "    \"verbose\":0,\n",
    "    \"warm_start\":False,\n",
    "    \"class_weight\":None,\n",
    "    \"ccp_alpha\":0.0,\n",
    "    \"max_samples\":None,\n",
    "}\n",
    "\n",
    "rf = RandomForestClassifier(**MODEL_PARAMS)\n",
    "rf.fit(X_train, y_train)\n",
    "y_pred = rf.predict(X_test)\n",
    "y_pred_proba = rf.predict_proba(X_test)[:,1]\n",
    "\n",
    "\n",
    "rf_score = round(rf.score(X_train, y_train) * 100, 2)\n",
    "rf_test_score = round(rf.score(X_test, y_test) * 100, 2)\n",
    "\n",
    "print('Random Forest Training Score:', rf_score)\n",
    "print('Random Forest Test Score:', rf_test_score)\n",
    "\n",
    "\n",
    "#Checking performance on our model with ROC Score.\n",
    "rf_roc_score = round(roc_auc_score(y_test,y_pred_proba)*100,3)\n",
    "print(\"ROC Score:\", rf_roc_score)"
   ]
  },
  {
   "cell_type": "markdown",
   "metadata": {},
   "source": [
    "## Hyperparameter tuning with GridSearchCV"
   ]
  },
  {
   "cell_type": "code",
   "execution_count": null,
   "metadata": {},
   "outputs": [],
   "source": [
    "n_estimators = [100, 200] \n",
    "max_features = ['auto', 'sqrt', 'log2']\n",
    "max_depth = [3, 6, 10, 15, 20] \n",
    "criterion = ['gini', 'entropy']\n",
    "\n",
    "param_grid = { \n",
    "    'n_estimators':n_estimators,\n",
    "    'max_features': max_features,\n",
    "    'max_depth' : max_depth,\n",
    "    'criterion' :criterion,\n",
    "}\n",
    "\n",
    "rf = RandomForestClassifier() \n",
    "\n",
    "gs_rfc = GridSearchCV(estimator=rf, \n",
    "                      param_grid=param_grid, \n",
    "                      scoring='roc_auc',\n",
    "                      cv= 5)\n",
    "\n",
    "gs_rfc.fit(X_train, y_train)\n",
    "\n",
    "# Print the tuned parameters and score\n",
    "print(\"Tuned Decision Tree Parameters: {}\".format(gs_rfc.best_params_))\n",
    "print(\"Best score is {}\".format(gs_rfc.best_score_))\n",
    "print(gs_rfc.best_estimator_.get_params())"
   ]
  },
  {
   "cell_type": "markdown",
   "metadata": {},
   "source": [
    "___"
   ]
  },
  {
   "cell_type": "code",
   "execution_count": 38,
   "metadata": {},
   "outputs": [
    {
     "data": {
      "text/plain": [
       "RandomForestClassifier(criterion='entropy', max_depth=7, max_features=3,\n",
       "                       min_samples_leaf=3, n_estimators=300, random_state=42)"
      ]
     },
     "execution_count": 38,
     "metadata": {},
     "output_type": "execute_result"
    },
    {
     "name": "stdout",
     "output_type": "stream",
     "text": [
      "Random Forest Training Score: 79.81\n",
      "Random Forest Test Score: 79.81\n",
      "ROC Score: 70.583\n"
     ]
    }
   ],
   "source": [
    "MODEL_PARAMS = {\n",
    "    \"n_estimators\": 300,\n",
    "    \"criterion\": 'entropy',\n",
    "    \"max_depth\": 7,\n",
    "    \"min_samples_split\":2,\n",
    "    \"min_samples_leaf\":3,\n",
    "    \"min_weight_fraction_leaf\":0.0,\n",
    "    \"max_features\":3,\n",
    "    \"max_leaf_nodes\":None,\n",
    "    \"min_impurity_decrease\":0.0,\n",
    "    \"min_impurity_split\":None,\n",
    "    \"bootstrap\":True,\n",
    "    \"oob_score\":False,\n",
    "    \"n_jobs\":None,\n",
    "    \"random_state\": SEED,\n",
    "    \"verbose\":0,\n",
    "    \"warm_start\":False,\n",
    "    \"class_weight\":None,\n",
    "    \"ccp_alpha\":0.0,\n",
    "    \"max_samples\":None,\n",
    "}\n",
    "\n",
    "rf = RandomForestClassifier(**MODEL_PARAMS)\n",
    "rf.fit(X_train, y_train)\n",
    "y_pred = rf.predict(X_test)\n",
    "y_pred_proba = rf.predict_proba(X_test)[:,1]\n",
    "\n",
    "\n",
    "\n",
    "rf_score = round(rf.score(X_train, y_train) * 100, 2)\n",
    "rf_test_score = round(rf.score(X_test, y_test) * 100, 2)\n",
    "\n",
    "print('Random Forest Training Score:', rf_score)\n",
    "print('Random Forest Test Score:', rf_test_score)\n",
    "\n",
    "\n",
    "#Checking performance on our model with ROC Score.\n",
    "rf_roc_score = round(roc_auc_score(y_test,y_pred_proba)*100,3)\n",
    "print(\"ROC Score:\", rf_roc_score)"
   ]
  },
  {
   "cell_type": "code",
   "execution_count": null,
   "metadata": {},
   "outputs": [],
   "source": [
    "param_grid = {'n_estimators':np.arange(1,50)}\n",
    "knn = RandomForestClassifier()\n",
    "knn_cv= GridSearchCV(knn,param_grid,cv=5)\n",
    "knn_cv.fit(X_train,y_train)"
   ]
  },
  {
   "cell_type": "code",
   "execution_count": null,
   "metadata": {},
   "outputs": [],
   "source": []
  },
  {
   "cell_type": "code",
   "execution_count": 39,
   "metadata": {},
   "outputs": [
    {
     "ename": "ValueError",
     "evalue": "Length of feature_names, 82887 does not match number of features, 112",
     "output_type": "error",
     "traceback": [
      "\u001b[0;31m---------------------------------------------------------------------------\u001b[0m",
      "\u001b[0;31mValueError\u001b[0m                                Traceback (most recent call last)",
      "\u001b[0;32m<ipython-input-39-1867cca74307>\u001b[0m in \u001b[0;36m<module>\u001b[0;34m\u001b[0m\n\u001b[1;32m      8\u001b[0m                 \u001b[0mproportion\u001b[0m \u001b[0;34m=\u001b[0m \u001b[0;32mFalse\u001b[0m\u001b[0;34m,\u001b[0m\u001b[0;34m\u001b[0m\u001b[0;34m\u001b[0m\u001b[0m\n\u001b[1;32m      9\u001b[0m                 \u001b[0mprecision\u001b[0m \u001b[0;34m=\u001b[0m \u001b[0;36m2\u001b[0m\u001b[0;34m,\u001b[0m\u001b[0;34m\u001b[0m\u001b[0;34m\u001b[0m\u001b[0m\n\u001b[0;32m---> 10\u001b[0;31m                 filled = True)\n\u001b[0m\u001b[1;32m     11\u001b[0m \u001b[0;34m\u001b[0m\u001b[0m\n\u001b[1;32m     12\u001b[0m \u001b[0;31m# Convert to png using system command (requires Graphviz)\u001b[0m\u001b[0;34m\u001b[0m\u001b[0;34m\u001b[0m\u001b[0;34m\u001b[0m\u001b[0m\n",
      "\u001b[0;32m~/opt/anaconda3/lib/python3.7/site-packages/sklearn/utils/validation.py\u001b[0m in \u001b[0;36minner_f\u001b[0;34m(*args, **kwargs)\u001b[0m\n\u001b[1;32m     71\u001b[0m                           FutureWarning)\n\u001b[1;32m     72\u001b[0m         \u001b[0mkwargs\u001b[0m\u001b[0;34m.\u001b[0m\u001b[0mupdate\u001b[0m\u001b[0;34m(\u001b[0m\u001b[0;34m{\u001b[0m\u001b[0mk\u001b[0m\u001b[0;34m:\u001b[0m \u001b[0marg\u001b[0m \u001b[0;32mfor\u001b[0m \u001b[0mk\u001b[0m\u001b[0;34m,\u001b[0m \u001b[0marg\u001b[0m \u001b[0;32min\u001b[0m \u001b[0mzip\u001b[0m\u001b[0;34m(\u001b[0m\u001b[0msig\u001b[0m\u001b[0;34m.\u001b[0m\u001b[0mparameters\u001b[0m\u001b[0;34m,\u001b[0m \u001b[0margs\u001b[0m\u001b[0;34m)\u001b[0m\u001b[0;34m}\u001b[0m\u001b[0;34m)\u001b[0m\u001b[0;34m\u001b[0m\u001b[0;34m\u001b[0m\u001b[0m\n\u001b[0;32m---> 73\u001b[0;31m         \u001b[0;32mreturn\u001b[0m \u001b[0mf\u001b[0m\u001b[0;34m(\u001b[0m\u001b[0;34m**\u001b[0m\u001b[0mkwargs\u001b[0m\u001b[0;34m)\u001b[0m\u001b[0;34m\u001b[0m\u001b[0;34m\u001b[0m\u001b[0m\n\u001b[0m\u001b[1;32m     74\u001b[0m     \u001b[0;32mreturn\u001b[0m \u001b[0minner_f\u001b[0m\u001b[0;34m\u001b[0m\u001b[0;34m\u001b[0m\u001b[0m\n\u001b[1;32m     75\u001b[0m \u001b[0;34m\u001b[0m\u001b[0m\n",
      "\u001b[0;32m~/opt/anaconda3/lib/python3.7/site-packages/sklearn/tree/_export.py\u001b[0m in \u001b[0;36mexport_graphviz\u001b[0;34m(decision_tree, out_file, max_depth, feature_names, class_names, label, filled, leaves_parallel, impurity, node_ids, proportion, rotate, rounded, special_characters, precision)\u001b[0m\n\u001b[1;32m    781\u001b[0m             \u001b[0mrounded\u001b[0m\u001b[0;34m=\u001b[0m\u001b[0mrounded\u001b[0m\u001b[0;34m,\u001b[0m \u001b[0mspecial_characters\u001b[0m\u001b[0;34m=\u001b[0m\u001b[0mspecial_characters\u001b[0m\u001b[0;34m,\u001b[0m\u001b[0;34m\u001b[0m\u001b[0;34m\u001b[0m\u001b[0m\n\u001b[1;32m    782\u001b[0m             precision=precision)\n\u001b[0;32m--> 783\u001b[0;31m         \u001b[0mexporter\u001b[0m\u001b[0;34m.\u001b[0m\u001b[0mexport\u001b[0m\u001b[0;34m(\u001b[0m\u001b[0mdecision_tree\u001b[0m\u001b[0;34m)\u001b[0m\u001b[0;34m\u001b[0m\u001b[0;34m\u001b[0m\u001b[0m\n\u001b[0m\u001b[1;32m    784\u001b[0m \u001b[0;34m\u001b[0m\u001b[0m\n\u001b[1;32m    785\u001b[0m         \u001b[0;32mif\u001b[0m \u001b[0mreturn_string\u001b[0m\u001b[0;34m:\u001b[0m\u001b[0;34m\u001b[0m\u001b[0;34m\u001b[0m\u001b[0m\n",
      "\u001b[0;32m~/opt/anaconda3/lib/python3.7/site-packages/sklearn/tree/_export.py\u001b[0m in \u001b[0;36mexport\u001b[0;34m(self, decision_tree)\u001b[0m\n\u001b[1;32m    414\u001b[0m                                  \u001b[0;34m\"does not match number of features, %d\"\u001b[0m\u001b[0;34m\u001b[0m\u001b[0;34m\u001b[0m\u001b[0m\n\u001b[1;32m    415\u001b[0m                                  % (len(self.feature_names),\n\u001b[0;32m--> 416\u001b[0;31m                                     decision_tree.n_features_))\n\u001b[0m\u001b[1;32m    417\u001b[0m         \u001b[0;31m# each part writes to out_file\u001b[0m\u001b[0;34m\u001b[0m\u001b[0;34m\u001b[0m\u001b[0;34m\u001b[0m\u001b[0m\n\u001b[1;32m    418\u001b[0m         \u001b[0mself\u001b[0m\u001b[0;34m.\u001b[0m\u001b[0mhead\u001b[0m\u001b[0;34m(\u001b[0m\u001b[0;34m)\u001b[0m\u001b[0;34m\u001b[0m\u001b[0;34m\u001b[0m\u001b[0m\n",
      "\u001b[0;31mValueError\u001b[0m: Length of feature_names, 82887 does not match number of features, 112"
     ]
    }
   ],
   "source": [
    "estimator = rf.estimators_[5]\n",
    "\n",
    "# Export as dot file\n",
    "export_graphviz(estimator, out_file='tree.dot',\n",
    "                feature_names = X_train,\n",
    "                class_names = y_train,\n",
    "                rounded = True, \n",
    "                proportion = False,\n",
    "                precision = 2, \n",
    "                filled = True)\n",
    "\n",
    "# Convert to png using system command (requires Graphviz)\n",
    "from subprocess import call\n",
    "call(['dot', '-Tpng', 'tree.dot', '-o', 'tree.png', '-Gdpi=600'])\n",
    "\n",
    "# Display in jupyter notebook\n",
    "\n",
    "Image(filename = 'tree.png')"
   ]
  },
  {
   "cell_type": "code",
   "execution_count": 9,
   "metadata": {},
   "outputs": [
    {
     "name": "stdout",
     "output_type": "stream",
     "text": [
      "Feature ranking:\n",
      "1. Age (0.177744)\n",
      "2. WaitingDays (0.110100)\n",
      "3. ScheduledHour (0.106352)\n",
      "4. ScheduledDay_D (0.058988)\n",
      "5. AppointmentDay_D (0.052590)\n",
      "6. Gender_1 (0.031152)\n",
      "7. SMSSent (0.014983)\n",
      "8. Hypertension (0.013085)\n",
      "9. ScheduledDayWeekDay_4 (0.012907)\n",
      "10. ScheduledDayWeekDay_5 (0.012667)\n",
      "11. AppointmentDayWeekName_5 (0.012061)\n",
      "12. Scholarship (0.012013)\n",
      "13. AppointmentDayWeekName_4 (0.011714)\n",
      "14. ScheduledDayMonthName_6 (0.011705)\n",
      "15. ScheduledDayWeekDay_3 (0.011561)\n",
      "16. ScheduledDayWeekDay_1 (0.011375)\n",
      "17. AppointmentDayWeekName_1 (0.011064)\n",
      "18. AppointmentDayWeekName_3 (0.010377)\n",
      "19. Neighborhood_37 (0.010225)\n",
      "20. Neighborhood_42 (0.009399)\n",
      "21. Diabetes (0.008851)\n",
      "22. Neighborhood_58 (0.008418)\n",
      "23. Neighborhood_10 (0.007734)\n",
      "24. Neighborhood_8 (0.006866)\n",
      "25. Neighborhood_77 (0.006825)\n",
      "26. Neighborhood_68 (0.006477)\n",
      "27. Neighborhood_35 (0.006314)\n",
      "28. Neighborhood_76 (0.006139)\n",
      "29. Neighborhood_67 (0.006108)\n",
      "30. Neighborhood_39 (0.006100)\n",
      "31. Alcoholism (0.006096)\n",
      "32. Neighborhood_38 (0.005975)\n",
      "33. Neighborhood_9 (0.005915)\n",
      "34. AppointmentDayMonthName_2 (0.005876)\n",
      "35. Neighborhood_59 (0.005842)\n",
      "36. Neighborhood_65 (0.005804)\n",
      "37. Neighborhood_1 (0.005722)\n",
      "38. Neighborhood_49 (0.005710)\n",
      "39. Neighborhood_15 (0.005697)\n",
      "40. Neighborhood_75 (0.005614)\n",
      "41. Handicap (0.005439)\n",
      "42. Neighborhood_33 (0.005427)\n",
      "43. Neighborhood_36 (0.005405)\n",
      "44. Neighborhood_23 (0.005391)\n",
      "45. Neighborhood_43 (0.005327)\n",
      "46. Neighborhood_5 (0.005303)\n",
      "47. Neighborhood_74 (0.005114)\n",
      "48. Neighborhood_27 (0.005065)\n",
      "49. Neighborhood_30 (0.004816)\n",
      "50. ScheduledDayMonthName_4 (0.004704)\n",
      "51. AppointmentDayMonthName_1 (0.004396)\n",
      "52. Neighborhood_14 (0.004335)\n",
      "53. Neighborhood_69 (0.004294)\n",
      "54. Neighborhood_66 (0.004227)\n",
      "55. Neighborhood_55 (0.004065)\n",
      "56. Neighborhood_56 (0.004063)\n",
      "57. Neighborhood_73 (0.004007)\n",
      "58. Neighborhood_40 (0.003945)\n",
      "59. Neighborhood_13 (0.003622)\n",
      "60. Neighborhood_29 (0.003599)\n",
      "61. Neighborhood_26 (0.003567)\n",
      "62. Neighborhood_34 (0.003411)\n",
      "63. Neighborhood_54 (0.003188)\n",
      "64. ScheduledDayMonthName_5 (0.003154)\n",
      "65. Neighborhood_6 (0.003077)\n",
      "66. Neighborhood_51 (0.003030)\n",
      "67. Neighborhood_12 (0.002946)\n",
      "68. Neighborhood_57 (0.002850)\n",
      "69. Neighborhood_25 (0.002715)\n",
      "70. Neighborhood_19 (0.002631)\n",
      "71. Neighborhood_45 (0.002625)\n",
      "72. Neighborhood_79 (0.002622)\n",
      "73. Neighborhood_22 (0.002271)\n",
      "74. Neighborhood_21 (0.002221)\n",
      "75. Neighborhood_44 (0.002211)\n",
      "76. Neighborhood_41 (0.002170)\n",
      "77. Neighborhood_61 (0.002113)\n",
      "78. Neighborhood_70 (0.001997)\n",
      "79. Neighborhood_17 (0.001953)\n",
      "80. Neighborhood_60 (0.001795)\n",
      "81. Neighborhood_4 (0.001781)\n",
      "82. Neighborhood_64 (0.001708)\n",
      "83. Neighborhood_63 (0.001699)\n",
      "84. Neighborhood_52 (0.001693)\n",
      "85. Neighborhood_18 (0.001556)\n",
      "86. Neighborhood_72 (0.001489)\n",
      "87. Neighborhood_47 (0.001297)\n",
      "88. Neighborhood_7 (0.001269)\n",
      "89. Neighborhood_3 (0.001268)\n",
      "90. Neighborhood_11 (0.001200)\n",
      "91. Neighborhood_16 (0.001106)\n",
      "92. Neighborhood_20 (0.001068)\n",
      "93. Neighborhood_24 (0.001040)\n",
      "94. Neighborhood_2 (0.000988)\n",
      "95. Neighborhood_28 (0.000872)\n",
      "96. Neighborhood_62 (0.000715)\n",
      "97. Neighborhood_78 (0.000708)\n",
      "98. Neighborhood_71 (0.000615)\n",
      "99. Neighborhood_48 (0.000586)\n",
      "100. ScheduledDayMonthName_2 (0.000584)\n",
      "101. Neighborhood_46 (0.000461)\n",
      "102. Neighborhood_53 (0.000255)\n",
      "103. ScheduledDayMonthName_3 (0.000185)\n",
      "104. Neighborhood_31 (0.000154)\n",
      "105. AppointmentDayWeekName_2 (0.000148)\n",
      "106. ScheduledDay_Y (0.000089)\n",
      "107. Neighborhood_32 (0.000088)\n",
      "108. ScheduledDayMonthName_1 (0.000080)\n",
      "109. ScheduledDayWeekDay_2 (0.000066)\n",
      "110. Neighborhood_50 (0.000001)\n",
      "111. AppointmentDay_Y (0.000000)\n",
      "112. ScheduledDayMonthName_7 (0.000000)\n"
     ]
    }
   ],
   "source": [
    "# evaluate each feature's importance\n",
    "importances = rf.feature_importances_\n",
    "\n",
    "# sort by descending order of importances\n",
    "indices = np.argsort(importances)[::-1]\n",
    "\n",
    "#create sorted dictionary\n",
    "forest_importances = {}\n",
    "\n",
    "print(\"Feature ranking:\")\n",
    "for f in range(X.shape[1]):\n",
    "    forest_importances[X.columns[indices[f]]] = importances[indices[f]]\n",
    "    print(\"%d. %s (%f)\" % (f + 1, X.columns[indices[f]], importances[indices[f]]))"
   ]
  },
  {
   "cell_type": "code",
   "execution_count": null,
   "metadata": {},
   "outputs": [],
   "source": []
  }
 ],
 "metadata": {
  "kernelspec": {
   "display_name": "Python 3",
   "language": "python",
   "name": "python3"
  },
  "language_info": {
   "codemirror_mode": {
    "name": "ipython",
    "version": 3
   },
   "file_extension": ".py",
   "mimetype": "text/x-python",
   "name": "python",
   "nbconvert_exporter": "python",
   "pygments_lexer": "ipython3",
   "version": "3.7.4"
  }
 },
 "nbformat": 4,
 "nbformat_minor": 4
}
